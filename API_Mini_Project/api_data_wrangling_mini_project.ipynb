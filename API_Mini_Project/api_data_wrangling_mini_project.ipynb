{
 "cells": [
  {
   "cell_type": "markdown",
   "metadata": {},
   "source": [
    "This exercise will require you to pull some data from the Qunadl API. Qaundl is currently the most widely used aggregator of financial market data."
   ]
  },
  {
   "cell_type": "markdown",
   "metadata": {},
   "source": [
    "As a first step, you will need to register a free account on the http://www.quandl.com website."
   ]
  },
  {
   "cell_type": "markdown",
   "metadata": {},
   "source": [
    "After you register, you will be provided with a unique API key, that you should store:"
   ]
  },
  {
   "cell_type": "code",
   "execution_count": 1,
   "metadata": {
    "jupyter": {
     "outputs_hidden": true
    }
   },
   "outputs": [],
   "source": [
    "# Store the API key as a string - according to PEP8, constants are always named in all upper case\n",
    "API_KEY = 'gcDWs3NLL9XajVdurEx5'"
   ]
  },
  {
   "cell_type": "markdown",
   "metadata": {},
   "source": [
    "Qaundl has a large number of data sources, but, unfortunately, most of them require a Premium subscription. Still, there are also a good number of free datasets."
   ]
  },
  {
   "cell_type": "markdown",
   "metadata": {},
   "source": [
    "For this mini project, we will focus on equities data from the Frankfurt Stock Exhange (FSE), which is available for free. We'll try and analyze the stock prices of a company called Carl Zeiss Meditec, which manufactures tools for eye examinations, as well as medical lasers for laser eye surgery: https://www.zeiss.com/meditec/int/home.html. The company is listed under the stock ticker AFX_X."
   ]
  },
  {
   "cell_type": "markdown",
   "metadata": {},
   "source": [
    "You can find the detailed Quandl API instructions here: https://docs.quandl.com/docs/time-series"
   ]
  },
  {
   "cell_type": "markdown",
   "metadata": {},
   "source": [
    "While there is a dedicated Python package for connecting to the Quandl API, we would prefer that you use the *requests* package, which can be easily downloaded using *pip* or *conda*. You can find the documentation for the package here: http://docs.python-requests.org/en/master/ "
   ]
  },
  {
   "cell_type": "markdown",
   "metadata": {},
   "source": [
    "Finally, apart from the *requests* package, you are encouraged to not use any third party Python packages, such as *pandas*, and instead focus on what's available in the Python Standard Library (the *collections* module might come in handy: https://pymotw.com/3/collections/ ).\n",
    "Also, since you won't have access to DataFrames, you are encouraged to us Python's native data structures - preferably dictionaries, though some questions can also be answered using lists.\n",
    "You can read more on these data structures here: https://docs.python.org/3/tutorial/datastructures.html"
   ]
  },
  {
   "cell_type": "markdown",
   "metadata": {},
   "source": [
    "Keep in mind that the JSON responses you will be getting from the API map almost one-to-one to Python's dictionaries. Unfortunately, they can be very nested, so make sure you read up on indexing dictionaries in the documentation provided above."
   ]
  },
  {
   "cell_type": "code",
   "execution_count": 2,
   "metadata": {
    "jupyter": {
     "outputs_hidden": true
    }
   },
   "outputs": [],
   "source": [
    "# First, import the relevant modules\n",
    "import requests\n",
    "import pandas as pd\n"
   ]
  },
  {
   "cell_type": "markdown",
   "metadata": {},
   "source": [
    "Note: API's can change a bit with each version, for this exercise it is reccomended to use the \"V3\" quandl api at `https://www.quandl.com/api/v3/`"
   ]
  },
  {
   "cell_type": "code",
   "execution_count": 5,
   "metadata": {
    "jupyter": {
     "outputs_hidden": true
    }
   },
   "outputs": [],
   "source": [
    "# Now, call the Quandl API and pull out a small sample of the data (only one day) to get a glimpse\n",
    "# into the JSON structure that will be returned\n",
    "url = 'https://www.quandl.com/api/v3/datasets/FSE/AFX_X/data.json?start_date=2018-07-30&end_date=2018-07-31&api_key=gcDWs3NLL9XajVdurEx5'\n",
    "r = requests.get(url)"
   ]
  },
  {
   "cell_type": "code",
   "execution_count": 6,
   "metadata": {
    "jupyter": {
     "outputs_hidden": true
    }
   },
   "outputs": [
    {
     "name": "stdout",
     "output_type": "stream",
     "text": [
      "dataset_data:  {'limit': None, 'transform': None, 'column_index': None, 'column_names': ['Date', 'Open', 'High', 'Low', 'Close', 'Change', 'Traded Volume', 'Turnover', 'Last Price of the Day', 'Daily Traded Units', 'Daily Turnover'], 'start_date': '2018-07-30', 'end_date': '2018-07-31', 'frequency': 'daily', 'data': [['2018-07-31', None, 67.55, 65.9, 66.45, None, 84168.0, 5597404.0, None, None, None], ['2018-07-30', None, 67.35, 66.85, 67.2, None, 35731.0, 2399532.0, None, None, None]], 'collapse': None, 'order': None}\n"
     ]
    }
   ],
   "source": [
    "# Inspect the JSON structure of the object you created, and take note of how nested it is,\n",
    "# as well as the overall structure\n",
    "json_data = r.json()\n",
    "\n",
    "for k in json_data.keys():\n",
    "    print(k + ': ', json_data[k])"
   ]
  },
  {
   "cell_type": "markdown",
   "metadata": {},
   "source": [
    "These are your tasks for this mini project:\n",
    "\n",
    "1. Collect data from the Franfurt Stock Exchange, for the ticker AFX_X, for the whole year 2017 (keep in mind that the date format is YYYY-MM-DD).\n",
    "2. Convert the returned JSON object into a Python dictionary.\n",
    "3. Calculate what the highest and lowest opening prices were for the stock in this period.\n",
    "4. What was the largest change in any one day (based on High and Low price)?\n",
    "5. What was the largest change between any two days (based on Closing Price)?\n",
    "6. What was the average daily trading volume during this year?\n",
    "7. (Optional) What was the median trading volume during this year. (Note: you may need to implement your own function for calculating the median.)"
   ]
  },
  {
   "cell_type": "code",
   "execution_count": 8,
   "metadata": {
    "jupyter": {
     "outputs_hidden": true
    }
   },
   "outputs": [],
   "source": [
    "url2 = 'https://www.quandl.com/api/v3/datasets/FSE/AFX_X/data.json?start_date=2017-01-01&end_date=2017-12-31&api_key=gcDWs3NLL9XajVdurEx5'\n",
    "r2 = requests.get(url2)"
   ]
  },
  {
   "cell_type": "code",
   "execution_count": 20,
   "metadata": {
    "scrolled": true
   },
   "outputs": [],
   "source": [
    "json_data2 = r2.json()\n",
    "json_data = json_data2['dataset_data']['data']"
   ]
  },
  {
   "cell_type": "code",
   "execution_count": 26,
   "metadata": {
    "scrolled": true
   },
   "outputs": [
    {
     "name": "stdout",
     "output_type": "stream",
     "text": [
      "['Date', 'Open', 'High', 'Low', 'Close', 'Change', 'Traded Volume', 'Turnover', 'Last Price of the Day', 'Daily Traded Units', 'Daily Turnover']\n"
     ]
    }
   ],
   "source": [
    "json_keys = json_data2['dataset_data']['column_names']\n",
    "print(json_keys)"
   ]
  },
  {
   "cell_type": "code",
   "execution_count": 37,
   "metadata": {
    "scrolled": true
   },
   "outputs": [
    {
     "name": "stdout",
     "output_type": "stream",
     "text": [
      "             0      1      2      3      4   5         6          7     8   \\\n",
      "0    2017-12-29  51.76  51.94  51.45  51.76 NaN   34640.0  1792304.0  None   \n",
      "1    2017-12-28  51.65  51.82  51.43  51.60 NaN   40660.0  2099024.0  None   \n",
      "2    2017-12-27  51.45  51.89  50.76  51.82 NaN   57452.0  2957018.0  None   \n",
      "3    2017-12-22  51.05  51.50  50.92  51.32 NaN   71165.0  3641949.0  None   \n",
      "4    2017-12-21  51.16  51.52  50.90  51.40 NaN  120649.0  6179433.0  None   \n",
      "..          ...    ...    ...    ...    ...  ..       ...        ...   ...   \n",
      "250  2017-01-06  34.91  35.21  34.91  35.04 NaN   27507.0   964046.0  None   \n",
      "251  2017-01-05  35.02  35.20  34.73  35.06 NaN   48412.0  1692326.0  None   \n",
      "252  2017-01-04  35.48  35.51  34.75  35.19 NaN   54408.0  1906810.0  None   \n",
      "253  2017-01-03  35.90  35.93  35.34  35.48 NaN   70618.0  2515473.0  None   \n",
      "254  2017-01-02  34.99  35.94  34.99  35.80 NaN   44700.0  1590561.0  None   \n",
      "\n",
      "       9     10  \n",
      "0    None  None  \n",
      "1    None  None  \n",
      "2    None  None  \n",
      "3    None  None  \n",
      "4    None  None  \n",
      "..    ...   ...  \n",
      "250  None  None  \n",
      "251  None  None  \n",
      "252  None  None  \n",
      "253  None  None  \n",
      "254  None  None  \n",
      "\n",
      "[255 rows x 11 columns]\n"
     ]
    }
   ],
   "source": [
    "df = pd.DataFrame(json_data)\n",
    "print(df)"
   ]
  },
  {
   "cell_type": "code",
   "execution_count": 38,
   "metadata": {},
   "outputs": [
    {
     "data": {
      "text/plain": [
       "11"
      ]
     },
     "execution_count": 38,
     "metadata": {},
     "output_type": "execute_result"
    }
   ],
   "source": [
    "len(json_keys)"
   ]
  },
  {
   "cell_type": "code",
   "execution_count": 39,
   "metadata": {},
   "outputs": [],
   "source": [
    "df.columns = json_keys"
   ]
  },
  {
   "cell_type": "code",
   "execution_count": 40,
   "metadata": {
    "scrolled": true
   },
   "outputs": [
    {
     "name": "stdout",
     "output_type": "stream",
     "text": [
      "           Date   Open   High    Low  Close  Change  Traded Volume   Turnover  \\\n",
      "0    2017-12-29  51.76  51.94  51.45  51.76     NaN        34640.0  1792304.0   \n",
      "1    2017-12-28  51.65  51.82  51.43  51.60     NaN        40660.0  2099024.0   \n",
      "2    2017-12-27  51.45  51.89  50.76  51.82     NaN        57452.0  2957018.0   \n",
      "3    2017-12-22  51.05  51.50  50.92  51.32     NaN        71165.0  3641949.0   \n",
      "4    2017-12-21  51.16  51.52  50.90  51.40     NaN       120649.0  6179433.0   \n",
      "..          ...    ...    ...    ...    ...     ...            ...        ...   \n",
      "250  2017-01-06  34.91  35.21  34.91  35.04     NaN        27507.0   964046.0   \n",
      "251  2017-01-05  35.02  35.20  34.73  35.06     NaN        48412.0  1692326.0   \n",
      "252  2017-01-04  35.48  35.51  34.75  35.19     NaN        54408.0  1906810.0   \n",
      "253  2017-01-03  35.90  35.93  35.34  35.48     NaN        70618.0  2515473.0   \n",
      "254  2017-01-02  34.99  35.94  34.99  35.80     NaN        44700.0  1590561.0   \n",
      "\n",
      "    Last Price of the Day Daily Traded Units Daily Turnover  \n",
      "0                    None               None           None  \n",
      "1                    None               None           None  \n",
      "2                    None               None           None  \n",
      "3                    None               None           None  \n",
      "4                    None               None           None  \n",
      "..                    ...                ...            ...  \n",
      "250                  None               None           None  \n",
      "251                  None               None           None  \n",
      "252                  None               None           None  \n",
      "253                  None               None           None  \n",
      "254                  None               None           None  \n",
      "\n",
      "[255 rows x 11 columns]\n"
     ]
    }
   ],
   "source": [
    "print(df)"
   ]
  },
  {
   "cell_type": "code",
   "execution_count": 41,
   "metadata": {
    "scrolled": true
   },
   "outputs": [
    {
     "name": "stdout",
     "output_type": "stream",
     "text": [
      "           Date   Open    High     Low  Close  Change  Traded Volume  \\\n",
      "9    2017-12-14  53.11  53.540  52.150  52.67     NaN       132981.0   \n",
      "6    2017-12-19  52.73  52.730  51.070  51.66     NaN       137313.0   \n",
      "8    2017-12-15  52.70  52.700  51.640  52.01     NaN       204080.0   \n",
      "10   2017-12-13  52.64  53.350  52.480  53.09     NaN       128434.0   \n",
      "7    2017-12-18  52.37  52.750  51.610  52.62     NaN       129733.0   \n",
      "..          ...    ...     ...     ...    ...     ...            ...   \n",
      "239  2017-01-23  34.04  34.120  33.620  34.06     NaN        55333.0   \n",
      "238  2017-01-24  34.00  34.350  33.850  34.22     NaN        48797.0   \n",
      "169  2017-05-01    NaN  42.245  41.655  41.72   -0.44        86348.0   \n",
      "179  2017-04-17    NaN  42.480  41.985  42.20     NaN        88416.0   \n",
      "180  2017-04-14    NaN  42.480  41.985  42.20     NaN        88416.0   \n",
      "\n",
      "       Turnover Last Price of the Day Daily Traded Units Daily Turnover  \n",
      "9     7016953.0                  None               None           None  \n",
      "6     7102361.0                  None               None           None  \n",
      "8    10596319.0                  None               None           None  \n",
      "10    6801159.0                  None               None           None  \n",
      "7     6770499.0                  None               None           None  \n",
      "..          ...                   ...                ...            ...  \n",
      "239   1877957.0                  None               None           None  \n",
      "238   1666086.0                  None               None           None  \n",
      "169   3606589.0                  None               None           None  \n",
      "179   3734717.0                  None               None           None  \n",
      "180   3734717.0                  None               None           None  \n",
      "\n",
      "[255 rows x 11 columns]\n"
     ]
    }
   ],
   "source": [
    "High_Open = df.sort_values('Open', ascending = False)\n",
    "print(High_Open)"
   ]
  },
  {
   "cell_type": "code",
   "execution_count": null,
   "metadata": {},
   "outputs": [],
   "source": [
    "#Answer: The highest and lowest opening prices for this period in time was December 14th \n",
    "#at a price of $53.11 and January 24th 2017 at a price of $34.00. "
   ]
  },
  {
   "cell_type": "code",
   "execution_count": 44,
   "metadata": {},
   "outputs": [],
   "source": [
    "diff = df.High - df.Low\n",
    "df['diff'] = diff"
   ]
  },
  {
   "cell_type": "code",
   "execution_count": 46,
   "metadata": {
    "scrolled": true
   },
   "outputs": [
    {
     "name": "stdout",
     "output_type": "stream",
     "text": [
      "           Date   Open   High    Low  Close  Change  Traded Volume  \\\n",
      "161  2017-05-11  43.40  46.06  43.25  45.00     NaN       189125.0   \n",
      "100  2017-08-07  45.85  46.34  44.02  44.96     NaN       164543.0   \n",
      "224  2017-02-13  37.37  39.36  37.35  38.53     NaN       177171.0   \n",
      "98   2017-08-09  43.50  43.50  41.64  41.81     NaN       355857.0   \n",
      "26   2017-11-21  47.25  48.59  46.78  48.39     NaN        78502.0   \n",
      "..          ...    ...    ...    ...    ...     ...            ...   \n",
      "250  2017-01-06  34.91  35.21  34.91  35.04     NaN        27507.0   \n",
      "203  2017-03-14  41.20  41.50  41.20  41.30     NaN        60420.0   \n",
      "227  2017-02-08  35.98  36.14  35.84  36.05     NaN        39731.0   \n",
      "145  2017-06-02  46.80  46.99  46.72  46.99     NaN          290.0   \n",
      "76   2017-09-08  42.70  42.75  42.56  42.67     NaN        59881.0   \n",
      "\n",
      "       Turnover Last Price of the Day Daily Traded Units Daily Turnover  diff  \n",
      "161   8496322.0                  None               None           None  2.81  \n",
      "100   7378816.0                  None               None           None  2.32  \n",
      "224   6804028.0                  None               None           None  2.01  \n",
      "98   15003956.0                  None               None           None  1.86  \n",
      "26    3782098.0                  None               None           None  1.81  \n",
      "..          ...                   ...                ...            ...   ...  \n",
      "250    964046.0                  None               None           None  0.30  \n",
      "203   2498025.0                  None               None           None  0.30  \n",
      "227   1431205.0                  None               None           None  0.30  \n",
      "145     13584.0                  None               None           None  0.27  \n",
      "76    2553977.0                  None               None           None  0.19  \n",
      "\n",
      "[255 rows x 12 columns]\n"
     ]
    }
   ],
   "source": [
    "print(df.sort_values('diff', ascending=False))"
   ]
  },
  {
   "cell_type": "code",
   "execution_count": null,
   "metadata": {},
   "outputs": [],
   "source": [
    "#Answer: The biggest change in a single day in ticket price was May 11th, 2017 with \n",
    "#a price fluctuation of $2.81. "
   ]
  },
  {
   "cell_type": "code",
   "execution_count": 47,
   "metadata": {
    "scrolled": true
   },
   "outputs": [
    {
     "name": "stdout",
     "output_type": "stream",
     "text": [
      "         Date   Open   High    Low  Close  Change  Traded Volume   Turnover  \\\n",
      "0  2017-12-29  51.76  51.94  51.45  51.76     NaN        34640.0  1792304.0   \n",
      "1  2017-12-28  51.65  51.82  51.43  51.60     NaN        40660.0  2099024.0   \n",
      "2  2017-12-27  51.45  51.89  50.76  51.82     NaN        57452.0  2957018.0   \n",
      "3  2017-12-22  51.05  51.50  50.92  51.32     NaN        71165.0  3641949.0   \n",
      "4  2017-12-21  51.16  51.52  50.90  51.40     NaN       120649.0  6179433.0   \n",
      "\n",
      "  Last Price of the Day Daily Traded Units Daily Turnover  diff  \n",
      "0                  None               None           None  0.49  \n",
      "1                  None               None           None  0.39  \n",
      "2                  None               None           None  1.13  \n",
      "3                  None               None           None  0.58  \n",
      "4                  None               None           None  0.62  \n"
     ]
    }
   ],
   "source": [
    "print(df.head())"
   ]
  },
  {
   "cell_type": "code",
   "execution_count": 79,
   "metadata": {
    "scrolled": true
   },
   "outputs": [],
   "source": [
    "df['diff'] = df.Close.diff().abs()"
   ]
  },
  {
   "cell_type": "code",
   "execution_count": 80,
   "metadata": {
    "scrolled": true
   },
   "outputs": [
    {
     "name": "stdout",
     "output_type": "stream",
     "text": [
      "           Date   Open   High    Low  Close  Change  Traded Volume   Turnover  \\\n",
      "99   2017-08-08  44.90  45.09  44.15  44.37     NaN       156168.0  6941408.0   \n",
      "198  2017-03-21  41.80  41.83  40.97  40.98     NaN        56906.0  2349965.0   \n",
      "162  2017-05-10  43.50  43.60  42.53  43.28     NaN        91858.0  3958630.0   \n",
      "63   2017-09-27  42.35  42.49  41.78  42.04     NaN        76600.0  3219861.0   \n",
      "225  2017-02-10  36.65  37.50  36.57  37.06     NaN       115843.0  4291017.0   \n",
      "..          ...    ...    ...    ...    ...     ...            ...        ...   \n",
      "33   2017-11-10  47.30  48.89  47.16  48.34     NaN        90245.0  4361552.0   \n",
      "144  2017-06-06  47.12  47.45  46.21  47.43     NaN          686.0    32083.0   \n",
      "170  2017-04-28  42.17  42.25  41.66  41.72     NaN        86348.0  3606589.0   \n",
      "89   2017-08-22  42.46  42.96  42.40  42.71     NaN        95376.0  4075646.0   \n",
      "0    2017-12-29  51.76  51.94  51.45  51.76     NaN        34640.0  1792304.0   \n",
      "\n",
      "    Last Price of the Day Daily Traded Units Daily Turnover  diff  \n",
      "99                   None               None           None  2.56  \n",
      "198                  None               None           None  2.04  \n",
      "162                  None               None           None  1.72  \n",
      "63                   None               None           None  1.52  \n",
      "225                  None               None           None  1.47  \n",
      "..                    ...                ...            ...   ...  \n",
      "33                   None               None           None  0.00  \n",
      "144                  None               None           None  0.00  \n",
      "170                  None               None           None  0.00  \n",
      "89                   None               None           None  0.00  \n",
      "0                    None               None           None   NaN  \n",
      "\n",
      "[255 rows x 12 columns]\n"
     ]
    }
   ],
   "source": [
    "print(df.sort_values('diff', ascending=False))"
   ]
  },
  {
   "cell_type": "code",
   "execution_count": null,
   "metadata": {},
   "outputs": [],
   "source": [
    "#Answer: Biggest difference between 2 days would be day 99 (Aug 8th, 2017) and \n",
    "#day 100 (Aug 9th, 2017) with a difference of $2.56"
   ]
  },
  {
   "cell_type": "code",
   "execution_count": 96,
   "metadata": {},
   "outputs": [],
   "source": [
    "traded_volume = df.iloc[:,6]"
   ]
  },
  {
   "cell_type": "code",
   "execution_count": 97,
   "metadata": {
    "scrolled": true
   },
   "outputs": [
    {
     "name": "stdout",
     "output_type": "stream",
     "text": [
      "89124.33725490196\n"
     ]
    }
   ],
   "source": [
    "print(traded_volume.mean())"
   ]
  },
  {
   "cell_type": "code",
   "execution_count": null,
   "metadata": {},
   "outputs": [],
   "source": [
    "#Answer The mean traded volume for this time is 89,124.33"
   ]
  },
  {
   "cell_type": "code",
   "execution_count": 98,
   "metadata": {},
   "outputs": [
    {
     "data": {
      "text/plain": [
       "76286.0"
      ]
     },
     "execution_count": 98,
     "metadata": {},
     "output_type": "execute_result"
    }
   ],
   "source": [
    "traded_volume.median(skipna=True)"
   ]
  },
  {
   "cell_type": "code",
   "execution_count": null,
   "metadata": {},
   "outputs": [],
   "source": [
    "#Answer The median for the traded volume of this time is 76286"
   ]
  }
 ],
 "metadata": {
  "kernelspec": {
   "display_name": "Python 3",
   "language": "python",
   "name": "python3"
  },
  "language_info": {
   "codemirror_mode": {
    "name": "ipython",
    "version": 3
   },
   "file_extension": ".py",
   "mimetype": "text/x-python",
   "name": "python",
   "nbconvert_exporter": "python",
   "pygments_lexer": "ipython3",
   "version": "3.8.10"
  }
 },
 "nbformat": 4,
 "nbformat_minor": 4
}
