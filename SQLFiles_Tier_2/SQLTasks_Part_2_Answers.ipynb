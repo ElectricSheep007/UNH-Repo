{
 "cells": [
  {
   "cell_type": "code",
   "execution_count": 1,
   "id": "c42a5d2a",
   "metadata": {
    "scrolled": true
   },
   "outputs": [],
   "source": [
    "import sqlite3 \n",
    "import pandas as pd"
   ]
  },
  {
   "cell_type": "code",
   "execution_count": 2,
   "id": "c8e8fbcd",
   "metadata": {},
   "outputs": [
    {
     "name": "stdout",
     "output_type": "stream",
     "text": [
      "[(0, 'Tennis Court 1', 5, 25, 10000, 200), (1, 'Tennis Court 2', 5, 25, 8000, 200), (2, 'Badminton Court', 0, 15.5, 4000, 50), (3, 'Table Tennis', 0, 5, 320, 10), (4, 'Massage Room 1', 9.9, 80, 4000, 3000), (5, 'Massage Room 2', 9.9, 80, 4000, 3000), (6, 'Squash Court', 3.5, 17.5, 5000, 80), (7, 'Snooker Table', 0, 5, 450, 15), (8, 'Pool Table', 0, 5, 400, 15)]\n"
     ]
    }
   ],
   "source": [
    "conn = sqlite3.connect(\"/Users/Shawn/Documents/UNH_ML_SLF/MLassignments/UNH-Repo/SQLFiles_Tier_2/sqlite_db_pythonsqlite.db\")\n",
    "c = conn.cursor()\n",
    "c.execute(\"SELECT * FROM facilities\")\n",
    "print(c.fetchall())\n",
    "\n",
    "c.close()"
   ]
  },
  {
   "cell_type": "raw",
   "id": "fafada47",
   "metadata": {},
   "source": [
    "/* Q10: Produce a list of facilities with a total revenue less than 1000.\n",
    "The output of facility name and total revenue, sorted by revenue. Remember\n",
    "that there's a different cost for guests and members! */"
   ]
  },
  {
   "cell_type": "code",
   "execution_count": 3,
   "id": "c4d084f5",
   "metadata": {},
   "outputs": [],
   "source": [
    "def task(query):\n",
    "    conn = sqlite3.connect(\"/Users/Shawn/Documents/UNH_ML_SLF/MLassignments/UNH-Repo/SQLFiles_Tier_2/sqlite_db_pythonsqlite.db\")\n",
    "    c = conn.cursor()\n",
    "    c.execute(query)\n",
    "    print(c.fetchall())\n",
    "    c.close()"
   ]
  },
  {
   "cell_type": "code",
   "execution_count": 4,
   "id": "ba76577e",
   "metadata": {},
   "outputs": [],
   "source": [
    "query1 = 'SELECT sub.name, SUM(sub.cost) AS revenue FROM (SELECT f.name, CASE WHEN b.memid != 0 THEN f.membercost*b.slots WHEN b.memid = 0 THEN f.guestcost*b.slots END AS Cost FROM bookings AS b LEFT JOIN facilities AS f ON b.facid = f.facid Left JOIN members AS m ON b.memid = m.memid) sub GROUP BY sub.name HAVING revenue < 1000 '"
   ]
  },
  {
   "cell_type": "code",
   "execution_count": 5,
   "id": "982b0b29",
   "metadata": {
    "scrolled": true
   },
   "outputs": [
    {
     "name": "stdout",
     "output_type": "stream",
     "text": [
      "[('Pool Table', 270), ('Snooker Table', 240), ('Table Tennis', 180)]\n"
     ]
    }
   ],
   "source": [
    "task(query1)"
   ]
  },
  {
   "cell_type": "raw",
   "id": "3e45c700",
   "metadata": {},
   "source": [
    "/* Q11: Produce a report of members and who recommended them in alphabetic surname,firstname order */"
   ]
  },
  {
   "cell_type": "code",
   "execution_count": 6,
   "id": "0ae5b614",
   "metadata": {
    "scrolled": true
   },
   "outputs": [],
   "source": [
    "query2 = 'SELECT m1.surname||m1.firstname AS Member, m2.surname||m2.firstname AS Recommender FROM Members AS m1 Left Join Members AS m2 ON m1.recommendedby = m2.memid WHERE m1.recommendedby != 0 ORDER BY Member'"
   ]
  },
  {
   "cell_type": "code",
   "execution_count": 7,
   "id": "b371ac12",
   "metadata": {
    "scrolled": false
   },
   "outputs": [
    {
     "name": "stdout",
     "output_type": "stream",
     "text": [
      "[('BaderFlorence', 'StibbonsPonder'), ('BakerAnne', 'StibbonsPonder'), ('BakerTimothy', 'FarrellJemima'), ('BootheTim', 'RownamTim'), ('ButtersGerald', 'SmithDarren'), ('CoplinJoan', 'BakerTimothy'), ('CrumpetErica', 'SmithTracy'), ('DareNancy', 'JopletteJanice'), ('FarrellDavid', None), ('FarrellJemima', None), ('GUESTGUEST', None), ('GentingMatthew', 'ButtersGerald'), ('HuntJohn', 'PurviewMillicent'), ('JonesDavid', 'JopletteJanice'), ('JonesDouglas', 'JonesDavid'), ('JopletteJanice', 'SmithDarren'), ('MackenzieAnna', 'SmithDarren'), ('OwenCharles', 'SmithDarren'), ('PinkerDavid', 'FarrellJemima'), ('PurviewMillicent', 'SmithTracy'), ('RownamTim', None), ('RumneyHenrietta', 'GentingMatthew'), ('SarwinRamnaresh', 'BaderFlorence'), ('SmithDarren', None), ('SmithDarren', None), ('SmithJack', 'SmithDarren'), ('SmithTracy', None), ('StibbonsPonder', 'TracyBurton'), ('TracyBurton', None), ('TupperwareHyacinth', None), ('Worthington-SmythHenry', 'SmithTracy')]\n"
     ]
    }
   ],
   "source": [
    "task(query2)"
   ]
  },
  {
   "cell_type": "raw",
   "id": "11c3a040",
   "metadata": {},
   "source": [
    "/* Q12: Find the facilities with their usage by member, but not guests */"
   ]
  },
  {
   "cell_type": "code",
   "execution_count": 8,
   "id": "720d5fa9",
   "metadata": {},
   "outputs": [],
   "source": [
    "query3 = 'SELECT f.name, SUM(b.slots) FROM Bookings AS b LEFT JOIN Facilities AS f  ON b.facid = f.facid LEFT JOIN Members AS m  ON b.memid = m.memid WHERE b.memid != 0  GROUP BY f.name'"
   ]
  },
  {
   "cell_type": "code",
   "execution_count": 9,
   "id": "6f0e1b7e",
   "metadata": {
    "scrolled": true
   },
   "outputs": [
    {
     "name": "stdout",
     "output_type": "stream",
     "text": [
      "[('Badminton Court', 1086), ('Massage Room 1', 884), ('Massage Room 2', 54), ('Pool Table', 856), ('Snooker Table', 860), ('Squash Court', 418), ('Table Tennis', 794), ('Tennis Court 1', 957), ('Tennis Court 2', 882)]\n"
     ]
    }
   ],
   "source": [
    "task(query3)"
   ]
  },
  {
   "cell_type": "code",
   "execution_count": 31,
   "id": "4a548358",
   "metadata": {
    "scrolled": true
   },
   "outputs": [],
   "source": [
    "query4 = 'SELECT f.name, SUM(b.slots), strftime(\"%m\", b.starttime) AS Month FROM Bookings AS b LEFT JOIN Facilities AS f  ON b.facid = f.facid LEFT JOIN Members AS m  ON b.memid = m.memid WHERE b.memid != 0 AND Month = \"08\" GROUP BY f.name' "
   ]
  },
  {
   "cell_type": "code",
   "execution_count": 32,
   "id": "5664cf33",
   "metadata": {
    "scrolled": false
   },
   "outputs": [
    {
     "name": "stdout",
     "output_type": "stream",
     "text": [
      "[('Badminton Court', 414, '08'), ('Massage Room 1', 316, '08'), ('Massage Room 2', 18, '08'), ('Pool Table', 303, '08'), ('Snooker Table', 316, '08'), ('Squash Court', 184, '08'), ('Table Tennis', 296, '08'), ('Tennis Court 1', 339, '08'), ('Tennis Court 2', 345, '08')]\n"
     ]
    }
   ],
   "source": [
    "task(query4)"
   ]
  },
  {
   "cell_type": "raw",
   "id": "4d806f1e",
   "metadata": {},
   "source": [
    "The Query above filters by Month. Is there a way to present facilities as columns, with sum of slots for each month in columns? Case WHEN? "
   ]
  }
 ],
 "metadata": {
  "kernelspec": {
   "display_name": "Python 3 (ipykernel)",
   "language": "python",
   "name": "python3"
  },
  "language_info": {
   "codemirror_mode": {
    "name": "ipython",
    "version": 3
   },
   "file_extension": ".py",
   "mimetype": "text/x-python",
   "name": "python",
   "nbconvert_exporter": "python",
   "pygments_lexer": "ipython3",
   "version": "3.8.10"
  }
 },
 "nbformat": 4,
 "nbformat_minor": 5
}
