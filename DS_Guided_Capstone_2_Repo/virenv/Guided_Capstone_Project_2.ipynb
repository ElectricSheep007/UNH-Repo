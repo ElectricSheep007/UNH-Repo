{
 "cells": [
  {
   "cell_type": "markdown",
   "id": "f9bd1b66",
   "metadata": {},
   "source": [
    "# Guided Capstone 2 - NBA Win Model Prediction Using Machine Learning"
   ]
  },
  {
   "cell_type": "markdown",
   "id": "e969cd55",
   "metadata": {},
   "source": [
    "# Section 0: Importing Libraries "
   ]
  },
  {
   "cell_type": "code",
   "execution_count": 1,
   "id": "bd15dad7",
   "metadata": {},
   "outputs": [],
   "source": [
    "import pandas as pd\n",
    "import numpy as np\n",
    "import matplotlib.pyplot as plt\n",
    "import seaborn as sns\n",
    "import os\n",
    "import math\n",
    "from datetime import datetime"
   ]
  },
  {
   "cell_type": "markdown",
   "id": "b05903b5",
   "metadata": {},
   "source": [
    "# Section 1: Data Import and combination"
   ]
  },
  {
   "cell_type": "markdown",
   "id": "cfaa277c",
   "metadata": {},
   "source": [
    "In our investigation, our attempt to recreate the prior investigators model will require data of the same time period and features. In the prior investigation, the data used produce their NBA win prediction model covered a 12 season span, between the seasons of 2008 - 2009 to 2019 - 2020. \n",
    "\n",
    "Kaggale offers several databases that include the data portion mentioned above, and can be wrangled to reflect the data of the prior investigation "
   ]
  },
  {
   "cell_type": "markdown",
   "id": "2bb9e7db",
   "metadata": {},
   "source": [
    "# Section 1 Data Wrangling"
   ]
  },
  {
   "cell_type": "markdown",
   "id": "599dc9a9",
   "metadata": {},
   "source": [
    "# 1.1 Data Stitching"
   ]
  },
  {
   "cell_type": "markdown",
   "id": "1852eb11",
   "metadata": {
    "scrolled": true
   },
   "source": [
    "From Kaggle, separate sets have been acquired for both individual players statistics per game, and team statistics per game. These sets are separated by season."
   ]
  },
  {
   "cell_type": "code",
   "execution_count": 2,
   "id": "aa3989ba",
   "metadata": {
    "scrolled": true
   },
   "outputs": [],
   "source": [
    "#Below code appends datasets together based on file names.\n",
    "start_year = 2008\n",
    "end_year = 2009\n",
    "\n",
    "team_stats = pd.DataFrame()\n",
    "player_stats = pd.DataFrame()\n",
    "\n",
    "for i in range(12) :\n",
    "    player_stats_file_path = '/Users/Shawn/Documents/UNH_ML_SLF/MLassignments/UNH-Repo/DS_Guided_Capstone_2_Repo/virenv/player_stats/' + str(start_year) + \"-\" + str(end_year) + '.csv'\n",
    "    team_stats_file_path = '/Users/Shawn/Documents/UNH_ML_SLF/MLassignments/UNH-Repo/DS_Guided_Capstone_2_Repo/virenv/team_stats/' + str(start_year) + \"-\" + str(end_year) + '.csv'\n",
    "    player_stats = player_stats.append(pd.read_csv(player_stats_file_path))\n",
    "    team_stats = team_stats.append(pd.read_csv(team_stats_file_path))\n",
    "    \n",
    "    start_year = start_year + 1\n",
    "    end_year = end_year + 1"
   ]
  },
  {
   "cell_type": "raw",
   "id": "de112a63",
   "metadata": {},
   "source": [
    "Reviewing the data that we combined"
   ]
  },
  {
   "cell_type": "code",
   "execution_count": 3,
   "id": "f63afa2a",
   "metadata": {},
   "outputs": [
    {
     "data": {
      "text/plain": [
       "(373069, 26)"
      ]
     },
     "execution_count": 3,
     "metadata": {},
     "output_type": "execute_result"
    }
   ],
   "source": [
    "player_stats.shape"
   ]
  },
  {
   "cell_type": "code",
   "execution_count": 4,
   "id": "b2f0d159",
   "metadata": {
    "scrolled": true
   },
   "outputs": [
    {
     "data": {
      "text/html": [
       "<div>\n",
       "<style scoped>\n",
       "    .dataframe tbody tr th:only-of-type {\n",
       "        vertical-align: middle;\n",
       "    }\n",
       "\n",
       "    .dataframe tbody tr th {\n",
       "        vertical-align: top;\n",
       "    }\n",
       "\n",
       "    .dataframe thead th {\n",
       "        text-align: right;\n",
       "    }\n",
       "</style>\n",
       "<table border=\"1\" class=\"dataframe\">\n",
       "  <thead>\n",
       "    <tr style=\"text-align: right;\">\n",
       "      <th></th>\n",
       "      <th>Player</th>\n",
       "      <th>Date</th>\n",
       "      <th>Team</th>\n",
       "      <th>Against</th>\n",
       "      <th>Home</th>\n",
       "      <th>MP</th>\n",
       "      <th>FG</th>\n",
       "      <th>FGA</th>\n",
       "      <th>FG%</th>\n",
       "      <th>3P</th>\n",
       "      <th>...</th>\n",
       "      <th>DRB</th>\n",
       "      <th>TRB</th>\n",
       "      <th>AST</th>\n",
       "      <th>STL</th>\n",
       "      <th>BLK</th>\n",
       "      <th>TOV</th>\n",
       "      <th>PF</th>\n",
       "      <th>PTS</th>\n",
       "      <th>+/-</th>\n",
       "      <th>GameLink</th>\n",
       "    </tr>\n",
       "  </thead>\n",
       "  <tbody>\n",
       "    <tr>\n",
       "      <th>0</th>\n",
       "      <td>LeBron James</td>\n",
       "      <td>2008-10-28</td>\n",
       "      <td>Cleveland Cavaliers</td>\n",
       "      <td>Boston Celtics</td>\n",
       "      <td>0</td>\n",
       "      <td>36.00</td>\n",
       "      <td>9.0</td>\n",
       "      <td>21.0</td>\n",
       "      <td>0.429</td>\n",
       "      <td>0.0</td>\n",
       "      <td>...</td>\n",
       "      <td>6.0</td>\n",
       "      <td>7.0</td>\n",
       "      <td>6.0</td>\n",
       "      <td>2.0</td>\n",
       "      <td>1.0</td>\n",
       "      <td>3.0</td>\n",
       "      <td>4.0</td>\n",
       "      <td>22.0</td>\n",
       "      <td>-3.0</td>\n",
       "      <td>https://www.basketball-reference.com/boxscores...</td>\n",
       "    </tr>\n",
       "    <tr>\n",
       "      <th>1</th>\n",
       "      <td>Delonte West</td>\n",
       "      <td>2008-10-28</td>\n",
       "      <td>Cleveland Cavaliers</td>\n",
       "      <td>Boston Celtics</td>\n",
       "      <td>0</td>\n",
       "      <td>35.29</td>\n",
       "      <td>2.0</td>\n",
       "      <td>4.0</td>\n",
       "      <td>0.500</td>\n",
       "      <td>0.0</td>\n",
       "      <td>...</td>\n",
       "      <td>2.0</td>\n",
       "      <td>2.0</td>\n",
       "      <td>2.0</td>\n",
       "      <td>0.0</td>\n",
       "      <td>0.0</td>\n",
       "      <td>1.0</td>\n",
       "      <td>0.0</td>\n",
       "      <td>6.0</td>\n",
       "      <td>-10.0</td>\n",
       "      <td>https://www.basketball-reference.com/boxscores...</td>\n",
       "    </tr>\n",
       "    <tr>\n",
       "      <th>2</th>\n",
       "      <td>Mo Williams</td>\n",
       "      <td>2008-10-28</td>\n",
       "      <td>Cleveland Cavaliers</td>\n",
       "      <td>Boston Celtics</td>\n",
       "      <td>0</td>\n",
       "      <td>31.18</td>\n",
       "      <td>4.0</td>\n",
       "      <td>10.0</td>\n",
       "      <td>0.400</td>\n",
       "      <td>3.0</td>\n",
       "      <td>...</td>\n",
       "      <td>3.0</td>\n",
       "      <td>3.0</td>\n",
       "      <td>2.0</td>\n",
       "      <td>1.0</td>\n",
       "      <td>0.0</td>\n",
       "      <td>4.0</td>\n",
       "      <td>5.0</td>\n",
       "      <td>12.0</td>\n",
       "      <td>3.0</td>\n",
       "      <td>https://www.basketball-reference.com/boxscores...</td>\n",
       "    </tr>\n",
       "    <tr>\n",
       "      <th>3</th>\n",
       "      <td>Zydrunas Ilgauskas</td>\n",
       "      <td>2008-10-28</td>\n",
       "      <td>Cleveland Cavaliers</td>\n",
       "      <td>Boston Celtics</td>\n",
       "      <td>0</td>\n",
       "      <td>30.24</td>\n",
       "      <td>3.0</td>\n",
       "      <td>5.0</td>\n",
       "      <td>0.600</td>\n",
       "      <td>0.0</td>\n",
       "      <td>...</td>\n",
       "      <td>5.0</td>\n",
       "      <td>8.0</td>\n",
       "      <td>1.0</td>\n",
       "      <td>0.0</td>\n",
       "      <td>0.0</td>\n",
       "      <td>4.0</td>\n",
       "      <td>3.0</td>\n",
       "      <td>15.0</td>\n",
       "      <td>7.0</td>\n",
       "      <td>https://www.basketball-reference.com/boxscores...</td>\n",
       "    </tr>\n",
       "    <tr>\n",
       "      <th>4</th>\n",
       "      <td>Ben Wallace</td>\n",
       "      <td>2008-10-28</td>\n",
       "      <td>Cleveland Cavaliers</td>\n",
       "      <td>Boston Celtics</td>\n",
       "      <td>0</td>\n",
       "      <td>19.03</td>\n",
       "      <td>1.0</td>\n",
       "      <td>1.0</td>\n",
       "      <td>1.000</td>\n",
       "      <td>0.0</td>\n",
       "      <td>...</td>\n",
       "      <td>4.0</td>\n",
       "      <td>4.0</td>\n",
       "      <td>0.0</td>\n",
       "      <td>0.0</td>\n",
       "      <td>1.0</td>\n",
       "      <td>1.0</td>\n",
       "      <td>2.0</td>\n",
       "      <td>2.0</td>\n",
       "      <td>-1.0</td>\n",
       "      <td>https://www.basketball-reference.com/boxscores...</td>\n",
       "    </tr>\n",
       "  </tbody>\n",
       "</table>\n",
       "<p>5 rows × 26 columns</p>\n",
       "</div>"
      ],
      "text/plain": [
       "               Player        Date                 Team         Against  Home  \\\n",
       "0        LeBron James  2008-10-28  Cleveland Cavaliers  Boston Celtics     0   \n",
       "1        Delonte West  2008-10-28  Cleveland Cavaliers  Boston Celtics     0   \n",
       "2         Mo Williams  2008-10-28  Cleveland Cavaliers  Boston Celtics     0   \n",
       "3  Zydrunas Ilgauskas  2008-10-28  Cleveland Cavaliers  Boston Celtics     0   \n",
       "4         Ben Wallace  2008-10-28  Cleveland Cavaliers  Boston Celtics     0   \n",
       "\n",
       "      MP   FG   FGA    FG%   3P  ...  DRB  TRB  AST  STL  BLK  TOV   PF   PTS  \\\n",
       "0  36.00  9.0  21.0  0.429  0.0  ...  6.0  7.0  6.0  2.0  1.0  3.0  4.0  22.0   \n",
       "1  35.29  2.0   4.0  0.500  0.0  ...  2.0  2.0  2.0  0.0  0.0  1.0  0.0   6.0   \n",
       "2  31.18  4.0  10.0  0.400  3.0  ...  3.0  3.0  2.0  1.0  0.0  4.0  5.0  12.0   \n",
       "3  30.24  3.0   5.0  0.600  0.0  ...  5.0  8.0  1.0  0.0  0.0  4.0  3.0  15.0   \n",
       "4  19.03  1.0   1.0  1.000  0.0  ...  4.0  4.0  0.0  0.0  1.0  1.0  2.0   2.0   \n",
       "\n",
       "    +/-                                           GameLink  \n",
       "0  -3.0  https://www.basketball-reference.com/boxscores...  \n",
       "1 -10.0  https://www.basketball-reference.com/boxscores...  \n",
       "2   3.0  https://www.basketball-reference.com/boxscores...  \n",
       "3   7.0  https://www.basketball-reference.com/boxscores...  \n",
       "4  -1.0  https://www.basketball-reference.com/boxscores...  \n",
       "\n",
       "[5 rows x 26 columns]"
      ]
     },
     "execution_count": 4,
     "metadata": {},
     "output_type": "execute_result"
    }
   ],
   "source": [
    "player_stats.head()"
   ]
  },
  {
   "cell_type": "code",
   "execution_count": 5,
   "id": "dc33c469",
   "metadata": {},
   "outputs": [
    {
     "name": "stdout",
     "output_type": "stream",
     "text": [
      "<class 'pandas.core.frame.DataFrame'>\n",
      "Int64Index: 373069 entries, 0 to 27739\n",
      "Data columns (total 26 columns):\n",
      " #   Column    Non-Null Count   Dtype  \n",
      "---  ------    --------------   -----  \n",
      " 0   Player    373069 non-null  object \n",
      " 1   Date      373069 non-null  object \n",
      " 2   Team      373069 non-null  object \n",
      " 3   Against   373069 non-null  object \n",
      " 4   Home      373069 non-null  int64  \n",
      " 5   MP        311326 non-null  float64\n",
      " 6   FG        311326 non-null  float64\n",
      " 7   FGA       311326 non-null  float64\n",
      " 8   FG%       295932 non-null  float64\n",
      " 9   3P        311326 non-null  float64\n",
      " 10  3PA       311326 non-null  float64\n",
      " 11  3P%       199196 non-null  float64\n",
      " 12  FT        311326 non-null  float64\n",
      " 13  FTA       311326 non-null  float64\n",
      " 14  FT%       179762 non-null  float64\n",
      " 15  ORB       311326 non-null  float64\n",
      " 16  DRB       311326 non-null  float64\n",
      " 17  TRB       311326 non-null  float64\n",
      " 18  AST       311326 non-null  float64\n",
      " 19  STL       311326 non-null  float64\n",
      " 20  BLK       311326 non-null  float64\n",
      " 21  TOV       311326 non-null  float64\n",
      " 22  PF        311326 non-null  float64\n",
      " 23  PTS       311326 non-null  float64\n",
      " 24  +/-       311276 non-null  float64\n",
      " 25  GameLink  373069 non-null  object \n",
      "dtypes: float64(20), int64(1), object(5)\n",
      "memory usage: 76.8+ MB\n"
     ]
    }
   ],
   "source": [
    "player_stats.info()"
   ]
  },
  {
   "cell_type": "code",
   "execution_count": 6,
   "id": "35cfa40d",
   "metadata": {},
   "outputs": [
    {
     "data": {
      "text/plain": [
       "(15348, 124)"
      ]
     },
     "execution_count": 6,
     "metadata": {},
     "output_type": "execute_result"
    }
   ],
   "source": [
    "team_stats.shape"
   ]
  },
  {
   "cell_type": "code",
   "execution_count": 7,
   "id": "6020c14f",
   "metadata": {
    "scrolled": true
   },
   "outputs": [
    {
     "data": {
      "text/html": [
       "<div>\n",
       "<style scoped>\n",
       "    .dataframe tbody tr th:only-of-type {\n",
       "        vertical-align: middle;\n",
       "    }\n",
       "\n",
       "    .dataframe tbody tr th {\n",
       "        vertical-align: top;\n",
       "    }\n",
       "\n",
       "    .dataframe thead th {\n",
       "        text-align: right;\n",
       "    }\n",
       "</style>\n",
       "<table border=\"1\" class=\"dataframe\">\n",
       "  <thead>\n",
       "    <tr style=\"text-align: right;\">\n",
       "      <th></th>\n",
       "      <th>gmDate</th>\n",
       "      <th>seasonType</th>\n",
       "      <th>season</th>\n",
       "      <th>teamWins</th>\n",
       "      <th>teamLosses</th>\n",
       "      <th>teamAbbr</th>\n",
       "      <th>teamLoc</th>\n",
       "      <th>teamRslt</th>\n",
       "      <th>teamDayOff</th>\n",
       "      <th>teamPTS</th>\n",
       "      <th>...</th>\n",
       "      <th>opptOrtg</th>\n",
       "      <th>opptDrtg</th>\n",
       "      <th>opptEDiff</th>\n",
       "      <th>opptPlay%</th>\n",
       "      <th>opptAR</th>\n",
       "      <th>opptAST/TO</th>\n",
       "      <th>opptSTL/TO</th>\n",
       "      <th>opptPoss</th>\n",
       "      <th>opptPace</th>\n",
       "      <th>matchWinner</th>\n",
       "    </tr>\n",
       "  </thead>\n",
       "  <tbody>\n",
       "    <tr>\n",
       "      <th>0</th>\n",
       "      <td>2008-10-28</td>\n",
       "      <td>Regular</td>\n",
       "      <td>2008-09</td>\n",
       "      <td>0</td>\n",
       "      <td>1</td>\n",
       "      <td>CLE</td>\n",
       "      <td>Away</td>\n",
       "      <td>Loss</td>\n",
       "      <td>0.0</td>\n",
       "      <td>85.0</td>\n",
       "      <td>...</td>\n",
       "      <td>96.9</td>\n",
       "      <td>91.5</td>\n",
       "      <td>5.4</td>\n",
       "      <td>0.41</td>\n",
       "      <td>17.57</td>\n",
       "      <td>1.00</td>\n",
       "      <td>0.62</td>\n",
       "      <td>92.9</td>\n",
       "      <td>92.9</td>\n",
       "      <td>BOS</td>\n",
       "    </tr>\n",
       "    <tr>\n",
       "      <th>1</th>\n",
       "      <td>2008-10-28</td>\n",
       "      <td>Regular</td>\n",
       "      <td>2008-09</td>\n",
       "      <td>0</td>\n",
       "      <td>1</td>\n",
       "      <td>MIL</td>\n",
       "      <td>Away</td>\n",
       "      <td>Loss</td>\n",
       "      <td>0.0</td>\n",
       "      <td>95.0</td>\n",
       "      <td>...</td>\n",
       "      <td>120.3</td>\n",
       "      <td>105.8</td>\n",
       "      <td>14.5</td>\n",
       "      <td>0.48</td>\n",
       "      <td>28.53</td>\n",
       "      <td>1.50</td>\n",
       "      <td>0.50</td>\n",
       "      <td>89.8</td>\n",
       "      <td>89.8</td>\n",
       "      <td>CHI</td>\n",
       "    </tr>\n",
       "    <tr>\n",
       "      <th>2</th>\n",
       "      <td>2008-10-28</td>\n",
       "      <td>Regular</td>\n",
       "      <td>2008-09</td>\n",
       "      <td>0</td>\n",
       "      <td>1</td>\n",
       "      <td>POR</td>\n",
       "      <td>Away</td>\n",
       "      <td>Loss</td>\n",
       "      <td>0.0</td>\n",
       "      <td>76.0</td>\n",
       "      <td>...</td>\n",
       "      <td>107.7</td>\n",
       "      <td>85.3</td>\n",
       "      <td>22.4</td>\n",
       "      <td>0.44</td>\n",
       "      <td>18.08</td>\n",
       "      <td>1.27</td>\n",
       "      <td>0.53</td>\n",
       "      <td>89.1</td>\n",
       "      <td>89.1</td>\n",
       "      <td>LAL</td>\n",
       "    </tr>\n",
       "    <tr>\n",
       "      <th>3</th>\n",
       "      <td>2008-10-29</td>\n",
       "      <td>Regular</td>\n",
       "      <td>2008-09</td>\n",
       "      <td>1</td>\n",
       "      <td>0</td>\n",
       "      <td>TOR</td>\n",
       "      <td>Away</td>\n",
       "      <td>Win</td>\n",
       "      <td>0.0</td>\n",
       "      <td>95.0</td>\n",
       "      <td>...</td>\n",
       "      <td>99.8</td>\n",
       "      <td>112.8</td>\n",
       "      <td>-13.0</td>\n",
       "      <td>0.37</td>\n",
       "      <td>14.47</td>\n",
       "      <td>0.88</td>\n",
       "      <td>0.18</td>\n",
       "      <td>84.2</td>\n",
       "      <td>84.2</td>\n",
       "      <td>TOR</td>\n",
       "    </tr>\n",
       "    <tr>\n",
       "      <th>4</th>\n",
       "      <td>2008-10-29</td>\n",
       "      <td>Regular</td>\n",
       "      <td>2008-09</td>\n",
       "      <td>1</td>\n",
       "      <td>0</td>\n",
       "      <td>NJN</td>\n",
       "      <td>Away</td>\n",
       "      <td>Win</td>\n",
       "      <td>0.0</td>\n",
       "      <td>95.0</td>\n",
       "      <td>...</td>\n",
       "      <td>94.6</td>\n",
       "      <td>105.7</td>\n",
       "      <td>-11.1</td>\n",
       "      <td>0.36</td>\n",
       "      <td>17.86</td>\n",
       "      <td>1.20</td>\n",
       "      <td>0.27</td>\n",
       "      <td>89.9</td>\n",
       "      <td>89.9</td>\n",
       "      <td>NJN</td>\n",
       "    </tr>\n",
       "  </tbody>\n",
       "</table>\n",
       "<p>5 rows × 124 columns</p>\n",
       "</div>"
      ],
      "text/plain": [
       "       gmDate seasonType   season  teamWins  teamLosses teamAbbr teamLoc  \\\n",
       "0  2008-10-28    Regular  2008-09         0           1      CLE    Away   \n",
       "1  2008-10-28    Regular  2008-09         0           1      MIL    Away   \n",
       "2  2008-10-28    Regular  2008-09         0           1      POR    Away   \n",
       "3  2008-10-29    Regular  2008-09         1           0      TOR    Away   \n",
       "4  2008-10-29    Regular  2008-09         1           0      NJN    Away   \n",
       "\n",
       "  teamRslt  teamDayOff  teamPTS  ...  opptOrtg  opptDrtg  opptEDiff  \\\n",
       "0     Loss         0.0     85.0  ...      96.9      91.5        5.4   \n",
       "1     Loss         0.0     95.0  ...     120.3     105.8       14.5   \n",
       "2     Loss         0.0     76.0  ...     107.7      85.3       22.4   \n",
       "3      Win         0.0     95.0  ...      99.8     112.8      -13.0   \n",
       "4      Win         0.0     95.0  ...      94.6     105.7      -11.1   \n",
       "\n",
       "   opptPlay%  opptAR  opptAST/TO  opptSTL/TO  opptPoss  opptPace  matchWinner  \n",
       "0       0.41   17.57        1.00        0.62      92.9      92.9          BOS  \n",
       "1       0.48   28.53        1.50        0.50      89.8      89.8          CHI  \n",
       "2       0.44   18.08        1.27        0.53      89.1      89.1          LAL  \n",
       "3       0.37   14.47        0.88        0.18      84.2      84.2          TOR  \n",
       "4       0.36   17.86        1.20        0.27      89.9      89.9          NJN  \n",
       "\n",
       "[5 rows x 124 columns]"
      ]
     },
     "execution_count": 7,
     "metadata": {},
     "output_type": "execute_result"
    }
   ],
   "source": [
    "team_stats.head()"
   ]
  },
  {
   "cell_type": "code",
   "execution_count": 8,
   "id": "7e0cc11d",
   "metadata": {
    "scrolled": true
   },
   "outputs": [
    {
     "name": "stdout",
     "output_type": "stream",
     "text": [
      "<class 'pandas.core.frame.DataFrame'>\n",
      "Int64Index: 15348 entries, 0 to 1142\n",
      "Columns: 124 entries, gmDate to matchWinner\n",
      "dtypes: float64(110), int64(4), object(10)\n",
      "memory usage: 14.6+ MB\n"
     ]
    }
   ],
   "source": [
    "team_stats.info()"
   ]
  },
  {
   "cell_type": "code",
   "execution_count": 9,
   "id": "a403d329",
   "metadata": {},
   "outputs": [],
   "source": [
    "team_stats.to_csv('Team_Stats.csv')"
   ]
  },
  {
   "cell_type": "markdown",
   "id": "1bb78e36",
   "metadata": {
    "scrolled": false
   },
   "source": [
    "# 1.2 Cleaning player_stats"
   ]
  },
  {
   "cell_type": "raw",
   "id": "71855fb9",
   "metadata": {},
   "source": [
    "Now that the data is appened together, we will review and clean the data. "
   ]
  },
  {
   "cell_type": "code",
   "execution_count": 10,
   "id": "cddc41bd",
   "metadata": {},
   "outputs": [],
   "source": [
    "#Reorder columns and naming\n",
    "col = ['Player', 'Team', 'Against', 'Date']\n",
    "other = [x for x in player_stats.columns if x not in col]\n",
    "player_stats= player_stats[col + other]"
   ]
  },
  {
   "cell_type": "code",
   "execution_count": 11,
   "id": "44dea233",
   "metadata": {},
   "outputs": [],
   "source": [
    "#Dropping unecessary columns\n",
    "\n",
    "player_stats.drop(columns = ['FG%', '3P%', 'FT%', 'GameLink'], inplace = True)\n",
    "\n",
    "#'GameLink' turns out to be strings with no interesting information. If the full link was available, possible use to create Game IDs based on URL, however, that is not the case, and this column should be removed as it provides nothing of value."
   ]
  },
  {
   "cell_type": "code",
   "execution_count": 12,
   "id": "eead34f5",
   "metadata": {},
   "outputs": [
    {
     "data": {
      "text/plain": [
       "Player         0\n",
       "Team           0\n",
       "Against        0\n",
       "Date           0\n",
       "Home           0\n",
       "MP         61743\n",
       "FG         61743\n",
       "FGA        61743\n",
       "3P         61743\n",
       "3PA        61743\n",
       "FT         61743\n",
       "FTA        61743\n",
       "ORB        61743\n",
       "DRB        61743\n",
       "TRB        61743\n",
       "AST        61743\n",
       "STL        61743\n",
       "BLK        61743\n",
       "TOV        61743\n",
       "PF         61743\n",
       "PTS        61743\n",
       "+/-        61793\n",
       "dtype: int64"
      ]
     },
     "execution_count": 12,
     "metadata": {},
     "output_type": "execute_result"
    }
   ],
   "source": [
    "#Checking for isnull()\n",
    "\n",
    "player_stats.isna().sum()"
   ]
  },
  {
   "cell_type": "markdown",
   "id": "a7b09904",
   "metadata": {},
   "source": [
    "While evaluating the NA values, we see that we do have a good chunk of NaN data. It is clear that we are not looking at players who received 0 stats sucha as 0 pts or rebounds. Instead the data clearly records players who played zero mins have NaN's in their stats. \n",
    "\n",
    "In the +/- column, there's always a chance that the player contributed, but their +/- is still 0. This is quite possible as +/- is a stat recorded based on both team performances during the time the player is playing. "
   ]
  },
  {
   "cell_type": "code",
   "execution_count": 13,
   "id": "bcd6e1e7",
   "metadata": {},
   "outputs": [],
   "source": [
    "player_stats = player_stats[player_stats['MP'].notna()]"
   ]
  },
  {
   "cell_type": "code",
   "execution_count": 14,
   "id": "088677bf",
   "metadata": {
    "scrolled": false
   },
   "outputs": [
    {
     "data": {
      "text/plain": [
       "Player      0\n",
       "Team        0\n",
       "Against     0\n",
       "Date        0\n",
       "Home        0\n",
       "MP          0\n",
       "FG          0\n",
       "FGA         0\n",
       "3P          0\n",
       "3PA         0\n",
       "FT          0\n",
       "FTA         0\n",
       "ORB         0\n",
       "DRB         0\n",
       "TRB         0\n",
       "AST         0\n",
       "STL         0\n",
       "BLK         0\n",
       "TOV         0\n",
       "PF          0\n",
       "PTS         0\n",
       "+/-        50\n",
       "dtype: int64"
      ]
     },
     "execution_count": 14,
     "metadata": {},
     "output_type": "execute_result"
    }
   ],
   "source": [
    "player_stats.isna().sum()"
   ]
  },
  {
   "cell_type": "code",
   "execution_count": 15,
   "id": "b51bc0d0",
   "metadata": {},
   "outputs": [],
   "source": [
    "#Converting 'Date' column to datetime object\n",
    "\n",
    "player_stats['Date'] = pd.to_datetime(player_stats['Date'])"
   ]
  },
  {
   "cell_type": "code",
   "execution_count": 16,
   "id": "0d975091",
   "metadata": {
    "scrolled": true
   },
   "outputs": [
    {
     "data": {
      "text/html": [
       "<div>\n",
       "<style scoped>\n",
       "    .dataframe tbody tr th:only-of-type {\n",
       "        vertical-align: middle;\n",
       "    }\n",
       "\n",
       "    .dataframe tbody tr th {\n",
       "        vertical-align: top;\n",
       "    }\n",
       "\n",
       "    .dataframe thead th {\n",
       "        text-align: right;\n",
       "    }\n",
       "</style>\n",
       "<table border=\"1\" class=\"dataframe\">\n",
       "  <thead>\n",
       "    <tr style=\"text-align: right;\">\n",
       "      <th></th>\n",
       "      <th>Player</th>\n",
       "      <th>Team</th>\n",
       "      <th>Against</th>\n",
       "      <th>Date</th>\n",
       "      <th>Home</th>\n",
       "      <th>MP</th>\n",
       "      <th>FG</th>\n",
       "      <th>FGA</th>\n",
       "      <th>3P</th>\n",
       "      <th>3PA</th>\n",
       "      <th>...</th>\n",
       "      <th>ORB</th>\n",
       "      <th>DRB</th>\n",
       "      <th>TRB</th>\n",
       "      <th>AST</th>\n",
       "      <th>STL</th>\n",
       "      <th>BLK</th>\n",
       "      <th>TOV</th>\n",
       "      <th>PF</th>\n",
       "      <th>PTS</th>\n",
       "      <th>+/-</th>\n",
       "    </tr>\n",
       "  </thead>\n",
       "  <tbody>\n",
       "    <tr>\n",
       "      <th>12</th>\n",
       "      <td>Ray Allen</td>\n",
       "      <td>Boston Celtics</td>\n",
       "      <td>Cleveland Cavaliers</td>\n",
       "      <td>2008-10-28</td>\n",
       "      <td>1</td>\n",
       "      <td>40.39</td>\n",
       "      <td>2.0</td>\n",
       "      <td>9.0</td>\n",
       "      <td>1.0</td>\n",
       "      <td>4.0</td>\n",
       "      <td>...</td>\n",
       "      <td>1.0</td>\n",
       "      <td>3.0</td>\n",
       "      <td>4.0</td>\n",
       "      <td>1.0</td>\n",
       "      <td>1.0</td>\n",
       "      <td>0.0</td>\n",
       "      <td>4.0</td>\n",
       "      <td>1.0</td>\n",
       "      <td>8.0</td>\n",
       "      <td>-1.0</td>\n",
       "    </tr>\n",
       "    <tr>\n",
       "      <th>13</th>\n",
       "      <td>Paul Pierce</td>\n",
       "      <td>Boston Celtics</td>\n",
       "      <td>Cleveland Cavaliers</td>\n",
       "      <td>2008-10-28</td>\n",
       "      <td>1</td>\n",
       "      <td>38.13</td>\n",
       "      <td>10.0</td>\n",
       "      <td>19.0</td>\n",
       "      <td>2.0</td>\n",
       "      <td>4.0</td>\n",
       "      <td>...</td>\n",
       "      <td>1.0</td>\n",
       "      <td>2.0</td>\n",
       "      <td>3.0</td>\n",
       "      <td>4.0</td>\n",
       "      <td>1.0</td>\n",
       "      <td>0.0</td>\n",
       "      <td>2.0</td>\n",
       "      <td>4.0</td>\n",
       "      <td>27.0</td>\n",
       "      <td>12.0</td>\n",
       "    </tr>\n",
       "    <tr>\n",
       "      <th>14</th>\n",
       "      <td>Kevin Garnett</td>\n",
       "      <td>Boston Celtics</td>\n",
       "      <td>Cleveland Cavaliers</td>\n",
       "      <td>2008-10-28</td>\n",
       "      <td>1</td>\n",
       "      <td>36.09</td>\n",
       "      <td>5.0</td>\n",
       "      <td>15.0</td>\n",
       "      <td>0.0</td>\n",
       "      <td>0.0</td>\n",
       "      <td>...</td>\n",
       "      <td>1.0</td>\n",
       "      <td>5.0</td>\n",
       "      <td>6.0</td>\n",
       "      <td>2.0</td>\n",
       "      <td>2.0</td>\n",
       "      <td>0.0</td>\n",
       "      <td>2.0</td>\n",
       "      <td>1.0</td>\n",
       "      <td>11.0</td>\n",
       "      <td>5.0</td>\n",
       "    </tr>\n",
       "    <tr>\n",
       "      <th>15</th>\n",
       "      <td>Rajon Rondo</td>\n",
       "      <td>Boston Celtics</td>\n",
       "      <td>Cleveland Cavaliers</td>\n",
       "      <td>2008-10-28</td>\n",
       "      <td>1</td>\n",
       "      <td>29.57</td>\n",
       "      <td>4.0</td>\n",
       "      <td>5.0</td>\n",
       "      <td>0.0</td>\n",
       "      <td>0.0</td>\n",
       "      <td>...</td>\n",
       "      <td>1.0</td>\n",
       "      <td>4.0</td>\n",
       "      <td>5.0</td>\n",
       "      <td>6.0</td>\n",
       "      <td>3.0</td>\n",
       "      <td>0.0</td>\n",
       "      <td>2.0</td>\n",
       "      <td>5.0</td>\n",
       "      <td>14.0</td>\n",
       "      <td>4.0</td>\n",
       "    </tr>\n",
       "    <tr>\n",
       "      <th>16</th>\n",
       "      <td>Kendrick Perkins</td>\n",
       "      <td>Boston Celtics</td>\n",
       "      <td>Cleveland Cavaliers</td>\n",
       "      <td>2008-10-28</td>\n",
       "      <td>1</td>\n",
       "      <td>20.50</td>\n",
       "      <td>1.0</td>\n",
       "      <td>2.0</td>\n",
       "      <td>0.0</td>\n",
       "      <td>0.0</td>\n",
       "      <td>...</td>\n",
       "      <td>4.0</td>\n",
       "      <td>4.0</td>\n",
       "      <td>8.0</td>\n",
       "      <td>0.0</td>\n",
       "      <td>0.0</td>\n",
       "      <td>0.0</td>\n",
       "      <td>2.0</td>\n",
       "      <td>6.0</td>\n",
       "      <td>2.0</td>\n",
       "      <td>-7.0</td>\n",
       "    </tr>\n",
       "  </tbody>\n",
       "</table>\n",
       "<p>5 rows × 22 columns</p>\n",
       "</div>"
      ],
      "text/plain": [
       "              Player            Team              Against       Date  Home  \\\n",
       "12         Ray Allen  Boston Celtics  Cleveland Cavaliers 2008-10-28     1   \n",
       "13       Paul Pierce  Boston Celtics  Cleveland Cavaliers 2008-10-28     1   \n",
       "14     Kevin Garnett  Boston Celtics  Cleveland Cavaliers 2008-10-28     1   \n",
       "15       Rajon Rondo  Boston Celtics  Cleveland Cavaliers 2008-10-28     1   \n",
       "16  Kendrick Perkins  Boston Celtics  Cleveland Cavaliers 2008-10-28     1   \n",
       "\n",
       "       MP    FG   FGA   3P  3PA  ...  ORB  DRB  TRB  AST  STL  BLK  TOV   PF  \\\n",
       "12  40.39   2.0   9.0  1.0  4.0  ...  1.0  3.0  4.0  1.0  1.0  0.0  4.0  1.0   \n",
       "13  38.13  10.0  19.0  2.0  4.0  ...  1.0  2.0  3.0  4.0  1.0  0.0  2.0  4.0   \n",
       "14  36.09   5.0  15.0  0.0  0.0  ...  1.0  5.0  6.0  2.0  2.0  0.0  2.0  1.0   \n",
       "15  29.57   4.0   5.0  0.0  0.0  ...  1.0  4.0  5.0  6.0  3.0  0.0  2.0  5.0   \n",
       "16  20.50   1.0   2.0  0.0  0.0  ...  4.0  4.0  8.0  0.0  0.0  0.0  2.0  6.0   \n",
       "\n",
       "     PTS   +/-  \n",
       "12   8.0  -1.0  \n",
       "13  27.0  12.0  \n",
       "14  11.0   5.0  \n",
       "15  14.0   4.0  \n",
       "16   2.0  -7.0  \n",
       "\n",
       "[5 rows x 22 columns]"
      ]
     },
     "execution_count": 16,
     "metadata": {},
     "output_type": "execute_result"
    }
   ],
   "source": [
    "player_stats[player_stats['Home'] == 1].head()"
   ]
  },
  {
   "cell_type": "code",
   "execution_count": 17,
   "id": "073ab542",
   "metadata": {
    "scrolled": true
   },
   "outputs": [
    {
     "data": {
      "text/html": [
       "<div>\n",
       "<style scoped>\n",
       "    .dataframe tbody tr th:only-of-type {\n",
       "        vertical-align: middle;\n",
       "    }\n",
       "\n",
       "    .dataframe tbody tr th {\n",
       "        vertical-align: top;\n",
       "    }\n",
       "\n",
       "    .dataframe thead th {\n",
       "        text-align: right;\n",
       "    }\n",
       "</style>\n",
       "<table border=\"1\" class=\"dataframe\">\n",
       "  <thead>\n",
       "    <tr style=\"text-align: right;\">\n",
       "      <th></th>\n",
       "      <th>Player</th>\n",
       "      <th>Team</th>\n",
       "      <th>Against</th>\n",
       "      <th>Date</th>\n",
       "      <th>Home</th>\n",
       "      <th>MP</th>\n",
       "      <th>FG</th>\n",
       "      <th>FGA</th>\n",
       "      <th>3P</th>\n",
       "      <th>3PA</th>\n",
       "      <th>...</th>\n",
       "      <th>ORB</th>\n",
       "      <th>DRB</th>\n",
       "      <th>TRB</th>\n",
       "      <th>AST</th>\n",
       "      <th>STL</th>\n",
       "      <th>BLK</th>\n",
       "      <th>TOV</th>\n",
       "      <th>PF</th>\n",
       "      <th>PTS</th>\n",
       "      <th>+/-</th>\n",
       "    </tr>\n",
       "  </thead>\n",
       "  <tbody>\n",
       "    <tr>\n",
       "      <th>25566</th>\n",
       "      <td>Jerami Grant</td>\n",
       "      <td>Denver Nuggets</td>\n",
       "      <td>Toronto Raptors</td>\n",
       "      <td>2020-08-14</td>\n",
       "      <td>0</td>\n",
       "      <td>18.18</td>\n",
       "      <td>1.0</td>\n",
       "      <td>6.0</td>\n",
       "      <td>0.0</td>\n",
       "      <td>3.0</td>\n",
       "      <td>...</td>\n",
       "      <td>1.0</td>\n",
       "      <td>1.0</td>\n",
       "      <td>2.0</td>\n",
       "      <td>1.0</td>\n",
       "      <td>0.0</td>\n",
       "      <td>0.0</td>\n",
       "      <td>0.0</td>\n",
       "      <td>0.0</td>\n",
       "      <td>2.0</td>\n",
       "      <td>2.0</td>\n",
       "    </tr>\n",
       "    <tr>\n",
       "      <th>25567</th>\n",
       "      <td>Paul Millsap</td>\n",
       "      <td>Denver Nuggets</td>\n",
       "      <td>Toronto Raptors</td>\n",
       "      <td>2020-08-14</td>\n",
       "      <td>0</td>\n",
       "      <td>15.30</td>\n",
       "      <td>4.0</td>\n",
       "      <td>8.0</td>\n",
       "      <td>2.0</td>\n",
       "      <td>3.0</td>\n",
       "      <td>...</td>\n",
       "      <td>1.0</td>\n",
       "      <td>2.0</td>\n",
       "      <td>3.0</td>\n",
       "      <td>2.0</td>\n",
       "      <td>2.0</td>\n",
       "      <td>1.0</td>\n",
       "      <td>1.0</td>\n",
       "      <td>2.0</td>\n",
       "      <td>10.0</td>\n",
       "      <td>-4.0</td>\n",
       "    </tr>\n",
       "    <tr>\n",
       "      <th>25568</th>\n",
       "      <td>Torrey Craig</td>\n",
       "      <td>Denver Nuggets</td>\n",
       "      <td>Toronto Raptors</td>\n",
       "      <td>2020-08-14</td>\n",
       "      <td>0</td>\n",
       "      <td>14.58</td>\n",
       "      <td>1.0</td>\n",
       "      <td>6.0</td>\n",
       "      <td>1.0</td>\n",
       "      <td>3.0</td>\n",
       "      <td>...</td>\n",
       "      <td>1.0</td>\n",
       "      <td>3.0</td>\n",
       "      <td>4.0</td>\n",
       "      <td>3.0</td>\n",
       "      <td>0.0</td>\n",
       "      <td>0.0</td>\n",
       "      <td>1.0</td>\n",
       "      <td>0.0</td>\n",
       "      <td>3.0</td>\n",
       "      <td>-6.0</td>\n",
       "    </tr>\n",
       "    <tr>\n",
       "      <th>25569</th>\n",
       "      <td>Jamal Murray</td>\n",
       "      <td>Denver Nuggets</td>\n",
       "      <td>Toronto Raptors</td>\n",
       "      <td>2020-08-14</td>\n",
       "      <td>0</td>\n",
       "      <td>10.12</td>\n",
       "      <td>4.0</td>\n",
       "      <td>5.0</td>\n",
       "      <td>3.0</td>\n",
       "      <td>3.0</td>\n",
       "      <td>...</td>\n",
       "      <td>0.0</td>\n",
       "      <td>0.0</td>\n",
       "      <td>0.0</td>\n",
       "      <td>1.0</td>\n",
       "      <td>1.0</td>\n",
       "      <td>0.0</td>\n",
       "      <td>0.0</td>\n",
       "      <td>2.0</td>\n",
       "      <td>11.0</td>\n",
       "      <td>-6.0</td>\n",
       "    </tr>\n",
       "    <tr>\n",
       "      <th>25570</th>\n",
       "      <td>Nikola Jokić</td>\n",
       "      <td>Denver Nuggets</td>\n",
       "      <td>Toronto Raptors</td>\n",
       "      <td>2020-08-14</td>\n",
       "      <td>0</td>\n",
       "      <td>10.12</td>\n",
       "      <td>1.0</td>\n",
       "      <td>1.0</td>\n",
       "      <td>0.0</td>\n",
       "      <td>0.0</td>\n",
       "      <td>...</td>\n",
       "      <td>0.0</td>\n",
       "      <td>1.0</td>\n",
       "      <td>1.0</td>\n",
       "      <td>2.0</td>\n",
       "      <td>0.0</td>\n",
       "      <td>0.0</td>\n",
       "      <td>1.0</td>\n",
       "      <td>0.0</td>\n",
       "      <td>2.0</td>\n",
       "      <td>-6.0</td>\n",
       "    </tr>\n",
       "    <tr>\n",
       "      <th>...</th>\n",
       "      <td>...</td>\n",
       "      <td>...</td>\n",
       "      <td>...</td>\n",
       "      <td>...</td>\n",
       "      <td>...</td>\n",
       "      <td>...</td>\n",
       "      <td>...</td>\n",
       "      <td>...</td>\n",
       "      <td>...</td>\n",
       "      <td>...</td>\n",
       "      <td>...</td>\n",
       "      <td>...</td>\n",
       "      <td>...</td>\n",
       "      <td>...</td>\n",
       "      <td>...</td>\n",
       "      <td>...</td>\n",
       "      <td>...</td>\n",
       "      <td>...</td>\n",
       "      <td>...</td>\n",
       "      <td>...</td>\n",
       "      <td>...</td>\n",
       "    </tr>\n",
       "    <tr>\n",
       "      <th>25648</th>\n",
       "      <td>Chris Clemons</td>\n",
       "      <td>Houston Rockets</td>\n",
       "      <td>Philadelphia 76ers</td>\n",
       "      <td>2020-08-14</td>\n",
       "      <td>1</td>\n",
       "      <td>16.36</td>\n",
       "      <td>2.0</td>\n",
       "      <td>7.0</td>\n",
       "      <td>0.0</td>\n",
       "      <td>5.0</td>\n",
       "      <td>...</td>\n",
       "      <td>0.0</td>\n",
       "      <td>1.0</td>\n",
       "      <td>1.0</td>\n",
       "      <td>4.0</td>\n",
       "      <td>1.0</td>\n",
       "      <td>1.0</td>\n",
       "      <td>1.0</td>\n",
       "      <td>4.0</td>\n",
       "      <td>4.0</td>\n",
       "      <td>-23.0</td>\n",
       "    </tr>\n",
       "    <tr>\n",
       "      <th>25649</th>\n",
       "      <td>Michael Frazier</td>\n",
       "      <td>Houston Rockets</td>\n",
       "      <td>Philadelphia 76ers</td>\n",
       "      <td>2020-08-14</td>\n",
       "      <td>1</td>\n",
       "      <td>16.36</td>\n",
       "      <td>0.0</td>\n",
       "      <td>4.0</td>\n",
       "      <td>0.0</td>\n",
       "      <td>4.0</td>\n",
       "      <td>...</td>\n",
       "      <td>0.0</td>\n",
       "      <td>1.0</td>\n",
       "      <td>1.0</td>\n",
       "      <td>0.0</td>\n",
       "      <td>0.0</td>\n",
       "      <td>0.0</td>\n",
       "      <td>1.0</td>\n",
       "      <td>1.0</td>\n",
       "      <td>0.0</td>\n",
       "      <td>-23.0</td>\n",
       "    </tr>\n",
       "    <tr>\n",
       "      <th>25650</th>\n",
       "      <td>Luc Mbah a Moute</td>\n",
       "      <td>Houston Rockets</td>\n",
       "      <td>Philadelphia 76ers</td>\n",
       "      <td>2020-08-14</td>\n",
       "      <td>1</td>\n",
       "      <td>13.55</td>\n",
       "      <td>1.0</td>\n",
       "      <td>3.0</td>\n",
       "      <td>0.0</td>\n",
       "      <td>2.0</td>\n",
       "      <td>...</td>\n",
       "      <td>0.0</td>\n",
       "      <td>1.0</td>\n",
       "      <td>1.0</td>\n",
       "      <td>0.0</td>\n",
       "      <td>0.0</td>\n",
       "      <td>0.0</td>\n",
       "      <td>0.0</td>\n",
       "      <td>0.0</td>\n",
       "      <td>3.0</td>\n",
       "      <td>-14.0</td>\n",
       "    </tr>\n",
       "    <tr>\n",
       "      <th>25651</th>\n",
       "      <td>Austin Rivers</td>\n",
       "      <td>Houston Rockets</td>\n",
       "      <td>Philadelphia 76ers</td>\n",
       "      <td>2020-08-14</td>\n",
       "      <td>1</td>\n",
       "      <td>12.21</td>\n",
       "      <td>0.0</td>\n",
       "      <td>2.0</td>\n",
       "      <td>0.0</td>\n",
       "      <td>2.0</td>\n",
       "      <td>...</td>\n",
       "      <td>0.0</td>\n",
       "      <td>1.0</td>\n",
       "      <td>1.0</td>\n",
       "      <td>0.0</td>\n",
       "      <td>1.0</td>\n",
       "      <td>0.0</td>\n",
       "      <td>1.0</td>\n",
       "      <td>0.0</td>\n",
       "      <td>1.0</td>\n",
       "      <td>-16.0</td>\n",
       "    </tr>\n",
       "    <tr>\n",
       "      <th>25652</th>\n",
       "      <td>Ben McLemore</td>\n",
       "      <td>Houston Rockets</td>\n",
       "      <td>Philadelphia 76ers</td>\n",
       "      <td>2020-08-14</td>\n",
       "      <td>1</td>\n",
       "      <td>11.21</td>\n",
       "      <td>1.0</td>\n",
       "      <td>4.0</td>\n",
       "      <td>1.0</td>\n",
       "      <td>3.0</td>\n",
       "      <td>...</td>\n",
       "      <td>0.0</td>\n",
       "      <td>2.0</td>\n",
       "      <td>2.0</td>\n",
       "      <td>1.0</td>\n",
       "      <td>1.0</td>\n",
       "      <td>0.0</td>\n",
       "      <td>0.0</td>\n",
       "      <td>0.0</td>\n",
       "      <td>3.0</td>\n",
       "      <td>-17.0</td>\n",
       "    </tr>\n",
       "  </tbody>\n",
       "</table>\n",
       "<p>83 rows × 22 columns</p>\n",
       "</div>"
      ],
      "text/plain": [
       "                 Player             Team             Against       Date  Home  \\\n",
       "25566      Jerami Grant   Denver Nuggets     Toronto Raptors 2020-08-14     0   \n",
       "25567      Paul Millsap   Denver Nuggets     Toronto Raptors 2020-08-14     0   \n",
       "25568      Torrey Craig   Denver Nuggets     Toronto Raptors 2020-08-14     0   \n",
       "25569      Jamal Murray   Denver Nuggets     Toronto Raptors 2020-08-14     0   \n",
       "25570      Nikola Jokić   Denver Nuggets     Toronto Raptors 2020-08-14     0   \n",
       "...                 ...              ...                 ...        ...   ...   \n",
       "25648     Chris Clemons  Houston Rockets  Philadelphia 76ers 2020-08-14     1   \n",
       "25649   Michael Frazier  Houston Rockets  Philadelphia 76ers 2020-08-14     1   \n",
       "25650  Luc Mbah a Moute  Houston Rockets  Philadelphia 76ers 2020-08-14     1   \n",
       "25651     Austin Rivers  Houston Rockets  Philadelphia 76ers 2020-08-14     1   \n",
       "25652      Ben McLemore  Houston Rockets  Philadelphia 76ers 2020-08-14     1   \n",
       "\n",
       "          MP   FG  FGA   3P  3PA  ...  ORB  DRB  TRB  AST  STL  BLK  TOV   PF  \\\n",
       "25566  18.18  1.0  6.0  0.0  3.0  ...  1.0  1.0  2.0  1.0  0.0  0.0  0.0  0.0   \n",
       "25567  15.30  4.0  8.0  2.0  3.0  ...  1.0  2.0  3.0  2.0  2.0  1.0  1.0  2.0   \n",
       "25568  14.58  1.0  6.0  1.0  3.0  ...  1.0  3.0  4.0  3.0  0.0  0.0  1.0  0.0   \n",
       "25569  10.12  4.0  5.0  3.0  3.0  ...  0.0  0.0  0.0  1.0  1.0  0.0  0.0  2.0   \n",
       "25570  10.12  1.0  1.0  0.0  0.0  ...  0.0  1.0  1.0  2.0  0.0  0.0  1.0  0.0   \n",
       "...      ...  ...  ...  ...  ...  ...  ...  ...  ...  ...  ...  ...  ...  ...   \n",
       "25648  16.36  2.0  7.0  0.0  5.0  ...  0.0  1.0  1.0  4.0  1.0  1.0  1.0  4.0   \n",
       "25649  16.36  0.0  4.0  0.0  4.0  ...  0.0  1.0  1.0  0.0  0.0  0.0  1.0  1.0   \n",
       "25650  13.55  1.0  3.0  0.0  2.0  ...  0.0  1.0  1.0  0.0  0.0  0.0  0.0  0.0   \n",
       "25651  12.21  0.0  2.0  0.0  2.0  ...  0.0  1.0  1.0  0.0  1.0  0.0  1.0  0.0   \n",
       "25652  11.21  1.0  4.0  1.0  3.0  ...  0.0  2.0  2.0  1.0  1.0  0.0  0.0  0.0   \n",
       "\n",
       "        PTS   +/-  \n",
       "25566   2.0   2.0  \n",
       "25567  10.0  -4.0  \n",
       "25568   3.0  -6.0  \n",
       "25569  11.0  -6.0  \n",
       "25570   2.0  -6.0  \n",
       "...     ...   ...  \n",
       "25648   4.0 -23.0  \n",
       "25649   0.0 -23.0  \n",
       "25650   3.0 -14.0  \n",
       "25651   1.0 -16.0  \n",
       "25652   3.0 -17.0  \n",
       "\n",
       "[83 rows x 22 columns]"
      ]
     },
     "execution_count": 17,
     "metadata": {},
     "output_type": "execute_result"
    }
   ],
   "source": [
    "test1 = player_stats[player_stats['Date'] == '2020-8-14']\n",
    "test1"
   ]
  },
  {
   "cell_type": "code",
   "execution_count": null,
   "id": "a74bfa14",
   "metadata": {},
   "outputs": [],
   "source": []
  },
  {
   "cell_type": "code",
   "execution_count": 18,
   "id": "bf6eda78",
   "metadata": {
    "scrolled": false
   },
   "outputs": [
    {
     "data": {
      "text/plain": [
       "array(['Cleveland Cavaliers', 'Boston Celtics', 'Milwaukee Bucks',\n",
       "       'Chicago Bulls', 'Portland Trail Blazers', 'Los Angeles Lakers',\n",
       "       'Toronto Raptors', 'Philadelphia 76ers', 'New Jersey Nets',\n",
       "       'Washington Wizards', 'Atlanta Hawks', 'Orlando Magic',\n",
       "       'Miami Heat', 'New York Knicks', 'Phoenix Suns',\n",
       "       'San Antonio Spurs', 'Oklahoma City Thunder', 'Sacramento Kings',\n",
       "       'Minnesota Timberwolves', 'Indiana Pacers', 'Detroit Pistons',\n",
       "       'Memphis Grizzlies', 'Houston Rockets', 'Denver Nuggets',\n",
       "       'Utah Jazz', 'Los Angeles Clippers', 'New Orleans Hornets',\n",
       "       'Golden State Warriors', 'Charlotte Bobc', 'Dallas Mavericks',\n",
       "       'Charlotte Bobcats', 'Brooklyn Nets', 'New Orleans Pelicans',\n",
       "       'Charlotte Hornets'], dtype=object)"
      ]
     },
     "execution_count": 18,
     "metadata": {},
     "output_type": "execute_result"
    }
   ],
   "source": [
    "player_stats['Team'].unique()"
   ]
  },
  {
   "cell_type": "code",
   "execution_count": 19,
   "id": "d30a50a4",
   "metadata": {},
   "outputs": [
    {
     "data": {
      "text/plain": [
       "0"
      ]
     },
     "execution_count": 19,
     "metadata": {},
     "output_type": "execute_result"
    }
   ],
   "source": [
    "player_stats.Home.isnull().sum()"
   ]
  },
  {
   "cell_type": "code",
   "execution_count": 20,
   "id": "c75c134d",
   "metadata": {
    "scrolled": true
   },
   "outputs": [
    {
     "name": "stderr",
     "output_type": "stream",
     "text": [
      "<ipython-input-20-db0d992679ce>:8: SettingWithCopyWarning: \n",
      "A value is trying to be set on a copy of a slice from a DataFrame.\n",
      "Try using .loc[row_indexer,col_indexer] = value instead\n",
      "\n",
      "See the caveats in the documentation: https://pandas.pydata.org/pandas-docs/stable/user_guide/indexing.html#returning-a-view-versus-a-copy\n",
      "  name_change['Team'] = name_change['Team'].replace({'New York Knicks' : 'NYK', 'New Jersey Nets': 'BKN', 'Brooklyn Nets':'BKN', 'New Orleans Hornets':'NOP', 'Charlotte Bobcats':'CHO', 'Charlotte Bobc':'CHO', 'Charlotte Hornets':'CHO', 'New Orleans Pelicans':'NOP', 'Los Angeles Lakers':'LAL', 'Los Angeles Clippers':'LAC' })\n",
      "<ipython-input-20-db0d992679ce>:9: SettingWithCopyWarning: \n",
      "A value is trying to be set on a copy of a slice from a DataFrame.\n",
      "Try using .loc[row_indexer,col_indexer] = value instead\n",
      "\n",
      "See the caveats in the documentation: https://pandas.pydata.org/pandas-docs/stable/user_guide/indexing.html#returning-a-view-versus-a-copy\n",
      "  name_change['Against'] = name_change['Against'].replace({'New York Knicks' : 'NYK', 'New Jersey Nets': 'BKN', 'Brooklyn Nets':'BKN', 'New Orleans Hornets':'NOP', 'Charlotte Bobcats':'CHO', 'Charlotte Bobc':'CHO', 'Charlotte Hornets':'CHO', 'New Orleans Pelicans':'NOP', 'Los Angeles Lakers':'LAL', 'Los Angeles Clippers':'LAC' })\n"
     ]
    },
    {
     "data": {
      "text/plain": [
       "array(['Cleveland Cavaliers', 'Boston Celtics', 'Milwaukee Bucks',\n",
       "       'Chicago Bulls', 'Portland Trail Blazers', 'LAL',\n",
       "       'Toronto Raptors', 'Philadelphia 76ers', 'BKN',\n",
       "       'Washington Wizards', 'Atlanta Hawks', 'Orlando Magic',\n",
       "       'Miami Heat', 'NYK', 'Phoenix Suns', 'San Antonio Spurs',\n",
       "       'Oklahoma City Thunder', 'Sacramento Kings',\n",
       "       'Minnesota Timberwolves', 'Indiana Pacers', 'Detroit Pistons',\n",
       "       'Memphis Grizzlies', 'Houston Rockets', 'Denver Nuggets',\n",
       "       'Utah Jazz', 'LAC', 'NOP', 'Golden State Warriors', 'CHO',\n",
       "       'Dallas Mavericks'], dtype=object)"
      ]
     },
     "execution_count": 20,
     "metadata": {},
     "output_type": "execute_result"
    }
   ],
   "source": [
    "#Above we see that there are teams that have moved and the names have changed, since our data requires their prior season performances\n",
    "#we will try to set the GameID's to have consistency with the team and their history (per the duration of our dataset)\n",
    "#NJN are now the BKN \n",
    "name_change = player_stats[['Team', 'Against', 'Home']]\n",
    "\n",
    "\n",
    "\n",
    "name_change['Team'] = name_change['Team'].replace({'New York Knicks' : 'NYK', 'New Jersey Nets': 'BKN', 'Brooklyn Nets':'BKN', 'New Orleans Hornets':'NOP', 'Charlotte Bobcats':'CHO', 'Charlotte Bobc':'CHO', 'Charlotte Hornets':'CHO', 'New Orleans Pelicans':'NOP', 'Los Angeles Lakers':'LAL', 'Los Angeles Clippers':'LAC' })\n",
    "name_change['Against'] = name_change['Against'].replace({'New York Knicks' : 'NYK', 'New Jersey Nets': 'BKN', 'Brooklyn Nets':'BKN', 'New Orleans Hornets':'NOP', 'Charlotte Bobcats':'CHO', 'Charlotte Bobc':'CHO', 'Charlotte Hornets':'CHO', 'New Orleans Pelicans':'NOP', 'Los Angeles Lakers':'LAL', 'Los Angeles Clippers':'LAC' })\n",
    "#New Orleans Hornets are now the New Orlean Pelicans\n",
    "#Charlotte Bobcats are the charlotte hornets \n",
    "name_change['Team'].unique()\n"
   ]
  },
  {
   "cell_type": "code",
   "execution_count": 21,
   "id": "d44da8a6",
   "metadata": {},
   "outputs": [
    {
     "data": {
      "text/plain": [
       "30"
      ]
     },
     "execution_count": 21,
     "metadata": {},
     "output_type": "execute_result"
    }
   ],
   "source": [
    "len(name_change['Against'].unique())\n",
    "#30 teams in the NBA "
   ]
  },
  {
   "cell_type": "code",
   "execution_count": 22,
   "id": "40b17df3",
   "metadata": {},
   "outputs": [
    {
     "data": {
      "text/plain": [
       "30"
      ]
     },
     "execution_count": 22,
     "metadata": {},
     "output_type": "execute_result"
    }
   ],
   "source": [
    "len(name_change['Team'].unique())"
   ]
  },
  {
   "cell_type": "code",
   "execution_count": null,
   "id": "ea64a515",
   "metadata": {},
   "outputs": [],
   "source": []
  },
  {
   "cell_type": "code",
   "execution_count": null,
   "id": "e351203f",
   "metadata": {},
   "outputs": [],
   "source": [
    "for x in name_change['Home']:\n",
    "    if x==1:\n",
    "        player_stats['homeAbbr'] = name_change['Team'].str[0:3].str.upper()\n",
    "    else:\n",
    "        player_stats['homeAbbr'] = name_change['Against'].str[0:3].str.upper()"
   ]
  },
  {
   "cell_type": "code",
   "execution_count": null,
   "id": "a750c377",
   "metadata": {},
   "outputs": [],
   "source": [
    "player_stats['homeAbbr'].unique()"
   ]
  },
  {
   "cell_type": "code",
   "execution_count": null,
   "id": "486b297d",
   "metadata": {
    "scrolled": true
   },
   "outputs": [],
   "source": [
    "player_stats['homeAbbr'] = player_stats['homeAbbr'].replace({'SAN':'SAS', 'OKL': 'OKC', 'GOL':'GSW'})\n",
    "player_stats['homeAbbr'].unique()"
   ]
  },
  {
   "cell_type": "code",
   "execution_count": null,
   "id": "396b2263",
   "metadata": {},
   "outputs": [],
   "source": [
    "len(player_stats['homeAbbr'].unique())"
   ]
  },
  {
   "cell_type": "code",
   "execution_count": null,
   "id": "049a3e86",
   "metadata": {
    "scrolled": false
   },
   "outputs": [],
   "source": [
    "player_stats['gameID'] =  player_stats['Date'].dt.strftime('%Y%m%d') + player_stats['homeAbbr']\n",
    "player_stats.head()"
   ]
  },
  {
   "cell_type": "code",
   "execution_count": null,
   "id": "39d99163",
   "metadata": {},
   "outputs": [],
   "source": [
    "player_stats.reset_index(drop = True, inplace = True)"
   ]
  },
  {
   "cell_type": "code",
   "execution_count": null,
   "id": "d1b46ce1",
   "metadata": {},
   "outputs": [],
   "source": [
    "#Removing non-regular season games\n",
    "dates =[['2008-10-28', '2009-04-16'],['2009-10-27', '2010-04-17'], ['2010-10-26', '2011-04-13' ], ['2011-12-25', '2012-04-26'], ['2012-10-30', '2013-04-17'], ['2013-10-29', '2014-04-16'], ['2014-10-28', '2015-04-15'], ['2015-10-27', '2016-04-16'], ['2016-10-25', '2017-04-12'], ['2017-10-17', '2018-04-11'], ['2018-10-16', '2019-04-10'], ['2019-10-22', '2020-08-14' ]]\n",
    "is_regsea = lambda date : (date>= pd.to_datetime(start_date)) & (date<= pd.to_datetime(end_date))\n",
    "all_regsea = pd.DataFrame()\n",
    "\n",
    "for start_date, end_date in dates:\n",
    "    print(start_date, end_date)\n",
    "    all_regsea = pd.concat([all_regsea, player_stats.Date.apply(is_regsea)], axis=1)\n"
   ]
  },
  {
   "cell_type": "code",
   "execution_count": null,
   "id": "1a00d2e2",
   "metadata": {
    "scrolled": true
   },
   "outputs": [],
   "source": [
    "all_regsea.info()"
   ]
  },
  {
   "cell_type": "code",
   "execution_count": null,
   "id": "fd11e270",
   "metadata": {},
   "outputs": [],
   "source": [
    "all_regsea = all_regsea.sum(axis=1)"
   ]
  },
  {
   "cell_type": "code",
   "execution_count": null,
   "id": "92e71d0a",
   "metadata": {},
   "outputs": [],
   "source": [
    "regsea = np.where(all_regsea == 1)[0]\n",
    "regsea"
   ]
  },
  {
   "cell_type": "code",
   "execution_count": null,
   "id": "a6d4c1fe",
   "metadata": {},
   "outputs": [],
   "source": [
    "player_stats = player_stats.loc[regsea]"
   ]
  },
  {
   "cell_type": "code",
   "execution_count": null,
   "id": "469d3275",
   "metadata": {
    "scrolled": true
   },
   "outputs": [],
   "source": [
    "player_stats.shape"
   ]
  },
  {
   "cell_type": "code",
   "execution_count": null,
   "id": "971b0ed1",
   "metadata": {
    "scrolled": true
   },
   "outputs": [],
   "source": [
    "player_stats.drop(columns = ['homeAbbr'], inplace=True)"
   ]
  },
  {
   "cell_type": "code",
   "execution_count": null,
   "id": "c1c7cc65",
   "metadata": {},
   "outputs": [],
   "source": [
    "player_stats.sort_values(by = 'Date', ascending = False, inplace = True)\n",
    "player_stats.reset_index(inplace = True, drop = True)"
   ]
  },
  {
   "cell_type": "code",
   "execution_count": null,
   "id": "e899a116",
   "metadata": {},
   "outputs": [],
   "source": [
    "clean_player_stats = player_stats"
   ]
  },
  {
   "cell_type": "code",
   "execution_count": null,
   "id": "aab98151",
   "metadata": {
    "scrolled": false
   },
   "outputs": [],
   "source": [
    "clean_player_stats.head()"
   ]
  },
  {
   "cell_type": "markdown",
   "id": "6cf2e798",
   "metadata": {},
   "source": [
    "# 1.3 Saving Cleaned Player Stats Data To CSV"
   ]
  },
  {
   "cell_type": "code",
   "execution_count": null,
   "id": "d04667f1",
   "metadata": {},
   "outputs": [],
   "source": [
    "clean_player_stats.to_csv('Cleaned_Player_Stats.csv')"
   ]
  },
  {
   "cell_type": "markdown",
   "id": "82b9a9d9",
   "metadata": {},
   "source": [
    "# 1.3 Cleaning team_stats"
   ]
  },
  {
   "cell_type": "code",
   "execution_count": null,
   "id": "415dc5ab",
   "metadata": {},
   "outputs": [],
   "source": [
    "#read in team_stats\n",
    "team_stats = pd.read_csv('Team_Stats.csv')"
   ]
  },
  {
   "cell_type": "code",
   "execution_count": null,
   "id": "52fbf9e5",
   "metadata": {
    "scrolled": true
   },
   "outputs": [],
   "source": [
    "team_stats.reset_index(drop=True)"
   ]
  },
  {
   "cell_type": "code",
   "execution_count": null,
   "id": "cca8f160",
   "metadata": {},
   "outputs": [],
   "source": [
    "#Converting 'gmDate' column to datetime object\n",
    "\n",
    "team_stats['gmDate'] = pd.to_datetime(team_stats['gmDate'])"
   ]
  },
  {
   "cell_type": "code",
   "execution_count": null,
   "id": "72de35f9",
   "metadata": {
    "scrolled": false
   },
   "outputs": [],
   "source": [
    "team_stats= team_stats.iloc[:,1:]\n",
    "team_stats['opptAbbr'].unique()"
   ]
  },
  {
   "cell_type": "code",
   "execution_count": null,
   "id": "38a955ab",
   "metadata": {},
   "outputs": [],
   "source": [
    "#Our analysis will focus on regular season for the recreating portion of our anaylysis. \n",
    "team_stats['seasonType'].unique()"
   ]
  },
  {
   "cell_type": "code",
   "execution_count": null,
   "id": "b66d6bca",
   "metadata": {},
   "outputs": [],
   "source": [
    "#We will separate the data into regular season and playoffs.\n",
    "team_stats = team_stats[team_stats['seasonType']=='Regular']"
   ]
  },
  {
   "cell_type": "code",
   "execution_count": null,
   "id": "5c01587a",
   "metadata": {
    "scrolled": false
   },
   "outputs": [],
   "source": [
    "team_stats['seasonType'].unique()"
   ]
  },
  {
   "cell_type": "code",
   "execution_count": null,
   "id": "2d154d6d",
   "metadata": {
    "scrolled": false
   },
   "outputs": [],
   "source": [
    "#The games stats are recorded as team vs. opponent with another column indicating whether this is a home game or an away game. \n",
    "#This format leaves me to suspect there is double data of the same game. Let's investigate. \n",
    "\n",
    "team_stats['gmDate'] = pd.to_datetime(team_stats['gmDate'])\n",
    "team_stats[['teamAbbr', 'teamLoc', 'opptAbbr', 'opptLoc', 'gmDate', 'opptLoc']][team_stats['gmDate'] == datetime(2020,8,14)]\n",
    "\n",
    "#Seems our suspicion was wrong and away_games=team as home_games=opp. We will keep this in mind during feature engineering.\n",
    "#Double check and seems Allstar games are not included as well. "
   ]
  },
  {
   "cell_type": "code",
   "execution_count": null,
   "id": "d8ca5d93",
   "metadata": {},
   "outputs": [],
   "source": [
    "team_stats[['teamAbbr', 'teamLoc', 'opptAbbr', 'opptLoc']][team_stats['gmDate'] == datetime(2020,8,14)]"
   ]
  },
  {
   "cell_type": "code",
   "execution_count": null,
   "id": "73d9423a",
   "metadata": {},
   "outputs": [],
   "source": [
    "team_stats.reset_index(inplace = True, drop = True)"
   ]
  },
  {
   "cell_type": "code",
   "execution_count": null,
   "id": "9d8ae3e4",
   "metadata": {},
   "outputs": [],
   "source": [
    "all_regsea2 = pd.DataFrame()\n",
    "is_regsea = lambda date : (date>= pd.to_datetime(start_date)) & (date<= pd.to_datetime(end_date))\n",
    "\n",
    "for start_date, end_date in dates:\n",
    "    print(start_date, end_date)\n",
    "    all_regsea2 = pd.concat([all_regsea2, team_stats.gmDate.apply(is_regsea)], axis=1)"
   ]
  },
  {
   "cell_type": "code",
   "execution_count": null,
   "id": "515c9a1c",
   "metadata": {},
   "outputs": [],
   "source": [
    "all_regsea2 = all_regsea2.sum(axis=1)"
   ]
  },
  {
   "cell_type": "code",
   "execution_count": null,
   "id": "81b8f7b1",
   "metadata": {},
   "outputs": [],
   "source": [
    "regsea2 = np.where(all_regsea2 == 1)[0]\n",
    "regsea2"
   ]
  },
  {
   "cell_type": "code",
   "execution_count": null,
   "id": "2a061e95",
   "metadata": {},
   "outputs": [],
   "source": [
    "team_stats = team_stats.loc[regsea2]"
   ]
  },
  {
   "cell_type": "code",
   "execution_count": null,
   "id": "bf5310df",
   "metadata": {},
   "outputs": [],
   "source": [
    "team_stats.reset_index(inplace = True, drop = True)"
   ]
  },
  {
   "cell_type": "code",
   "execution_count": null,
   "id": "d983607f",
   "metadata": {
    "scrolled": false
   },
   "outputs": [],
   "source": [
    "#The games stats are recorded as team vs. opponent with another column indicating whether this is a home game or an away game. \n",
    "#This format leaves me to suspect there is double data of the same game. Let's investigate. \n",
    "\n",
    "team_stats['gmDate'] = pd.to_datetime(team_stats['gmDate'])\n",
    "team_stats[['teamAbbr', 'teamLoc', 'opptAbbr', 'opptLoc']][team_stats['gmDate'] == datetime(2020,8,14)]\n",
    "\n",
    "#Seems our suspicion was wrong and away_games=team as home_games=opp. We will keep this in mind during feature engineering. "
   ]
  },
  {
   "cell_type": "code",
   "execution_count": null,
   "id": "b69bfeed",
   "metadata": {
    "scrolled": true
   },
   "outputs": [],
   "source": [
    "len(team_stats['opptAbbr'].unique())"
   ]
  },
  {
   "cell_type": "code",
   "execution_count": null,
   "id": "ac8d243e",
   "metadata": {},
   "outputs": [],
   "source": [
    "#33 teams, 3 more than what we had with the player stats, that means we have 3 team abbreviations that are duplicates\n",
    "#CHA were the charlotte bobcats that because the new charlotto hornets CHO \n",
    "#NJN became the BKN\n",
    "#NOH changed name to NOP\n",
    "team_name_change = team_stats['opptAbbr'].replace({'NJN':'BKN', 'CHA':'CHO', 'BRK':'BKN', 'NOH' : 'NOP'})"
   ]
  },
  {
   "cell_type": "code",
   "execution_count": null,
   "id": "69027969",
   "metadata": {
    "scrolled": true
   },
   "outputs": [],
   "source": [
    "len(team_name_change.unique())"
   ]
  },
  {
   "cell_type": "code",
   "execution_count": null,
   "id": "07b0e8f2",
   "metadata": {
    "scrolled": false
   },
   "outputs": [],
   "source": [
    "dateString =  team_stats['gmDate'].dt.strftime('%Y%m%d')\n",
    "dateString.head()"
   ]
  },
  {
   "cell_type": "code",
   "execution_count": null,
   "id": "88f6d4fc",
   "metadata": {
    "scrolled": false
   },
   "outputs": [],
   "source": [
    "team_stats['GameID'] = dateString + team_name_change\n",
    "team_stats['GameID'].head()"
   ]
  },
  {
   "cell_type": "code",
   "execution_count": null,
   "id": "12b76e46",
   "metadata": {
    "scrolled": true
   },
   "outputs": [],
   "source": [
    "team_stats[['GameID','teamAbbr', 'opptAbbr', 'opptLoc']][team_stats['gmDate'] == datetime(2020,8,14)]"
   ]
  },
  {
   "cell_type": "code",
   "execution_count": null,
   "id": "68bf4e64",
   "metadata": {},
   "outputs": [],
   "source": [
    "#Renaming Columns\n",
    "\n",
    "team_stats.rename(columns = {'gmDate' : 'Date', 'teamAbbr' : 'A_Team', 'opptAbbr' : 'H_Team' ,'teamFGM': 'teamFGMade', 'team2PM' : 'team2PMade' , 'team3PM' : 'team3PMade', 'teamFTM' : 'teamFTMade',   'opptFGM': 'opptFGMade', 'oppt2PM': 'oppt2PMade', 'oppt3PM' : 'oppt3PMade', 'opptFTM' : 'opptFTMade'}, inplace = True)"
   ]
  },
  {
   "cell_type": "code",
   "execution_count": null,
   "id": "9acdb56a",
   "metadata": {
    "scrolled": true
   },
   "outputs": [],
   "source": [
    "#Removing percentage columns. \n",
    "\n",
    "team_stats.drop(columns = ['seasonType', 'teamFG%', 'team2P%', 'team3P%', 'teamFT%', 'teamTREB%', 'teamASST%', 'teamTS%', 'teamEFG%', 'teamOREB%', 'teamLoc', 'teamDREB%', 'teamTO%', 'teamSTL%', 'teamBLK%', 'teamBLKR', 'teamPPS', 'teamFIC', 'teamFIC40' , 'teamPlay%', 'teamAR', 'teamPoss', 'teamPace', 'teamSTL/TO', 'teamEDiff', 'opptEDiff', 'teamAST/TO', 'opptAST/TO', 'opptFG%', 'oppt2P%', 'oppt3P%', 'opptFT%', 'opptTREB%', 'opptASST%', 'opptTS%', 'opptEFG%', 'opptLoc', 'opptOREB%', 'opptDREB%', 'opptTO%', 'opptSTL%', 'opptBLK%', 'opptBLKR', 'opptPPS', 'opptFIC', 'opptFIC40', 'opptPlay%', 'opptAR', 'opptSTL/TO', 'opptPoss', 'opptPace'], inplace = True)"
   ]
  },
  {
   "cell_type": "code",
   "execution_count": null,
   "id": "229510dd",
   "metadata": {},
   "outputs": [],
   "source": [
    "team_stats['H_Loc'] = team_stats['H_Team']"
   ]
  },
  {
   "cell_type": "code",
   "execution_count": null,
   "id": "07d98c5c",
   "metadata": {},
   "outputs": [],
   "source": [
    "#Creating Missed Columns\n",
    "\n",
    "team_stats['teamFGMissed'] = team_stats['teamFGA'] - team_stats['teamFGMade']\n",
    "team_stats['team2PMissed'] = team_stats['team2PA'] - team_stats['team2PMade'] \n",
    "team_stats['team3PMissed'] = team_stats['team3PA'] - team_stats['team3PMade']\n",
    "team_stats['opptFGMissed'] = team_stats['opptFGA'] - team_stats['opptFGMade']\n",
    "team_stats['oppt2PMissed'] = team_stats['oppt2PA'] - team_stats['oppt2PMade']\n",
    "team_stats['oppt3PMissed'] = team_stats['oppt3PA'] - team_stats['oppt3PMade']"
   ]
  },
  {
   "cell_type": "code",
   "execution_count": null,
   "id": "9ee1be8d",
   "metadata": {},
   "outputs": [],
   "source": [
    "team_stats.sort_values(by = 'Date', ascending = False, inplace=True)\n",
    "team_stats.reset_index(inplace = True, drop = True)"
   ]
  },
  {
   "cell_type": "code",
   "execution_count": null,
   "id": "1c0131aa",
   "metadata": {},
   "outputs": [],
   "source": [
    "team_stats.columns = [col.replace('team', 'A_') for col in team_stats.columns]\n",
    "team_stats.columns = [col.replace('oppt', 'H_') for col in team_stats.columns]"
   ]
  },
  {
   "cell_type": "code",
   "execution_count": null,
   "id": "9ce8cd61",
   "metadata": {
    "scrolled": true
   },
   "outputs": [],
   "source": [
    "team_stats.columns"
   ]
  },
  {
   "cell_type": "code",
   "execution_count": null,
   "id": "2745d119",
   "metadata": {},
   "outputs": [],
   "source": [
    "#Reorder the columns for easier visuals\n",
    "\n",
    "def alternate_lists(l_1, l_2) :\n",
    "    l = []\n",
    "    for i in range(len(l_1)) :\n",
    "        l.append(l_1[i])\n",
    "        l.append(l_2[i])\n",
    "    return l\n",
    "\n",
    "new_column_order = []\n",
    "l = ['Date', 'GameID', 'season', 'H_Team', 'H_Wins', 'H_Losses', 'A_Team','A_Wins', 'A_Losses', 'H_Loc']\n",
    "\n",
    "other = [x for x in team_stats.columns if x not in l] \n",
    "\n",
    "for i in range (1, 10) :\n",
    "    h_stats_for_given_quarter = [x for x in other if x[-1] == str(i) and 'H_' in x]\n",
    "    a_stats_for_given_quarter = [x for x in other if x[-1] == str(i) and 'A_' in x]\n",
    "    \n",
    "    overall_stats = alternate_lists(h_stats_for_given_quarter, a_stats_for_given_quarter)\n",
    "    new_column_order += overall_stats\n",
    "\n",
    "h_full_game_stats = [x for x in other if x not in new_column_order and 'H_' in x]\n",
    "a_full_game_stats = [x for x in other if x not in new_column_order and 'A_' in x]\n",
    "overall_full_game_stats = alternate_lists(h_full_game_stats, a_full_game_stats)\n",
    "\n",
    "new_column_order = l + overall_full_game_stats + new_column_order\n",
    "\n",
    "cleaned_team_stats= team_stats[new_column_order]"
   ]
  },
  {
   "cell_type": "code",
   "execution_count": null,
   "id": "36cc7dab",
   "metadata": {
    "scrolled": false
   },
   "outputs": [],
   "source": [
    "cleaned_team_stats"
   ]
  },
  {
   "cell_type": "code",
   "execution_count": null,
   "id": "e2342a67",
   "metadata": {},
   "outputs": [],
   "source": [
    "len(overall_full_game_stats)"
   ]
  },
  {
   "cell_type": "code",
   "execution_count": null,
   "id": "2faae0d4",
   "metadata": {},
   "outputs": [],
   "source": [
    "len(new_column_order)"
   ]
  },
  {
   "cell_type": "code",
   "execution_count": null,
   "id": "cc553e07",
   "metadata": {},
   "outputs": [],
   "source": [
    "cleaned_team_stats.to_csv('cleaned_team_stats')"
   ]
  },
  {
   "cell_type": "markdown",
   "id": "803c3f42",
   "metadata": {},
   "source": [
    "# Section 2 Feature Engineering"
   ]
  },
  {
   "cell_type": "markdown",
   "id": "c2ea5aa8",
   "metadata": {},
   "source": [
    "Our main goal is to predict winning and losing of games between teams. The stats teams and players accrue in games are not as helpful, therefore, we will engineer a few features that will provide more insight into win/loss predictions. The prior investigation utilized the following. \n",
    "\n",
    "1. Elo Ratings \n",
    "The Elo system is a calculate stat that keeps track of relative skill and quality of teams within the league. Everyteam starts with the same Elo rating at the beggining of a season, and will either add to or subtract value as they win/lose throughoput the season. \n",
    "\n",
    "2. Recent Team Performances \n",
    "We will keep track of the rolling averages for a teams performance over the last 10 games prior to the game we are predicting. This gives us a glimps of how the team is playing recently leading up to the predicted game. \n",
    "\n",
    "3. Recent Player Performances \n",
    "Keeping track of player performances can also tell us how well that player will play (suspicious of paisson model behaviour for players and their scoring in view of their seasonal stats) \n",
    "\n",
    "4. Player Performance In Season\n",
    "Likewise, how this player has performed up to their current game within the season can also gives us glimpse into how their performances are trending. "
   ]
  },
  {
   "cell_type": "markdown",
   "id": "8b99f094",
   "metadata": {},
   "source": [
    "# 2.1 Elo Ratings\n",
    "\n",
    "## Read in Team stats"
   ]
  },
  {
   "cell_type": "code",
   "execution_count": null,
   "id": "2bb179ee",
   "metadata": {},
   "outputs": [],
   "source": [
    "team_stats = pd.read_csv('cleaned_team_stats')\n",
    "team_stats['Date'] = pd.to_datetime(team_stats['Date'])\n",
    "team_stats.drop(columns = team_stats.columns[0], axis=1, inplace = True)\n",
    "team_stats.info()\n"
   ]
  },
  {
   "cell_type": "markdown",
   "id": "73f7717e",
   "metadata": {},
   "source": [
    "Elo rating takes into account variables suc as difficult of schedule, home court advantage, margin of victory, and etc. These variables give more insight than simply utilizing team win record percentages. The formula below was concepted by [Nate Silver](https://fivethirtyeight.com/features/how-we-calculate-nba-elo-ratings/#:~:text=Here's%20the%20formula%3A%20Take%20the,and%20then%20divide%20by%2028.). \n",
    "\n",
    "All teams start off with a 1500 elo rating. After each game, the winner is award addition elo value and the loser has their elo value subtracted. The equation to calculate for Elo is shown below, where $R_{i}$ is the current Elo rating.\n",
    "\n",
    "$$ R_{i + 1} = k * (S_{team} - E_{team} + R_{i}) $$\n",
    "\n",
    "\n",
    "$S_{team} = 1 $ when the team wins, and 0 if the team loses. The $E_{team}$ value is expected win probability of the team which is further defined as \n",
    "\n",
    "$$ E_{team} = \\frac{1}{1+10^{\\frac{opp\\_elo - team\\_elo}{400}}}$$\n",
    "\n",
    "The $k$ in the the Elo equationis a moving constant depending on the margin of victory and difference in Elo ratings. The k constant is calculated as: \n",
    "\n",
    "$$ k = 20 \\frac{(MOV_{winner} + 3)^{0.8}}{7.5 + 0.006(elo\\_difference_{winner})} $$\n",
    "\n",
    "Elo ratings carry over from season to season, as teams who were good previous season, usually do not have significant drop offs from previous seasons. If $R$ is a teams final Elo rating for a season, than below is the Elo rating to being their next season. \n",
    "\n",
    "$$ (R * 0.75) + (0.25 * 0501)$$"
   ]
  },
  {
   "cell_type": "markdown",
   "id": "9800a877",
   "metadata": {},
   "source": [
    "## Def Elo Variable Functions"
   ]
  },
  {
   "cell_type": "markdown",
   "id": "c65b0f33",
   "metadata": {},
   "source": [
    "Function for win probabilty as per Nate Silver [Win Prob](https://fivethirtyeight.com/features/introducing-nfl-elo-ratings/)\n",
    "\n",
    "$$ Pr(Home) = \\frac{1}{10^{(-EloDiff/400)}+1}$$"
   ]
  },
  {
   "cell_type": "code",
   "execution_count": null,
   "id": "c3b5efda",
   "metadata": {},
   "outputs": [],
   "source": [
    "#Define function to calculate Win Probability implied by Elo ratings and home court adjustments\n",
    "def win_probs(home_elo, away_elo, home_court_advantage) :\n",
    "    h = math.pow(10, home_elo/400)\n",
    "    r = math.pow(10, away_elo/400)\n",
    "    a = math.pow(10, home_court_advantage/400)\n",
    "    \n",
    "    denom = r + a*h\n",
    "    home_prob = a*h / denom\n",
    "    away_prob = r / denom\n",
    "    \n",
    "    return home_prob, away_prob\n",
    "\n",
    "#odds the home team will win based on elo ratings and home court advantage\n",
    "\n",
    "def home_odds_on(home_elo, away_elo, home_court_advantage) :\n",
    "    h = math.pow(10, home_elo/400)\n",
    "    r = math.pow(10, away_elo/400)\n",
    "    a = math.pow(10, home_court_advantage/400)\n",
    "    \n",
    "    return a*h/r\n",
    "\n",
    "#this function determines the constant used in the elo rating, based on margin of victory and difference in elo ratings\n",
    "def elo_k(MOV, elo_diff):\n",
    "    k = 20\n",
    "    if MOV>0:\n",
    "        multiplier=(MOV+3)**(0.8)/(7.5+0.006*(elo_diff))\n",
    "    else:\n",
    "        multiplier=(-MOV+3)**(0.8)/(7.5+0.006*(-elo_diff))\n",
    "    return k*multiplier\n",
    "\n",
    "#updates the home and away teams elo ratings after a game \n",
    "\n",
    "def update_elo(home_score, away_score, home_elo, away_elo, home_court_advantage) :\n",
    "    home_prob, away_prob = win_probs(home_elo, away_elo, home_court_advantage) \n",
    "    \n",
    "    if (home_score - away_score > 0) :\n",
    "        \n",
    "        home_win = 1 \n",
    "        away_win = 0 \n",
    "    \n",
    "    else :\n",
    "        \n",
    "        home_win = 0 \n",
    "        away_win = 1 \n",
    "        \n",
    "    k = elo_k(home_score - away_score, home_elo - away_elo)\n",
    "    \n",
    "    updated_home_elo = home_elo + k * (home_win - home_prob) \n",
    "    updated_away_elo = away_elo + k * (away_win - away_prob)\n",
    "    \n",
    "    return updated_home_elo, updated_away_elo\n",
    "\n",
    "\n",
    "#takes into account prev season elo\n",
    "def get_prev_elo(team, date, season, team_stats, elo_df) :\n",
    "    prev_game = team_stats[team_stats['Date'] < game_date][(team_stats['H_Team'] == team) | (team_stats['A_Team'] == team)].sort_values(by = 'Date').tail(1).iloc[0] \n",
    "    \n",
    "    if team == prev_game['H_Team'] :\n",
    "        elo_rating = elo_df[elo_df['GameID'] == prev_game['GameID']]['H_Team_Elo_After'].values[0]\n",
    "        \n",
    "    else :\n",
    "        elo_rating = elo_df[elo_df['GameID'] == prev_game['GameID']]['A_Team_Elo_After'].values[0]\n",
    "        \n",
    "    if prev_game['season'] != season :\n",
    "        return (0.75 * elo_rating) + (0.25 * 1505)\n",
    "    \n",
    "    else :\n",
    "        return elo_rating\n"
   ]
  },
  {
   "cell_type": "markdown",
   "id": "c94b4e61",
   "metadata": {},
   "source": [
    "## Calculating Elo Ratings"
   ]
  },
  {
   "cell_type": "code",
   "execution_count": null,
   "id": "58a6807e",
   "metadata": {},
   "outputs": [],
   "source": [
    "team_stats.sort_values(by = 'Date', inplace = True)\n",
    "team_stats.reset_index(inplace=True, drop = True)\n",
    "\n",
    "elo_df = pd.DataFrame(columns=['GameID', 'H_Team', 'A_Team', 'H_Team_Elo_Before', 'A_Team_Elo_Before', 'H_Team_Elo_After', 'A_Team_Elo_After'])\n",
    "teams_elo_df = pd.DataFrame(columns=['GameID','Team', 'Elo', 'Date', 'Where_Played', 'season']) \n",
    "\n",
    "for index, row in team_stats.iterrows(): \n",
    "    game_id = row['GameID']\n",
    "    game_date = row['Date']\n",
    "    season = row['season']\n",
    "    h_team, a_team = row['H_Team'], row['A_Team']\n",
    "    h_score, a_score = row['H_PTS'], row['A_PTS'] \n",
    "    \n",
    "    if (h_team not in elo_df['H_Team'].values and h_team not in elo_df['A_Team'].values) :\n",
    "        h_team_elo_before = 1500\n",
    "    else :\n",
    "        h_team_elo_before = get_prev_elo(h_team, game_date, season, team_stats, elo_df)\n",
    "    \n",
    "    if (a_team not in elo_df['H_Team'].values and a_team not in elo_df['A_Team'].values) : \n",
    "        a_team_elo_before = 1500\n",
    "    \n",
    "    else :\n",
    "        a_team_elo_before = get_prev_elo(a_team, game_date, season, team_stats, elo_df)\n",
    "    \n",
    "    h_team_elo_after, a_team_elo_after = update_elo(h_score, a_score, h_team_elo_before, a_team_elo_before, 69)\n",
    "    \n",
    "    new_row = {'GameID': game_id, 'H_Team': h_team, 'A_Team': a_team, 'H_Team_Elo_Before': h_team_elo_before, 'A_Team_Elo_Before': a_team_elo_before, \\\n",
    "                                                                        'H_Team_Elo_After' : h_team_elo_after, 'A_Team_Elo_After': a_team_elo_after}\n",
    "    teams_row_one = {'GameID': game_id,'Team': h_team, 'Elo': h_team_elo_before, 'Date': game_date, 'Where_Played': 'Home', 'season': season}\n",
    "    teams_row_two = {'GameID': game_id,'Team': a_team, 'Elo': a_team_elo_before, 'Date': game_date, 'Where_Played': 'Away', 'season': season}\n",
    "\n",
    "    elo_df = elo_df.append(new_row, ignore_index = True)\n",
    "    teams_elo_df = teams_elo_df.append(teams_row_one, ignore_index=True)\n",
    "    teams_elo_df = teams_elo_df.append(teams_row_two, ignore_index=True)\n",
    "    \n",
    "    \n",
    "    "
   ]
  },
  {
   "cell_type": "code",
   "execution_count": null,
   "id": "e7ef39cc",
   "metadata": {},
   "outputs": [],
   "source": [
    "#teams_elo_df.set_index([\"Team\"], append=True)\n",
    "#dataset = teams_elo_df.pivot(index=\"Team\",values=\"Elo\", columns=\"Date\")\n",
    "dates = list(set([d.strftime(\"%m-%d-%Y\") for d in teams_elo_df[\"Date\"]]))\n",
    "dates = sorted(dates, key=lambda x: datetime.strptime(x, '%m-%d-%Y'))\n",
    "teams = team_stats[\"A_Team\"]\n",
    "dataset = pd.DataFrame(columns=dates)\n",
    "dataset[\"Team\"] = teams.drop_duplicates()\n",
    "dataset = dataset.set_index(\"Team\")\n",
    "for index, row in teams_elo_df.iterrows():\n",
    "    date = row[\"Date\"].strftime(\"%m-%d-%Y\")\n",
    "    team = row[\"Team\"]\n",
    "    elo = row[\"Elo\"]\n",
    "    dataset[date][team] = elo\n",
    "\n",
    "teams_elo_df['Elo'] = teams_elo_df['Elo'].astype(float)\n",
    "\n",
    "elo_df"
   ]
  },
  {
   "cell_type": "markdown",
   "id": "c0b8a18d",
   "metadata": {},
   "source": [
    "Reviewing the data in a visual medium"
   ]
  },
  {
   "cell_type": "code",
   "execution_count": null,
   "id": "cb85f684",
   "metadata": {
    "scrolled": false
   },
   "outputs": [],
   "source": [
    "%matplotlib inline\n",
    "import random\n",
    "\n",
    "def runningMeanFast(x, N):\n",
    "    return np.convolve(x, np.ones((N,))/N)[(N-1):]\n",
    "'''\n",
    "for index, row in dataset.sample(frac=0.2).iterrows():\n",
    "  sns.lineplot(data=row, x=dates, y=row.values)\n",
    "\n",
    "plt.set(xlabel=\"Dates\")\n",
    "'''\n",
    "elos = teams_elo_df['Elo'].values\n",
    "#teams_elo_df['Elo_moving_average'] = runningMeanFast(elos, 15)\n",
    "plt.figure(figsize=(20,10))\n",
    "sample_teams = random.sample(list(teams), k=3)\n",
    "sns.set(font_scale=1.5)\n",
    "sampled_data = teams_elo_df.loc[teams_elo_df['Team'].isin(sample_teams)]\n",
    "sns.lineplot(data=sampled_data, x='Date', y='Elo', hue='Team')\n",
    "plt.title(\"ELO over Time\")"
   ]
  },
  {
   "cell_type": "markdown",
   "id": "be61f637",
   "metadata": {},
   "source": [
    "## 2.2 Recent Team Performance "
   ]
  },
  {
   "cell_type": "markdown",
   "id": "8409fc88",
   "metadata": {},
   "source": [
    "### Teams avg stats in previous ten games"
   ]
  },
  {
   "cell_type": "code",
   "execution_count": null,
   "id": "1c47f4b5",
   "metadata": {
    "scrolled": true
   },
   "outputs": [],
   "source": [
    "team_stats.info()"
   ]
  },
  {
   "cell_type": "code",
   "execution_count": null,
   "id": "66d21b5e",
   "metadata": {},
   "outputs": [],
   "source": [
    "team_stats['GameID']"
   ]
  },
  {
   "cell_type": "code",
   "execution_count": null,
   "id": "0ca9eabd",
   "metadata": {},
   "outputs": [],
   "source": [
    "team_stats.iloc[:, 14]"
   ]
  },
  {
   "cell_type": "code",
   "execution_count": null,
   "id": "1952a665",
   "metadata": {},
   "outputs": [],
   "source": [
    "team_stats.iloc[:, 53]"
   ]
  },
  {
   "cell_type": "code",
   "execution_count": null,
   "id": "b64082dd",
   "metadata": {},
   "outputs": [],
   "source": [
    "def get_avg_stats(team, game_date, team_season_stats, n) :\n",
    "    prior_games = team_season_stats[team_season_stats['Date'] < game_date][(team_season_stats['H_Team'] == team) | (team_season_stats['A_Team'] == team)].sort_values(by = 'Date').tail(n)\n",
    "    \n",
    "    home_df = prior_games.iloc[:, range(3, 53 ,2)]\n",
    "    home_df.columns = [x[2:] for x in home_df.columns]\n",
    "    away_df = prior_games.iloc[:, range( 4, 54, 2)]\n",
    "    away_df.columns = [x[2:] for x in away_df.columns ]\n",
    "    \n",
    "    df = pd.concat([home_df, away_df])\n",
    "    df = df[df['Team']==team]\n",
    "    df.drop(columns = ['Team'], inplace = True)\n",
    "    \n",
    "    return df.mean()"
   ]
  },
  {
   "cell_type": "code",
   "execution_count": null,
   "id": "ff119fd3",
   "metadata": {
    "scrolled": true
   },
   "outputs": [],
   "source": [
    "#Recent Performance dataframe for team stats\n",
    "rp_df = pd.DataFrame()\n",
    "\n",
    "\n",
    "for Season in team_stats['season'].unique():\n",
    "    c1 = ['Date', 'GameID', 'season', 'H_Team', 'A_Team']\n",
    "    c2 = list(team_stats.columns[14:65])\n",
    "    columns = c1 + c2\n",
    "    \n",
    "    team_season_stats = team_stats[cleaned_team_stats['season'] == Season ].sort_values(by='Date')[columns].reset_index(drop = True)\n",
    "    \n",
    "    season_recent_performance = pd. DataFrame()\n",
    "    \n",
    "    for index, row in team_season_stats.iterrows():\n",
    "        game_ID = row['GameID']\n",
    "        game_date = row['Date']\n",
    "        h_team = row['H_Team']\n",
    "        a_team = row['A_Team']\n",
    "        \n",
    "        h_team_recent_performance = get_avg_stats(h_team, game_date, team_season_stats, 10)\n",
    "        h_team_recent_performance.index = ['H_Last_10_gm_avg_' + x for x in h_team_recent_performance.index]\n",
    "        \n",
    "        a_team_recent_performance = get_avg_stats(a_team, game_date, team_season_stats, 10)\n",
    "        a_team_recent_performance.index = ['A_Last_10_gm_avg_' + x for x in a_team_recent_performance.index]\n",
    "        \n",
    "        nrow = pd.concat([h_team_recent_performance, a_team_recent_performance], sort = False)\n",
    "        nrow['GameID'] = game_ID\n",
    "        \n",
    "        season_recent_performance = season_recent_performance.append(nrow, ignore_index = True)\n",
    "        season_recent_performance = season_recent_performance[nrow.index]\n",
    "    \n",
    "    rp_df = pd.concat([rp_df, season_recent_performance])\n",
    "    \n",
    "    \n",
    "\n"
   ]
  },
  {
   "cell_type": "code",
   "execution_count": null,
   "id": "f3ede75b",
   "metadata": {
    "scrolled": true
   },
   "outputs": [],
   "source": [
    "rp_df.dropna()"
   ]
  },
  {
   "cell_type": "code",
   "execution_count": null,
   "id": "bb2b3362",
   "metadata": {},
   "outputs": [],
   "source": [
    "#drop avg mins "
   ]
  },
  {
   "cell_type": "markdown",
   "id": "e436a544",
   "metadata": {},
   "source": [
    "## 2.3 Combing average stats "
   ]
  },
  {
   "cell_type": "markdown",
   "id": "09c59934",
   "metadata": {},
   "source": [
    "### Create a final_team_stats which combines data from the recent performance dataframe with the meta data of each game. "
   ]
  },
  {
   "cell_type": "code",
   "execution_count": null,
   "id": "aab747a1",
   "metadata": {
    "scrolled": true
   },
   "outputs": [],
   "source": [
    "final_team_stats = team_stats.iloc[0 :, [0,1,2,3,6,14,15]].merge(elo_df.drop(columns=['H_Team', 'A_Team']), on = 'GameID') \\\n",
    ".merge(rp_df, on = 'GameID')\n",
    "\n",
    "final_team_stats = final_team_stats.dropna()"
   ]
  },
  {
   "cell_type": "code",
   "execution_count": null,
   "id": "32aa9616",
   "metadata": {},
   "outputs": [],
   "source": [
    "final_team_stats"
   ]
  },
  {
   "cell_type": "code",
   "execution_count": null,
   "id": "9e5f5d80",
   "metadata": {},
   "outputs": [],
   "source": [
    "#Setting dataframes to combine into a final team performance df \n",
    "h_cols = final_team_stats.columns[final_team_stats.columns.str.startswith('H_')]\n",
    "\n",
    "team_df = final_team_stats.iloc[0:, [0,1,2,3,4,9,10]].drop(columns = ['H_Team', 'A_Team'])\n",
    "team_df_h = team_df.drop(columns=team_df.columns[team_df.columns.str.startswith('A_')])\n",
    "team_df_a = team_df.drop(columns=team_df.columns[team_df.columns.str.startswith('H_')])\n",
    "\n",
    "recent_perf_h = rp_df.drop(columns = rp_df.columns\\\n",
    "                           [rp_df.columns.str.startswith('A_')])\n",
    "recent_perf_a = rp_df.drop(columns = rp_df.columns\\\n",
    "                           [rp_df.columns.str.startswith('H_')])\n",
    "\n",
    "#Combining team_df, teams_elo_df, and recent_perf to create a team by team row df. \n",
    "tbt_h = team_df_h.merge(teams_elo_df[teams_elo_df.Where_Played == 'Home'], on = 'GameID') \\\n",
    ".merge(recent_perf_h, on ='GameID')\n",
    "\n",
    "tbt_a = team_df_a.merge(teams_elo_df[teams_elo_df.Where_Played == 'Away'], on = 'GameID') \\\n",
    ".merge(recent_perf_h, on ='GameID')\n",
    "\n",
    "#Removing 'H_' and 'A_', redundant information in our new df. _x, and _y will appear after first operator and will need to be removed\n",
    "\n",
    "tbt_h.columns = tbt_h.columns.str.replace('H_', '')\n",
    "tbt_h.columns = tbt_h.columns.str.replace('_x', '')\n",
    "tbt_h.columns = tbt_h.columns.str.replace('_y', '')\n",
    "tbt_a.columns = tbt_a.columns.str.replace('A_', '')\n",
    "tbt_a.columns = tbt_a.columns.str.replace('_x', '')\n",
    "tbt_a.columns = tbt_a.columns.str.replace('_y', '')\n",
    "#Removing any duplicate columns \n",
    "tbt_h = tbt_h.loc[:, ~tbt_h.columns.duplicated()]\n",
    "tbt_a = tbt_a.loc[:, ~tbt_a.columns.duplicated()]\n",
    "\n",
    "#concating the away and home team by team dataframes by index\n",
    "final_team_performances_df = pd.concat([tbt_h, tbt_a]).sort_index(axis=0).reset_index().drop(columns=['index'])"
   ]
  },
  {
   "cell_type": "code",
   "execution_count": null,
   "id": "f74b8903",
   "metadata": {
    "scrolled": false
   },
   "outputs": [],
   "source": [
    "final_team_performances_df"
   ]
  },
  {
   "cell_type": "markdown",
   "id": "a7eca597",
   "metadata": {},
   "source": [
    "## 2.4 Label column and save df to csv"
   ]
  },
  {
   "cell_type": "markdown",
   "id": "ddc683f1",
   "metadata": {},
   "source": [
    "Creating a final \"Label\" that differentiates between winner and loser for our evaluation. "
   ]
  },
  {
   "cell_type": "code",
   "execution_count": null,
   "id": "206e4be6",
   "metadata": {
    "scrolled": true
   },
   "outputs": [],
   "source": [
    "final_team_stats['Label'] = [1 if x > 0 else 0 for x in final_team_stats['H_PTS'] - final_team_stats['A_PTS']]\n",
    "\n",
    "final_team_stats.drop(columns = ['H_PTS', 'A_PTS'], inplace = True)\n",
    "final_team_stats = final_team_stats.dropna()\n",
    "final_team_stats.reset_index(inplace = True)\n",
    "\n",
    "combined_df = final_team_stats\n",
    "\n",
    "final_team_stats"
   ]
  },
  {
   "cell_type": "code",
   "execution_count": null,
   "id": "75c2a2ab",
   "metadata": {},
   "outputs": [],
   "source": [
    "final_team_stats.to_csv('final_team_stats.csv')"
   ]
  },
  {
   "cell_type": "markdown",
   "id": "b9695e36",
   "metadata": {},
   "source": [
    "## 2.5 Creating Recent Player Performance DataFrame"
   ]
  },
  {
   "cell_type": "markdown",
   "id": "301017e8",
   "metadata": {},
   "source": [
    "Like the average team stats per 10 games, we will do the same for the player stats for their previous 10 games"
   ]
  },
  {
   "cell_type": "markdown",
   "id": "f893d1a4",
   "metadata": {},
   "source": [
    "### Read In Player Stats"
   ]
  },
  {
   "cell_type": "code",
   "execution_count": null,
   "id": "e0b7cd5e",
   "metadata": {
    "scrolled": true
   },
   "outputs": [],
   "source": [
    "playerstats = pd.read_csv('Cleaned_Player_Stats.csv', index_col = 0)\n",
    "\n",
    "playerstats = playerstats.sort_values(by='Date').reset_index(drop = True)\n",
    "\n",
    "IDseason = final_team_stats[['season', 'GameID']].drop_duplicates()\n",
    "\n",
    "playerstats.rename(columns={'gameID': 'GameID'}, inplace=True)\n",
    "\n",
    "IDseason.head()"
   ]
  },
  {
   "cell_type": "code",
   "execution_count": null,
   "id": "325f5d87",
   "metadata": {
    "scrolled": false
   },
   "outputs": [],
   "source": [
    "playerstats.head()"
   ]
  },
  {
   "cell_type": "code",
   "execution_count": null,
   "id": "7ccfd55b",
   "metadata": {},
   "outputs": [],
   "source": [
    "merge = playerstats.merge(IDseason , how='left', on='GameID')"
   ]
  },
  {
   "cell_type": "code",
   "execution_count": null,
   "id": "510adb0f",
   "metadata": {},
   "outputs": [],
   "source": [
    "merge"
   ]
  },
  {
   "cell_type": "markdown",
   "id": "3c46d441",
   "metadata": {},
   "source": [
    "## Define Function For Avg Stats "
   ]
  },
  {
   "cell_type": "code",
   "execution_count": null,
   "id": "c755070f",
   "metadata": {},
   "outputs": [],
   "source": [
    "def rolling_average_last_n_games(n):\n",
    "    playerstats_recent = pd.DataFrame\n",
    "    \n",
    "    for season in playerstats['season'].unique():\n",
    "        season_stats = playerstats[playerstats['season']==season]\n",
    "        \n",
    "        for player in season_stats['Player'].unique():\n",
    "            player_performance = season_stats[season_stats['Player']==player].rolling(n, min_periods=1).mean().shift(1)\n",
    "            \n",
    "            playerstats_recent = playerstats_recent.append(player_performance, ignore_index = False)\n",
    "        \n",
    "        #renaming columns to reflect 10 game avg\n",
    "        playerstats_recent.columns = ['Last_' + str(n) + '_Avg_' + x for x in playerstats_recent.columns]\n",
    "        #merging playerstats to playerstats_recent and at the same time removing the redundent current game avg stats.\n",
    "        playerstats_recent = playerstats[['Player', 'GameID']].merge(playerstats_recent.drop(columns = 'Last_' + str(n) + '_Avg_' + 'GameID'), left_index=True, right_index=True)\n",
    "        \n",
    "        return playerstats_recent"
   ]
  },
  {
   "cell_type": "code",
   "execution_count": null,
   "id": "06ecba6f",
   "metadata": {},
   "outputs": [],
   "source": [
    "player_recent_performance = rolling_average_last_n_games(10)\n",
    "\n",
    "player_recent_performance"
   ]
  },
  {
   "cell_type": "markdown",
   "id": "3600936c",
   "metadata": {},
   "source": [
    "# Previously version work to be sorted..."
   ]
  },
  {
   "cell_type": "code",
   "execution_count": null,
   "id": "59e6b918",
   "metadata": {
    "scrolled": false
   },
   "outputs": [],
   "source": [
    "#website - \"https://www.kaggle.com/heeebsinc/nbaseasonstats201820\"\n",
    "#The above datasets are split into season from 2000 to 2020. We are only interested in 2008 - 2020.\n",
    "cs_player= pd.read_csv('/Users/Shawn/Documents/UNH_ML_SLF/MLassignments/UNH-Repo/DS_Guided_Capstone_2_Repo/virenv/player_stats/2008-2009.csv')"
   ]
  },
  {
   "cell_type": "code",
   "execution_count": null,
   "id": "830a2a55",
   "metadata": {},
   "outputs": [],
   "source": [
    "cs_player.info()"
   ]
  },
  {
   "cell_type": "code",
   "execution_count": null,
   "id": "ba02fe3c",
   "metadata": {
    "scrolled": false
   },
   "outputs": [],
   "source": [
    "cs_player.head()"
   ]
  },
  {
   "cell_type": "raw",
   "id": "8330a1ec",
   "metadata": {},
   "source": [
    "Reviewing dataset, we can see that there are certain fields that are either missing, named differently or calculated from other features when comparing the current dataset to the prior investigation dataset. \n",
    "\n",
    "(Features missing or different include GameID, BlkFGA, PFTkn, Season. Features that need to be calculated or identified include SST, PPP, Ast/TO, StlPos, FTm, FGm, 3FGm, 2FGm. Missing or different features; GameID, BlkFGA, PFTkn, Season.)\n",
    "\n",
    "At the moment, we are identifying how to clean the data. Ultimately the intent is the merge all datasets together, and clean the data in the process. A source of code  in the prior investigators section 2: Data Cleaning that is quite useful for stitching\n",
    "\n",
    "###\n",
    "start_year = 2008\n",
    "end_year = 2009\n",
    "\n",
    "team_stats_combined_df = pd.DataFrame()\n",
    "player_stats_combined_df = pd.DataFrame()\n",
    "\n",
    "for i in range(12) :\n",
    "  team_stats_file_path = '/content/drive/MyDrive/NBA_Data/Team_Stats_' + str(start_year) + \" - \" + str(end_year) + '.csv'\n",
    "  player_stats_file_path = '/content/drive/MyDrive/NBA_Data/Player_Stats_' + str(start_year) + \" - \" + str(end_year) + '.csv'\n",
    "\n",
    "  team_stats_combined_df = team_df.append(pd.read_csv(team_stats_file_path, index_col = 0))\n",
    "  player_stats_combined_df = player_df.append(pd.read_csv(player_stats_file_path, index_col = 0))\n",
    "\n",
    "  start_year = start_year + 1\n",
    "  end_year = end_year + 1\n",
    "  \n",
    "###"
   ]
  },
  {
   "cell_type": "code",
   "execution_count": null,
   "id": "a6dadbaa",
   "metadata": {
    "scrolled": true
   },
   "outputs": [],
   "source": [
    "print(cs_player['GameLink'])"
   ]
  },
  {
   "cell_type": "raw",
   "id": "87214de0",
   "metadata": {},
   "source": [
    "'GameLink' turns out to be strings with no interesting information. If the full link was available, possible use to create ID keys based on URL, however, that is not the case, and this column should be removed as it provides nothing of value. "
   ]
  },
  {
   "cell_type": "code",
   "execution_count": null,
   "id": "6b5c72ae",
   "metadata": {},
   "outputs": [],
   "source": [
    "#Code for removing columns for future reference. \n",
    "#cs_player = cs_player.drop(['GameLink'], axis=1)"
   ]
  },
  {
   "cell_type": "raw",
   "id": "0d10e597",
   "metadata": {},
   "source": [
    "'Season' is a column we can easily add. Since the datasets acquired are separated by season, we can append a column for season when we import the dataset if necessary for our modeling at this moment. "
   ]
  },
  {
   "cell_type": "raw",
   "id": "6d1793df",
   "metadata": {},
   "source": [
    "'BlkFGA' is blocked field goals attempts, and PFTkn, personal fouls taken, which are not a widely kept piece of data. This will be re-evaluated to see if is necessary for the model. "
   ]
  },
  {
   "cell_type": "raw",
   "id": "495337e9",
   "metadata": {},
   "source": [
    "Reviewing features that need to be calculated or identified SST, PPP, Ast/TO, StlPos, FTm, FGm, 3FGm, 2FGm. "
   ]
  },
  {
   "cell_type": "raw",
   "id": "7572dd17",
   "metadata": {},
   "source": [
    "'SST' was identified as the Sum Squares Total (SST or TSS) and will need to be reviewed whether or not it is necessary to our model."
   ]
  },
  {
   "cell_type": "raw",
   "id": "b64351ea",
   "metadata": {},
   "source": [
    "'PPP' was identified as points per possession. This feature actually will require further scraping of basketball advance stats. Similarly, 'stlPos' is steals per possession and also requires further scraping. "
   ]
  },
  {
   "cell_type": "raw",
   "id": "952c1400",
   "metadata": {},
   "source": [
    "'Ast/TO' is a calculated feature, assist \"over\" turnovers, and should be calculated per game entry."
   ]
  },
  {
   "cell_type": "raw",
   "id": "d09cb766",
   "metadata": {
    "scrolled": true
   },
   "source": [
    "ps_player[['PlayerName','2FGA','2FGM','2FGm']][:2]"
   ]
  },
  {
   "cell_type": "raw",
   "id": "20ef930c",
   "metadata": {},
   "source": [
    "From above, it's clearn the lower case 'm' represents the missed shots. This will be reviewed for relevancy, however it is not difficult to iterate through the dataset and create this column if necessary. "
   ]
  },
  {
   "cell_type": "raw",
   "id": "b837231e",
   "metadata": {},
   "source": [
    "Reviewing Other categories. "
   ]
  },
  {
   "cell_type": "raw",
   "id": "2049c9d3",
   "metadata": {
    "scrolled": true
   },
   "source": [
    "print(set(cs_player['Home']))"
   ]
  },
  {
   "cell_type": "raw",
   "id": "5993f859",
   "metadata": {},
   "source": [
    "As should be, the 'Home' category is binary. "
   ]
  },
  {
   "cell_type": "raw",
   "id": "9dbd523a",
   "metadata": {},
   "source": [
    "Although the dataset acquire gives us mostly what we need regarding player stats and game details compare to the prior sets, the current player_season_data dataframe only includes years starting 2013 - 2018. We are missing data from 2008 - 2013 and 2018-2020. Which would be necessary if we are to reproduce the prior models. "
   ]
  },
  {
   "cell_type": "code",
   "execution_count": null,
   "id": "8237c923",
   "metadata": {},
   "outputs": [],
   "source": [
    "#Question, when trying to add seasons to the dataset, it seems to immediately jump to 2019 instead of following\n",
    "#the start year as noted below.\n",
    "start_year = 2008\n",
    "end_year = 2009\n",
    "\n",
    "player_stats_combined_df = pd.DataFrame()\n",
    "\n",
    "for i in range(12) :\n",
    "  player_stats_file_path = '/Users/Shawn/Documents/UNH_ML_SLF/MLassignments/UNH-Repo/DS_Guided_Capstone_2_Repo/virenv/player_stats/' + str(start_year) + \"-\" + str(end_year) + '.csv'\n",
    "\n",
    "  player_stats_combined_df = player_stats_combined_df.append(pd.read_csv(player_stats_file_path))\n",
    "\n",
    "  start_year = start_year + 1\n",
    "  end_year = end_year + 1"
   ]
  },
  {
   "cell_type": "code",
   "execution_count": null,
   "id": "20ccce40",
   "metadata": {
    "scrolled": false
   },
   "outputs": [],
   "source": [
    "player_stats_combined_df.head()"
   ]
  },
  {
   "cell_type": "code",
   "execution_count": null,
   "id": "cea9fbbd",
   "metadata": {},
   "outputs": [],
   "source": [
    "#set(player_stats_combined_df['Season'])"
   ]
  },
  {
   "cell_type": "code",
   "execution_count": null,
   "id": "2aa0ce5b",
   "metadata": {
    "scrolled": false
   },
   "outputs": [],
   "source": [
    "player_stats_combined_df.info()"
   ]
  },
  {
   "cell_type": "code",
   "execution_count": null,
   "id": "b0523951",
   "metadata": {
    "scrolled": true
   },
   "outputs": [],
   "source": [
    "player_stats_combined_df.describe()"
   ]
  },
  {
   "cell_type": "code",
   "execution_count": null,
   "id": "7ef88ac1",
   "metadata": {
    "scrolled": true
   },
   "outputs": [],
   "source": [
    "player_stats_combined_df.isnull().sum()"
   ]
  },
  {
   "cell_type": "code",
   "execution_count": null,
   "id": "c013c6b4",
   "metadata": {
    "scrolled": true
   },
   "outputs": [],
   "source": [
    "player_stats_combined_df[player_stats_combined_df['3P%'].isnull()]"
   ]
  },
  {
   "cell_type": "raw",
   "id": "4f18d626",
   "metadata": {},
   "source": [
    "While evaluating the NA values, we see that we do have a good chunk of NaN data. But we shouldn't be quick to delete, as it is quite normal for players to record 0 stats on inefficient games. \n",
    "\n",
    "We should also differentiate between the NaN's of player who played 0 mins and was sitting on the bench versus players who did play minutes and the NaN actually represents 0 statistics. (By this logic, we shouldn't see many NaNs in our team_combine_stats later)"
   ]
  },
  {
   "cell_type": "code",
   "execution_count": null,
   "id": "93743e91",
   "metadata": {
    "scrolled": true
   },
   "outputs": [],
   "source": [
    "threeptking = player_stats_combined_df[['Player','Team', 'Against', 'Date', '3PA', 'PTS']][player_stats_combined_df['3P%']==1]\n",
    "threeptking[threeptking['3PA']>8]"
   ]
  },
  {
   "cell_type": "raw",
   "id": "b649076d",
   "metadata": {},
   "source": [
    "On March 21st, Ben Gordon was on fire from the three point line with a 9/9 performance. I dub he the Three Point King"
   ]
  },
  {
   "cell_type": "code",
   "execution_count": null,
   "id": "d087704c",
   "metadata": {
    "scrolled": true
   },
   "outputs": [],
   "source": [
    "print(player_stats_combined_df[['Player','Date','3PA','Against','3P%']][player_stats_combined_df['3PA']>8])"
   ]
  },
  {
   "cell_type": "raw",
   "id": "59ff4704",
   "metadata": {},
   "source": [
    "With the CSV appended together, we have Player data from 2008 to 2020. We are missing some columns, and have some columns we need to calculate and append. \n",
    "\n",
    "Columns we can calculate and append Ast/To "
   ]
  },
  {
   "cell_type": "code",
   "execution_count": null,
   "id": "8113aa41",
   "metadata": {},
   "outputs": [],
   "source": [
    "player_stats_combined_df['Ast/To'] = player_stats_combined_df['AST']/player_stats_combined_df['TOV']"
   ]
  },
  {
   "cell_type": "code",
   "execution_count": null,
   "id": "679332ed",
   "metadata": {},
   "outputs": [],
   "source": [
    "player_stats_combined_df = player_stats_combined_df.drop(['GameLink'], axis = 1)"
   ]
  },
  {
   "cell_type": "code",
   "execution_count": null,
   "id": "630965f4",
   "metadata": {},
   "outputs": [],
   "source": [
    "player_stats_combined_df['Date'] = pd.to_datetime(player_stats_combined_df['Date'])"
   ]
  },
  {
   "cell_type": "code",
   "execution_count": null,
   "id": "be6b0245",
   "metadata": {
    "scrolled": true
   },
   "outputs": [],
   "source": [
    "player_stats_combined_df['Date']"
   ]
  },
  {
   "cell_type": "raw",
   "id": "061c840c",
   "metadata": {},
   "source": [
    "Team Stats "
   ]
  },
  {
   "cell_type": "code",
   "execution_count": null,
   "id": "5f4e4645",
   "metadata": {},
   "outputs": [],
   "source": [
    "#Dataset acquired from kaggle: \n",
    "#website - \"https://www.kaggle.com/rafaelgreca/nba-games-box-score-since-1949\"\n",
    "\n",
    "cs_team = pd.read_csv('/Users/Shawn/Documents/UNH_ML_SLF/MLassignments/UNH-Repo/DS_Guided_Capstone_2_Repo/virenv/team_stats/2019-2020.csv')"
   ]
  },
  {
   "cell_type": "code",
   "execution_count": null,
   "id": "a58ef8ad",
   "metadata": {
    "scrolled": false
   },
   "outputs": [],
   "source": [
    "cs_team.info()"
   ]
  },
  {
   "cell_type": "code",
   "execution_count": null,
   "id": "f799e0b2",
   "metadata": {
    "scrolled": false
   },
   "outputs": [],
   "source": [
    "print(cs_team.columns.tolist())"
   ]
  },
  {
   "cell_type": "code",
   "execution_count": null,
   "id": "03398a87",
   "metadata": {},
   "outputs": [],
   "source": [
    "cs_team.head()"
   ]
  },
  {
   "cell_type": "raw",
   "id": "e71cd7f6",
   "metadata": {},
   "source": [
    "Data above shows very solid data quality "
   ]
  },
  {
   "cell_type": "code",
   "execution_count": null,
   "id": "15b24272",
   "metadata": {},
   "outputs": [],
   "source": [
    "start_year = 2008\n",
    "end_year = 2009\n",
    "\n",
    "team_stats_combined_df = pd.DataFrame()\n",
    "\n",
    "for i in range(12) :\n",
    "  team_stats_file_path = '/Users/Shawn/Documents/UNH_ML_SLF/MLassignments/UNH-Repo/DS_Guided_Capstone_2_Repo/virenv/team_stats/' + str(start_year) + \"-\" + str(end_year) + '.csv'\n",
    "  \n",
    "  team_stats_combined_df = team_stats_combined_df.append(pd.read_csv(team_stats_file_path, index_col = 0))\n",
    "  \n",
    "  start_year = start_year + 1\n",
    "  end_year = end_year + 1"
   ]
  },
  {
   "cell_type": "code",
   "execution_count": null,
   "id": "890ed4aa",
   "metadata": {
    "scrolled": true
   },
   "outputs": [],
   "source": [
    "team_stats_combined_df.describe()"
   ]
  },
  {
   "cell_type": "code",
   "execution_count": null,
   "id": "e1c56a3a",
   "metadata": {
    "scrolled": true
   },
   "outputs": [],
   "source": [
    "team_stats_combined_df.isnull().sum()!=0"
   ]
  },
  {
   "cell_type": "raw",
   "id": "c8c1b589",
   "metadata": {},
   "source": [
    "The list of columns is too long to see if there are any NaN in any of the columns."
   ]
  },
  {
   "cell_type": "code",
   "execution_count": null,
   "id": "c524d46a",
   "metadata": {},
   "outputs": [],
   "source": [
    "team_stats_combined_df.columns[team_stats_combined_df.isnull().any()].tolist()"
   ]
  },
  {
   "cell_type": "raw",
   "id": "8383b016",
   "metadata": {},
   "source": [
    "Calling a list of columns that potentially has NaN, we see that no columns were listed. \n",
    "\n",
    "As expected, we are NaN free from in this dataset. Teams don't get benched. "
   ]
  },
  {
   "cell_type": "code",
   "execution_count": null,
   "id": "ccfff8d3",
   "metadata": {},
   "outputs": [],
   "source": [
    "#Dataset from prior investigation - NBA Combined Player Stats\n",
    "#website - \"https://towardsdatascience.com/predicting-the-outcome-of-nba-games-with-machine-learning-a810bb768f20\"\n",
    "\n",
    "ps_player = pd.read_csv('NBA_Combined_Player_Stats.csv', index_col= 0)"
   ]
  },
  {
   "cell_type": "code",
   "execution_count": null,
   "id": "13783118",
   "metadata": {},
   "outputs": [],
   "source": [
    "ps_player.head()"
   ]
  },
  {
   "cell_type": "code",
   "execution_count": null,
   "id": "62cd49c7",
   "metadata": {},
   "outputs": [],
   "source": [
    "ps_player.info()"
   ]
  },
  {
   "cell_type": "raw",
   "id": "c9786271",
   "metadata": {},
   "source": [
    "For player stats, there are 34 that cover each players statistical production for each game. In our own data, we hope to acquire at least the same columns."
   ]
  },
  {
   "cell_type": "code",
   "execution_count": null,
   "id": "6e798376",
   "metadata": {},
   "outputs": [],
   "source": [
    "## 2.2 REVIEWING PRIOR INVESTIGATION'S TEAM STATISTICS "
   ]
  },
  {
   "cell_type": "code",
   "execution_count": null,
   "id": "96c9b516",
   "metadata": {},
   "outputs": [],
   "source": [
    "#Dataset from prior investigation - NBA Combined Team Stats \n",
    "#website - \"https://towardsdatascience.com/predicting-the-outcome-of-nba-games-with-machine-learning-a810bb768f20\"\n",
    "\n",
    "ps_team = pd.read_csv('/Users/Shawn/Documents/UNH_ML_SLF/MLassignments/UNH-Repo/DS_Guided_Capstone_2_Repo/virenv/NBA_Combined_Team_Stats.csv', index_col=0)"
   ]
  },
  {
   "cell_type": "code",
   "execution_count": null,
   "id": "ebb91486",
   "metadata": {},
   "outputs": [],
   "source": [
    "ps_team.info()"
   ]
  },
  {
   "cell_type": "code",
   "execution_count": null,
   "id": "aa09b1df",
   "metadata": {
    "scrolled": true
   },
   "outputs": [],
   "source": [
    "ps_team.head()"
   ]
  },
  {
   "cell_type": "code",
   "execution_count": null,
   "id": "1b25d51b",
   "metadata": {
    "scrolled": false
   },
   "outputs": [],
   "source": [
    "ps_team.columns.to_list()"
   ]
  },
  {
   "cell_type": "code",
   "execution_count": null,
   "id": "9946ce32",
   "metadata": {},
   "outputs": [],
   "source": [
    "range(3, 43, 2)"
   ]
  },
  {
   "cell_type": "raw",
   "id": "78c1a9a2",
   "metadata": {},
   "source": [
    "This may seem extensive, and as we progress towards EDA we will review if all is necessary. "
   ]
  }
 ],
 "metadata": {
  "kernelspec": {
   "display_name": "venv",
   "language": "python",
   "name": "venv"
  },
  "language_info": {
   "codemirror_mode": {
    "name": "ipython",
    "version": 3
   },
   "file_extension": ".py",
   "mimetype": "text/x-python",
   "name": "python",
   "nbconvert_exporter": "python",
   "pygments_lexer": "ipython3",
   "version": "3.8.2"
  }
 },
 "nbformat": 4,
 "nbformat_minor": 5
}
