{
 "cells": [
  {
   "cell_type": "markdown",
   "id": "f9bd1b66",
   "metadata": {},
   "source": [
    "# Guided Capstone 2 - NBA Win Model Prediction Using Machine Learning"
   ]
  },
  {
   "cell_type": "markdown",
   "id": "e969cd55",
   "metadata": {},
   "source": [
    "# Section 0: Importing Libraries "
   ]
  },
  {
   "cell_type": "code",
   "execution_count": 1,
   "id": "bd15dad7",
   "metadata": {},
   "outputs": [],
   "source": [
    "import pandas as pd\n",
    "import numpy as np\n",
    "import matplotlib.pyplot as plt\n",
    "import seaborn as sns\n",
    "import os\n",
    "import math\n",
    "from datetime import datetime"
   ]
  },
  {
   "cell_type": "markdown",
   "id": "b05903b5",
   "metadata": {},
   "source": [
    "# Section 1: Data Import and combination"
   ]
  },
  {
   "cell_type": "markdown",
   "id": "ae0e70d3",
   "metadata": {},
   "source": [
    "In our investigation, our attempt to recreate the prior investigators model will require data of the same time period and features. In the prior investigation, the data used produce their NBA win prediction model covered a 12 season span, between the seasons of 2008 - 2009 to 2019 - 2020. \n",
    "\n",
    "Kaggale offers several databases that include the data portion mentioned above, and can be wrangled to reflect the data of the prior investigation "
   ]
  },
  {
   "cell_type": "markdown",
   "id": "2bb9e7db",
   "metadata": {},
   "source": [
    "# Section 1 Data Wrangling"
   ]
  },
  {
   "cell_type": "markdown",
   "id": "6d30541f",
   "metadata": {},
   "source": [
    "# 1.1 Data Stitching"
   ]
  },
  {
   "cell_type": "markdown",
   "id": "30e48f0f",
   "metadata": {
    "scrolled": true
   },
   "source": [
    "From Kaggle, separate sets have been acquired for both individual players statistics per game, and team statistics per game. These sets are separated by season."
   ]
  },
  {
   "cell_type": "code",
   "execution_count": 2,
   "id": "aa3989ba",
   "metadata": {
    "scrolled": true
   },
   "outputs": [],
   "source": [
    "#Below code appends datasets together based on file names.\n",
    "start_year = 2008\n",
    "end_year = 2009\n",
    "\n",
    "team_stats = pd.DataFrame()\n",
    "player_stats = pd.DataFrame()\n",
    "\n",
    "for i in range(12) :\n",
    "    player_stats_file_path = '/Users/Shawn/Documents/UNH_ML_SLF/MLassignments/UNH-Repo/DS_Guided_Capstone_2_Repo/virenv/player_stats/' + str(start_year) + \"-\" + str(end_year) + '.csv'\n",
    "    team_stats_file_path = '/Users/Shawn/Documents/UNH_ML_SLF/MLassignments/UNH-Repo/DS_Guided_Capstone_2_Repo/virenv/team_stats/' + str(start_year) + \"-\" + str(end_year) + '.csv'\n",
    "    player_stats = player_stats.append(pd.read_csv(player_stats_file_path))\n",
    "    team_stats = team_stats.append(pd.read_csv(team_stats_file_path))\n",
    "    \n",
    "    start_year = start_year + 1\n",
    "    end_year = end_year + 1"
   ]
  },
  {
   "cell_type": "raw",
   "id": "de112a63",
   "metadata": {},
   "source": [
    "Reviewing the data that we combined"
   ]
  },
  {
   "cell_type": "code",
   "execution_count": 3,
   "id": "f63afa2a",
   "metadata": {},
   "outputs": [
    {
     "data": {
      "text/plain": [
       "(373069, 26)"
      ]
     },
     "execution_count": 3,
     "metadata": {},
     "output_type": "execute_result"
    }
   ],
   "source": [
    "player_stats.shape"
   ]
  },
  {
   "cell_type": "code",
   "execution_count": 4,
   "id": "b2f0d159",
   "metadata": {
    "scrolled": true
   },
   "outputs": [
    {
     "data": {
      "text/html": [
       "<div>\n",
       "<style scoped>\n",
       "    .dataframe tbody tr th:only-of-type {\n",
       "        vertical-align: middle;\n",
       "    }\n",
       "\n",
       "    .dataframe tbody tr th {\n",
       "        vertical-align: top;\n",
       "    }\n",
       "\n",
       "    .dataframe thead th {\n",
       "        text-align: right;\n",
       "    }\n",
       "</style>\n",
       "<table border=\"1\" class=\"dataframe\">\n",
       "  <thead>\n",
       "    <tr style=\"text-align: right;\">\n",
       "      <th></th>\n",
       "      <th>Player</th>\n",
       "      <th>Date</th>\n",
       "      <th>Team</th>\n",
       "      <th>Against</th>\n",
       "      <th>Home</th>\n",
       "      <th>MP</th>\n",
       "      <th>FG</th>\n",
       "      <th>FGA</th>\n",
       "      <th>FG%</th>\n",
       "      <th>3P</th>\n",
       "      <th>...</th>\n",
       "      <th>DRB</th>\n",
       "      <th>TRB</th>\n",
       "      <th>AST</th>\n",
       "      <th>STL</th>\n",
       "      <th>BLK</th>\n",
       "      <th>TOV</th>\n",
       "      <th>PF</th>\n",
       "      <th>PTS</th>\n",
       "      <th>+/-</th>\n",
       "      <th>GameLink</th>\n",
       "    </tr>\n",
       "  </thead>\n",
       "  <tbody>\n",
       "    <tr>\n",
       "      <th>0</th>\n",
       "      <td>LeBron James</td>\n",
       "      <td>2008-10-28</td>\n",
       "      <td>Cleveland Cavaliers</td>\n",
       "      <td>Boston Celtics</td>\n",
       "      <td>0</td>\n",
       "      <td>36.00</td>\n",
       "      <td>9.0</td>\n",
       "      <td>21.0</td>\n",
       "      <td>0.429</td>\n",
       "      <td>0.0</td>\n",
       "      <td>...</td>\n",
       "      <td>6.0</td>\n",
       "      <td>7.0</td>\n",
       "      <td>6.0</td>\n",
       "      <td>2.0</td>\n",
       "      <td>1.0</td>\n",
       "      <td>3.0</td>\n",
       "      <td>4.0</td>\n",
       "      <td>22.0</td>\n",
       "      <td>-3.0</td>\n",
       "      <td>https://www.basketball-reference.com/boxscores...</td>\n",
       "    </tr>\n",
       "    <tr>\n",
       "      <th>1</th>\n",
       "      <td>Delonte West</td>\n",
       "      <td>2008-10-28</td>\n",
       "      <td>Cleveland Cavaliers</td>\n",
       "      <td>Boston Celtics</td>\n",
       "      <td>0</td>\n",
       "      <td>35.29</td>\n",
       "      <td>2.0</td>\n",
       "      <td>4.0</td>\n",
       "      <td>0.500</td>\n",
       "      <td>0.0</td>\n",
       "      <td>...</td>\n",
       "      <td>2.0</td>\n",
       "      <td>2.0</td>\n",
       "      <td>2.0</td>\n",
       "      <td>0.0</td>\n",
       "      <td>0.0</td>\n",
       "      <td>1.0</td>\n",
       "      <td>0.0</td>\n",
       "      <td>6.0</td>\n",
       "      <td>-10.0</td>\n",
       "      <td>https://www.basketball-reference.com/boxscores...</td>\n",
       "    </tr>\n",
       "    <tr>\n",
       "      <th>2</th>\n",
       "      <td>Mo Williams</td>\n",
       "      <td>2008-10-28</td>\n",
       "      <td>Cleveland Cavaliers</td>\n",
       "      <td>Boston Celtics</td>\n",
       "      <td>0</td>\n",
       "      <td>31.18</td>\n",
       "      <td>4.0</td>\n",
       "      <td>10.0</td>\n",
       "      <td>0.400</td>\n",
       "      <td>3.0</td>\n",
       "      <td>...</td>\n",
       "      <td>3.0</td>\n",
       "      <td>3.0</td>\n",
       "      <td>2.0</td>\n",
       "      <td>1.0</td>\n",
       "      <td>0.0</td>\n",
       "      <td>4.0</td>\n",
       "      <td>5.0</td>\n",
       "      <td>12.0</td>\n",
       "      <td>3.0</td>\n",
       "      <td>https://www.basketball-reference.com/boxscores...</td>\n",
       "    </tr>\n",
       "    <tr>\n",
       "      <th>3</th>\n",
       "      <td>Zydrunas Ilgauskas</td>\n",
       "      <td>2008-10-28</td>\n",
       "      <td>Cleveland Cavaliers</td>\n",
       "      <td>Boston Celtics</td>\n",
       "      <td>0</td>\n",
       "      <td>30.24</td>\n",
       "      <td>3.0</td>\n",
       "      <td>5.0</td>\n",
       "      <td>0.600</td>\n",
       "      <td>0.0</td>\n",
       "      <td>...</td>\n",
       "      <td>5.0</td>\n",
       "      <td>8.0</td>\n",
       "      <td>1.0</td>\n",
       "      <td>0.0</td>\n",
       "      <td>0.0</td>\n",
       "      <td>4.0</td>\n",
       "      <td>3.0</td>\n",
       "      <td>15.0</td>\n",
       "      <td>7.0</td>\n",
       "      <td>https://www.basketball-reference.com/boxscores...</td>\n",
       "    </tr>\n",
       "    <tr>\n",
       "      <th>4</th>\n",
       "      <td>Ben Wallace</td>\n",
       "      <td>2008-10-28</td>\n",
       "      <td>Cleveland Cavaliers</td>\n",
       "      <td>Boston Celtics</td>\n",
       "      <td>0</td>\n",
       "      <td>19.03</td>\n",
       "      <td>1.0</td>\n",
       "      <td>1.0</td>\n",
       "      <td>1.000</td>\n",
       "      <td>0.0</td>\n",
       "      <td>...</td>\n",
       "      <td>4.0</td>\n",
       "      <td>4.0</td>\n",
       "      <td>0.0</td>\n",
       "      <td>0.0</td>\n",
       "      <td>1.0</td>\n",
       "      <td>1.0</td>\n",
       "      <td>2.0</td>\n",
       "      <td>2.0</td>\n",
       "      <td>-1.0</td>\n",
       "      <td>https://www.basketball-reference.com/boxscores...</td>\n",
       "    </tr>\n",
       "  </tbody>\n",
       "</table>\n",
       "<p>5 rows × 26 columns</p>\n",
       "</div>"
      ],
      "text/plain": [
       "               Player        Date                 Team         Against  Home  \\\n",
       "0        LeBron James  2008-10-28  Cleveland Cavaliers  Boston Celtics     0   \n",
       "1        Delonte West  2008-10-28  Cleveland Cavaliers  Boston Celtics     0   \n",
       "2         Mo Williams  2008-10-28  Cleveland Cavaliers  Boston Celtics     0   \n",
       "3  Zydrunas Ilgauskas  2008-10-28  Cleveland Cavaliers  Boston Celtics     0   \n",
       "4         Ben Wallace  2008-10-28  Cleveland Cavaliers  Boston Celtics     0   \n",
       "\n",
       "      MP   FG   FGA    FG%   3P  ...  DRB  TRB  AST  STL  BLK  TOV   PF   PTS  \\\n",
       "0  36.00  9.0  21.0  0.429  0.0  ...  6.0  7.0  6.0  2.0  1.0  3.0  4.0  22.0   \n",
       "1  35.29  2.0   4.0  0.500  0.0  ...  2.0  2.0  2.0  0.0  0.0  1.0  0.0   6.0   \n",
       "2  31.18  4.0  10.0  0.400  3.0  ...  3.0  3.0  2.0  1.0  0.0  4.0  5.0  12.0   \n",
       "3  30.24  3.0   5.0  0.600  0.0  ...  5.0  8.0  1.0  0.0  0.0  4.0  3.0  15.0   \n",
       "4  19.03  1.0   1.0  1.000  0.0  ...  4.0  4.0  0.0  0.0  1.0  1.0  2.0   2.0   \n",
       "\n",
       "    +/-                                           GameLink  \n",
       "0  -3.0  https://www.basketball-reference.com/boxscores...  \n",
       "1 -10.0  https://www.basketball-reference.com/boxscores...  \n",
       "2   3.0  https://www.basketball-reference.com/boxscores...  \n",
       "3   7.0  https://www.basketball-reference.com/boxscores...  \n",
       "4  -1.0  https://www.basketball-reference.com/boxscores...  \n",
       "\n",
       "[5 rows x 26 columns]"
      ]
     },
     "execution_count": 4,
     "metadata": {},
     "output_type": "execute_result"
    }
   ],
   "source": [
    "player_stats.head()"
   ]
  },
  {
   "cell_type": "code",
   "execution_count": 5,
   "id": "dc33c469",
   "metadata": {},
   "outputs": [
    {
     "name": "stdout",
     "output_type": "stream",
     "text": [
      "<class 'pandas.core.frame.DataFrame'>\n",
      "Int64Index: 373069 entries, 0 to 27739\n",
      "Data columns (total 26 columns):\n",
      " #   Column    Non-Null Count   Dtype  \n",
      "---  ------    --------------   -----  \n",
      " 0   Player    373069 non-null  object \n",
      " 1   Date      373069 non-null  object \n",
      " 2   Team      373069 non-null  object \n",
      " 3   Against   373069 non-null  object \n",
      " 4   Home      373069 non-null  int64  \n",
      " 5   MP        311326 non-null  float64\n",
      " 6   FG        311326 non-null  float64\n",
      " 7   FGA       311326 non-null  float64\n",
      " 8   FG%       295932 non-null  float64\n",
      " 9   3P        311326 non-null  float64\n",
      " 10  3PA       311326 non-null  float64\n",
      " 11  3P%       199196 non-null  float64\n",
      " 12  FT        311326 non-null  float64\n",
      " 13  FTA       311326 non-null  float64\n",
      " 14  FT%       179762 non-null  float64\n",
      " 15  ORB       311326 non-null  float64\n",
      " 16  DRB       311326 non-null  float64\n",
      " 17  TRB       311326 non-null  float64\n",
      " 18  AST       311326 non-null  float64\n",
      " 19  STL       311326 non-null  float64\n",
      " 20  BLK       311326 non-null  float64\n",
      " 21  TOV       311326 non-null  float64\n",
      " 22  PF        311326 non-null  float64\n",
      " 23  PTS       311326 non-null  float64\n",
      " 24  +/-       311276 non-null  float64\n",
      " 25  GameLink  373069 non-null  object \n",
      "dtypes: float64(20), int64(1), object(5)\n",
      "memory usage: 76.8+ MB\n"
     ]
    }
   ],
   "source": [
    "player_stats.info()"
   ]
  },
  {
   "cell_type": "code",
   "execution_count": 6,
   "id": "35cfa40d",
   "metadata": {},
   "outputs": [
    {
     "data": {
      "text/plain": [
       "(15348, 124)"
      ]
     },
     "execution_count": 6,
     "metadata": {},
     "output_type": "execute_result"
    }
   ],
   "source": [
    "team_stats.shape"
   ]
  },
  {
   "cell_type": "code",
   "execution_count": 7,
   "id": "6020c14f",
   "metadata": {
    "scrolled": true
   },
   "outputs": [
    {
     "data": {
      "text/html": [
       "<div>\n",
       "<style scoped>\n",
       "    .dataframe tbody tr th:only-of-type {\n",
       "        vertical-align: middle;\n",
       "    }\n",
       "\n",
       "    .dataframe tbody tr th {\n",
       "        vertical-align: top;\n",
       "    }\n",
       "\n",
       "    .dataframe thead th {\n",
       "        text-align: right;\n",
       "    }\n",
       "</style>\n",
       "<table border=\"1\" class=\"dataframe\">\n",
       "  <thead>\n",
       "    <tr style=\"text-align: right;\">\n",
       "      <th></th>\n",
       "      <th>gmDate</th>\n",
       "      <th>seasonType</th>\n",
       "      <th>season</th>\n",
       "      <th>teamWins</th>\n",
       "      <th>teamLosses</th>\n",
       "      <th>teamAbbr</th>\n",
       "      <th>teamLoc</th>\n",
       "      <th>teamRslt</th>\n",
       "      <th>teamDayOff</th>\n",
       "      <th>teamPTS</th>\n",
       "      <th>...</th>\n",
       "      <th>opptOrtg</th>\n",
       "      <th>opptDrtg</th>\n",
       "      <th>opptEDiff</th>\n",
       "      <th>opptPlay%</th>\n",
       "      <th>opptAR</th>\n",
       "      <th>opptAST/TO</th>\n",
       "      <th>opptSTL/TO</th>\n",
       "      <th>opptPoss</th>\n",
       "      <th>opptPace</th>\n",
       "      <th>matchWinner</th>\n",
       "    </tr>\n",
       "  </thead>\n",
       "  <tbody>\n",
       "    <tr>\n",
       "      <th>0</th>\n",
       "      <td>2008-10-28</td>\n",
       "      <td>Regular</td>\n",
       "      <td>2008-09</td>\n",
       "      <td>0</td>\n",
       "      <td>1</td>\n",
       "      <td>CLE</td>\n",
       "      <td>Away</td>\n",
       "      <td>Loss</td>\n",
       "      <td>0.0</td>\n",
       "      <td>85.0</td>\n",
       "      <td>...</td>\n",
       "      <td>96.9</td>\n",
       "      <td>91.5</td>\n",
       "      <td>5.4</td>\n",
       "      <td>0.41</td>\n",
       "      <td>17.57</td>\n",
       "      <td>1.00</td>\n",
       "      <td>0.62</td>\n",
       "      <td>92.9</td>\n",
       "      <td>92.9</td>\n",
       "      <td>BOS</td>\n",
       "    </tr>\n",
       "    <tr>\n",
       "      <th>1</th>\n",
       "      <td>2008-10-28</td>\n",
       "      <td>Regular</td>\n",
       "      <td>2008-09</td>\n",
       "      <td>0</td>\n",
       "      <td>1</td>\n",
       "      <td>MIL</td>\n",
       "      <td>Away</td>\n",
       "      <td>Loss</td>\n",
       "      <td>0.0</td>\n",
       "      <td>95.0</td>\n",
       "      <td>...</td>\n",
       "      <td>120.3</td>\n",
       "      <td>105.8</td>\n",
       "      <td>14.5</td>\n",
       "      <td>0.48</td>\n",
       "      <td>28.53</td>\n",
       "      <td>1.50</td>\n",
       "      <td>0.50</td>\n",
       "      <td>89.8</td>\n",
       "      <td>89.8</td>\n",
       "      <td>CHI</td>\n",
       "    </tr>\n",
       "    <tr>\n",
       "      <th>2</th>\n",
       "      <td>2008-10-28</td>\n",
       "      <td>Regular</td>\n",
       "      <td>2008-09</td>\n",
       "      <td>0</td>\n",
       "      <td>1</td>\n",
       "      <td>POR</td>\n",
       "      <td>Away</td>\n",
       "      <td>Loss</td>\n",
       "      <td>0.0</td>\n",
       "      <td>76.0</td>\n",
       "      <td>...</td>\n",
       "      <td>107.7</td>\n",
       "      <td>85.3</td>\n",
       "      <td>22.4</td>\n",
       "      <td>0.44</td>\n",
       "      <td>18.08</td>\n",
       "      <td>1.27</td>\n",
       "      <td>0.53</td>\n",
       "      <td>89.1</td>\n",
       "      <td>89.1</td>\n",
       "      <td>LAL</td>\n",
       "    </tr>\n",
       "    <tr>\n",
       "      <th>3</th>\n",
       "      <td>2008-10-29</td>\n",
       "      <td>Regular</td>\n",
       "      <td>2008-09</td>\n",
       "      <td>1</td>\n",
       "      <td>0</td>\n",
       "      <td>TOR</td>\n",
       "      <td>Away</td>\n",
       "      <td>Win</td>\n",
       "      <td>0.0</td>\n",
       "      <td>95.0</td>\n",
       "      <td>...</td>\n",
       "      <td>99.8</td>\n",
       "      <td>112.8</td>\n",
       "      <td>-13.0</td>\n",
       "      <td>0.37</td>\n",
       "      <td>14.47</td>\n",
       "      <td>0.88</td>\n",
       "      <td>0.18</td>\n",
       "      <td>84.2</td>\n",
       "      <td>84.2</td>\n",
       "      <td>TOR</td>\n",
       "    </tr>\n",
       "    <tr>\n",
       "      <th>4</th>\n",
       "      <td>2008-10-29</td>\n",
       "      <td>Regular</td>\n",
       "      <td>2008-09</td>\n",
       "      <td>1</td>\n",
       "      <td>0</td>\n",
       "      <td>NJN</td>\n",
       "      <td>Away</td>\n",
       "      <td>Win</td>\n",
       "      <td>0.0</td>\n",
       "      <td>95.0</td>\n",
       "      <td>...</td>\n",
       "      <td>94.6</td>\n",
       "      <td>105.7</td>\n",
       "      <td>-11.1</td>\n",
       "      <td>0.36</td>\n",
       "      <td>17.86</td>\n",
       "      <td>1.20</td>\n",
       "      <td>0.27</td>\n",
       "      <td>89.9</td>\n",
       "      <td>89.9</td>\n",
       "      <td>NJN</td>\n",
       "    </tr>\n",
       "  </tbody>\n",
       "</table>\n",
       "<p>5 rows × 124 columns</p>\n",
       "</div>"
      ],
      "text/plain": [
       "       gmDate seasonType   season  teamWins  teamLosses teamAbbr teamLoc  \\\n",
       "0  2008-10-28    Regular  2008-09         0           1      CLE    Away   \n",
       "1  2008-10-28    Regular  2008-09         0           1      MIL    Away   \n",
       "2  2008-10-28    Regular  2008-09         0           1      POR    Away   \n",
       "3  2008-10-29    Regular  2008-09         1           0      TOR    Away   \n",
       "4  2008-10-29    Regular  2008-09         1           0      NJN    Away   \n",
       "\n",
       "  teamRslt  teamDayOff  teamPTS  ...  opptOrtg  opptDrtg  opptEDiff  \\\n",
       "0     Loss         0.0     85.0  ...      96.9      91.5        5.4   \n",
       "1     Loss         0.0     95.0  ...     120.3     105.8       14.5   \n",
       "2     Loss         0.0     76.0  ...     107.7      85.3       22.4   \n",
       "3      Win         0.0     95.0  ...      99.8     112.8      -13.0   \n",
       "4      Win         0.0     95.0  ...      94.6     105.7      -11.1   \n",
       "\n",
       "   opptPlay%  opptAR  opptAST/TO  opptSTL/TO  opptPoss  opptPace  matchWinner  \n",
       "0       0.41   17.57        1.00        0.62      92.9      92.9          BOS  \n",
       "1       0.48   28.53        1.50        0.50      89.8      89.8          CHI  \n",
       "2       0.44   18.08        1.27        0.53      89.1      89.1          LAL  \n",
       "3       0.37   14.47        0.88        0.18      84.2      84.2          TOR  \n",
       "4       0.36   17.86        1.20        0.27      89.9      89.9          NJN  \n",
       "\n",
       "[5 rows x 124 columns]"
      ]
     },
     "execution_count": 7,
     "metadata": {},
     "output_type": "execute_result"
    }
   ],
   "source": [
    "team_stats.head()"
   ]
  },
  {
   "cell_type": "code",
   "execution_count": 8,
   "id": "7e0cc11d",
   "metadata": {},
   "outputs": [
    {
     "name": "stdout",
     "output_type": "stream",
     "text": [
      "<class 'pandas.core.frame.DataFrame'>\n",
      "Int64Index: 15348 entries, 0 to 1142\n",
      "Columns: 124 entries, gmDate to matchWinner\n",
      "dtypes: float64(110), int64(4), object(10)\n",
      "memory usage: 14.6+ MB\n"
     ]
    }
   ],
   "source": [
    "team_stats.info()"
   ]
  },
  {
   "cell_type": "markdown",
   "id": "1bb78e36",
   "metadata": {
    "scrolled": false
   },
   "source": [
    "# 1.2 Cleaning player_stats"
   ]
  },
  {
   "cell_type": "raw",
   "id": "71855fb9",
   "metadata": {},
   "source": [
    "Now that the data is appened together, we will review and clean the data. "
   ]
  },
  {
   "cell_type": "code",
   "execution_count": 9,
   "id": "cddc41bd",
   "metadata": {},
   "outputs": [],
   "source": [
    "#Reorder columns and naming\n",
    "col = ['Player', 'Team', 'Against', 'Date']\n",
    "other = [x for x in player_stats.columns if x not in col]\n",
    "player_stats= player_stats[col + other]"
   ]
  },
  {
   "cell_type": "code",
   "execution_count": 10,
   "id": "44dea233",
   "metadata": {},
   "outputs": [],
   "source": [
    "#Dropping unecessary columns\n",
    "\n",
    "player_stats.drop(columns = ['FG%', '3P%', 'FT%', 'GameLink'], inplace = True)\n",
    "\n",
    "#'GameLink' turns out to be strings with no interesting information. If the full link was available, possible use to create Game IDs based on URL, however, that is not the case, and this column should be removed as it provides nothing of value."
   ]
  },
  {
   "cell_type": "code",
   "execution_count": 11,
   "id": "eead34f5",
   "metadata": {},
   "outputs": [
    {
     "data": {
      "text/plain": [
       "Player         0\n",
       "Team           0\n",
       "Against        0\n",
       "Date           0\n",
       "Home           0\n",
       "MP         61743\n",
       "FG         61743\n",
       "FGA        61743\n",
       "3P         61743\n",
       "3PA        61743\n",
       "FT         61743\n",
       "FTA        61743\n",
       "ORB        61743\n",
       "DRB        61743\n",
       "TRB        61743\n",
       "AST        61743\n",
       "STL        61743\n",
       "BLK        61743\n",
       "TOV        61743\n",
       "PF         61743\n",
       "PTS        61743\n",
       "+/-        61793\n",
       "dtype: int64"
      ]
     },
     "execution_count": 11,
     "metadata": {},
     "output_type": "execute_result"
    }
   ],
   "source": [
    "#Checking for isnull()\n",
    "\n",
    "player_stats.isna().sum()"
   ]
  },
  {
   "cell_type": "markdown",
   "id": "83e4580c",
   "metadata": {},
   "source": [
    "While evaluating the NA values, we see that we do have a good chunk of NaN data. It is clear that we are not looking at players who received 0 stats sucha as 0 pts or rebounds. Instead the data clearly records players who played zero mins have NaN's in their stats. \n",
    "\n",
    "In the +/- column, there's always a chance that the player contributed, but their +/- is still 0. This is quite possible as +/- is a stat recorded based on both team performances during the time the player is playing. "
   ]
  },
  {
   "cell_type": "code",
   "execution_count": 12,
   "id": "bcd6e1e7",
   "metadata": {},
   "outputs": [],
   "source": [
    "player_stats = player_stats[player_stats['MP'].notna()]"
   ]
  },
  {
   "cell_type": "code",
   "execution_count": 13,
   "id": "088677bf",
   "metadata": {
    "scrolled": false
   },
   "outputs": [
    {
     "data": {
      "text/plain": [
       "Player      0\n",
       "Team        0\n",
       "Against     0\n",
       "Date        0\n",
       "Home        0\n",
       "MP          0\n",
       "FG          0\n",
       "FGA         0\n",
       "3P          0\n",
       "3PA         0\n",
       "FT          0\n",
       "FTA         0\n",
       "ORB         0\n",
       "DRB         0\n",
       "TRB         0\n",
       "AST         0\n",
       "STL         0\n",
       "BLK         0\n",
       "TOV         0\n",
       "PF          0\n",
       "PTS         0\n",
       "+/-        50\n",
       "dtype: int64"
      ]
     },
     "execution_count": 13,
     "metadata": {},
     "output_type": "execute_result"
    }
   ],
   "source": [
    "player_stats.isna().sum()"
   ]
  },
  {
   "cell_type": "code",
   "execution_count": 14,
   "id": "b51bc0d0",
   "metadata": {},
   "outputs": [],
   "source": [
    "#Converting 'Date' column to datetime object\n",
    "\n",
    "player_stats['Date'] = pd.to_datetime(player_stats['Date'])"
   ]
  },
  {
   "cell_type": "code",
   "execution_count": 15,
   "id": "d6e27697",
   "metadata": {
    "scrolled": true
   },
   "outputs": [
    {
     "data": {
      "text/html": [
       "<div>\n",
       "<style scoped>\n",
       "    .dataframe tbody tr th:only-of-type {\n",
       "        vertical-align: middle;\n",
       "    }\n",
       "\n",
       "    .dataframe tbody tr th {\n",
       "        vertical-align: top;\n",
       "    }\n",
       "\n",
       "    .dataframe thead th {\n",
       "        text-align: right;\n",
       "    }\n",
       "</style>\n",
       "<table border=\"1\" class=\"dataframe\">\n",
       "  <thead>\n",
       "    <tr style=\"text-align: right;\">\n",
       "      <th></th>\n",
       "      <th>Player</th>\n",
       "      <th>Team</th>\n",
       "      <th>Against</th>\n",
       "      <th>Date</th>\n",
       "      <th>Home</th>\n",
       "      <th>MP</th>\n",
       "      <th>FG</th>\n",
       "      <th>FGA</th>\n",
       "      <th>3P</th>\n",
       "      <th>3PA</th>\n",
       "      <th>...</th>\n",
       "      <th>ORB</th>\n",
       "      <th>DRB</th>\n",
       "      <th>TRB</th>\n",
       "      <th>AST</th>\n",
       "      <th>STL</th>\n",
       "      <th>BLK</th>\n",
       "      <th>TOV</th>\n",
       "      <th>PF</th>\n",
       "      <th>PTS</th>\n",
       "      <th>+/-</th>\n",
       "    </tr>\n",
       "  </thead>\n",
       "  <tbody>\n",
       "    <tr>\n",
       "      <th>12</th>\n",
       "      <td>Ray Allen</td>\n",
       "      <td>Boston Celtics</td>\n",
       "      <td>Cleveland Cavaliers</td>\n",
       "      <td>2008-10-28</td>\n",
       "      <td>1</td>\n",
       "      <td>40.39</td>\n",
       "      <td>2.0</td>\n",
       "      <td>9.0</td>\n",
       "      <td>1.0</td>\n",
       "      <td>4.0</td>\n",
       "      <td>...</td>\n",
       "      <td>1.0</td>\n",
       "      <td>3.0</td>\n",
       "      <td>4.0</td>\n",
       "      <td>1.0</td>\n",
       "      <td>1.0</td>\n",
       "      <td>0.0</td>\n",
       "      <td>4.0</td>\n",
       "      <td>1.0</td>\n",
       "      <td>8.0</td>\n",
       "      <td>-1.0</td>\n",
       "    </tr>\n",
       "    <tr>\n",
       "      <th>13</th>\n",
       "      <td>Paul Pierce</td>\n",
       "      <td>Boston Celtics</td>\n",
       "      <td>Cleveland Cavaliers</td>\n",
       "      <td>2008-10-28</td>\n",
       "      <td>1</td>\n",
       "      <td>38.13</td>\n",
       "      <td>10.0</td>\n",
       "      <td>19.0</td>\n",
       "      <td>2.0</td>\n",
       "      <td>4.0</td>\n",
       "      <td>...</td>\n",
       "      <td>1.0</td>\n",
       "      <td>2.0</td>\n",
       "      <td>3.0</td>\n",
       "      <td>4.0</td>\n",
       "      <td>1.0</td>\n",
       "      <td>0.0</td>\n",
       "      <td>2.0</td>\n",
       "      <td>4.0</td>\n",
       "      <td>27.0</td>\n",
       "      <td>12.0</td>\n",
       "    </tr>\n",
       "    <tr>\n",
       "      <th>14</th>\n",
       "      <td>Kevin Garnett</td>\n",
       "      <td>Boston Celtics</td>\n",
       "      <td>Cleveland Cavaliers</td>\n",
       "      <td>2008-10-28</td>\n",
       "      <td>1</td>\n",
       "      <td>36.09</td>\n",
       "      <td>5.0</td>\n",
       "      <td>15.0</td>\n",
       "      <td>0.0</td>\n",
       "      <td>0.0</td>\n",
       "      <td>...</td>\n",
       "      <td>1.0</td>\n",
       "      <td>5.0</td>\n",
       "      <td>6.0</td>\n",
       "      <td>2.0</td>\n",
       "      <td>2.0</td>\n",
       "      <td>0.0</td>\n",
       "      <td>2.0</td>\n",
       "      <td>1.0</td>\n",
       "      <td>11.0</td>\n",
       "      <td>5.0</td>\n",
       "    </tr>\n",
       "    <tr>\n",
       "      <th>15</th>\n",
       "      <td>Rajon Rondo</td>\n",
       "      <td>Boston Celtics</td>\n",
       "      <td>Cleveland Cavaliers</td>\n",
       "      <td>2008-10-28</td>\n",
       "      <td>1</td>\n",
       "      <td>29.57</td>\n",
       "      <td>4.0</td>\n",
       "      <td>5.0</td>\n",
       "      <td>0.0</td>\n",
       "      <td>0.0</td>\n",
       "      <td>...</td>\n",
       "      <td>1.0</td>\n",
       "      <td>4.0</td>\n",
       "      <td>5.0</td>\n",
       "      <td>6.0</td>\n",
       "      <td>3.0</td>\n",
       "      <td>0.0</td>\n",
       "      <td>2.0</td>\n",
       "      <td>5.0</td>\n",
       "      <td>14.0</td>\n",
       "      <td>4.0</td>\n",
       "    </tr>\n",
       "    <tr>\n",
       "      <th>16</th>\n",
       "      <td>Kendrick Perkins</td>\n",
       "      <td>Boston Celtics</td>\n",
       "      <td>Cleveland Cavaliers</td>\n",
       "      <td>2008-10-28</td>\n",
       "      <td>1</td>\n",
       "      <td>20.50</td>\n",
       "      <td>1.0</td>\n",
       "      <td>2.0</td>\n",
       "      <td>0.0</td>\n",
       "      <td>0.0</td>\n",
       "      <td>...</td>\n",
       "      <td>4.0</td>\n",
       "      <td>4.0</td>\n",
       "      <td>8.0</td>\n",
       "      <td>0.0</td>\n",
       "      <td>0.0</td>\n",
       "      <td>0.0</td>\n",
       "      <td>2.0</td>\n",
       "      <td>6.0</td>\n",
       "      <td>2.0</td>\n",
       "      <td>-7.0</td>\n",
       "    </tr>\n",
       "    <tr>\n",
       "      <th>...</th>\n",
       "      <td>...</td>\n",
       "      <td>...</td>\n",
       "      <td>...</td>\n",
       "      <td>...</td>\n",
       "      <td>...</td>\n",
       "      <td>...</td>\n",
       "      <td>...</td>\n",
       "      <td>...</td>\n",
       "      <td>...</td>\n",
       "      <td>...</td>\n",
       "      <td>...</td>\n",
       "      <td>...</td>\n",
       "      <td>...</td>\n",
       "      <td>...</td>\n",
       "      <td>...</td>\n",
       "      <td>...</td>\n",
       "      <td>...</td>\n",
       "      <td>...</td>\n",
       "      <td>...</td>\n",
       "      <td>...</td>\n",
       "      <td>...</td>\n",
       "    </tr>\n",
       "    <tr>\n",
       "      <th>27735</th>\n",
       "      <td>Kelly Olynyk</td>\n",
       "      <td>Miami Heat</td>\n",
       "      <td>Los Angeles Lakers</td>\n",
       "      <td>2020-10-11</td>\n",
       "      <td>1</td>\n",
       "      <td>14.52</td>\n",
       "      <td>4.0</td>\n",
       "      <td>7.0</td>\n",
       "      <td>1.0</td>\n",
       "      <td>1.0</td>\n",
       "      <td>...</td>\n",
       "      <td>3.0</td>\n",
       "      <td>4.0</td>\n",
       "      <td>7.0</td>\n",
       "      <td>0.0</td>\n",
       "      <td>0.0</td>\n",
       "      <td>1.0</td>\n",
       "      <td>0.0</td>\n",
       "      <td>1.0</td>\n",
       "      <td>9.0</td>\n",
       "      <td>19.0</td>\n",
       "    </tr>\n",
       "    <tr>\n",
       "      <th>27736</th>\n",
       "      <td>Kendrick Nunn</td>\n",
       "      <td>Miami Heat</td>\n",
       "      <td>Los Angeles Lakers</td>\n",
       "      <td>2020-10-11</td>\n",
       "      <td>1</td>\n",
       "      <td>12.45</td>\n",
       "      <td>3.0</td>\n",
       "      <td>8.0</td>\n",
       "      <td>2.0</td>\n",
       "      <td>4.0</td>\n",
       "      <td>...</td>\n",
       "      <td>0.0</td>\n",
       "      <td>3.0</td>\n",
       "      <td>3.0</td>\n",
       "      <td>1.0</td>\n",
       "      <td>0.0</td>\n",
       "      <td>0.0</td>\n",
       "      <td>2.0</td>\n",
       "      <td>0.0</td>\n",
       "      <td>8.0</td>\n",
       "      <td>-13.0</td>\n",
       "    </tr>\n",
       "    <tr>\n",
       "      <th>27737</th>\n",
       "      <td>Andre Iguodala</td>\n",
       "      <td>Miami Heat</td>\n",
       "      <td>Los Angeles Lakers</td>\n",
       "      <td>2020-10-11</td>\n",
       "      <td>1</td>\n",
       "      <td>10.33</td>\n",
       "      <td>0.0</td>\n",
       "      <td>2.0</td>\n",
       "      <td>0.0</td>\n",
       "      <td>2.0</td>\n",
       "      <td>...</td>\n",
       "      <td>0.0</td>\n",
       "      <td>1.0</td>\n",
       "      <td>1.0</td>\n",
       "      <td>0.0</td>\n",
       "      <td>0.0</td>\n",
       "      <td>0.0</td>\n",
       "      <td>0.0</td>\n",
       "      <td>1.0</td>\n",
       "      <td>0.0</td>\n",
       "      <td>-20.0</td>\n",
       "    </tr>\n",
       "    <tr>\n",
       "      <th>27738</th>\n",
       "      <td>Solomon Hill</td>\n",
       "      <td>Miami Heat</td>\n",
       "      <td>Los Angeles Lakers</td>\n",
       "      <td>2020-10-11</td>\n",
       "      <td>1</td>\n",
       "      <td>2.29</td>\n",
       "      <td>2.0</td>\n",
       "      <td>2.0</td>\n",
       "      <td>1.0</td>\n",
       "      <td>1.0</td>\n",
       "      <td>...</td>\n",
       "      <td>0.0</td>\n",
       "      <td>0.0</td>\n",
       "      <td>0.0</td>\n",
       "      <td>1.0</td>\n",
       "      <td>1.0</td>\n",
       "      <td>0.0</td>\n",
       "      <td>0.0</td>\n",
       "      <td>0.0</td>\n",
       "      <td>5.0</td>\n",
       "      <td>7.0</td>\n",
       "    </tr>\n",
       "    <tr>\n",
       "      <th>27739</th>\n",
       "      <td>Derrick Jones</td>\n",
       "      <td>Miami Heat</td>\n",
       "      <td>Los Angeles Lakers</td>\n",
       "      <td>2020-10-11</td>\n",
       "      <td>1</td>\n",
       "      <td>1.27</td>\n",
       "      <td>0.0</td>\n",
       "      <td>0.0</td>\n",
       "      <td>0.0</td>\n",
       "      <td>0.0</td>\n",
       "      <td>...</td>\n",
       "      <td>0.0</td>\n",
       "      <td>0.0</td>\n",
       "      <td>0.0</td>\n",
       "      <td>0.0</td>\n",
       "      <td>0.0</td>\n",
       "      <td>0.0</td>\n",
       "      <td>0.0</td>\n",
       "      <td>0.0</td>\n",
       "      <td>0.0</td>\n",
       "      <td>4.0</td>\n",
       "    </tr>\n",
       "  </tbody>\n",
       "</table>\n",
       "<p>160311 rows × 22 columns</p>\n",
       "</div>"
      ],
      "text/plain": [
       "                 Player            Team              Against       Date  Home  \\\n",
       "12            Ray Allen  Boston Celtics  Cleveland Cavaliers 2008-10-28     1   \n",
       "13          Paul Pierce  Boston Celtics  Cleveland Cavaliers 2008-10-28     1   \n",
       "14        Kevin Garnett  Boston Celtics  Cleveland Cavaliers 2008-10-28     1   \n",
       "15          Rajon Rondo  Boston Celtics  Cleveland Cavaliers 2008-10-28     1   \n",
       "16     Kendrick Perkins  Boston Celtics  Cleveland Cavaliers 2008-10-28     1   \n",
       "...                 ...             ...                  ...        ...   ...   \n",
       "27735      Kelly Olynyk      Miami Heat   Los Angeles Lakers 2020-10-11     1   \n",
       "27736     Kendrick Nunn      Miami Heat   Los Angeles Lakers 2020-10-11     1   \n",
       "27737    Andre Iguodala      Miami Heat   Los Angeles Lakers 2020-10-11     1   \n",
       "27738      Solomon Hill      Miami Heat   Los Angeles Lakers 2020-10-11     1   \n",
       "27739     Derrick Jones      Miami Heat   Los Angeles Lakers 2020-10-11     1   \n",
       "\n",
       "          MP    FG   FGA   3P  3PA  ...  ORB  DRB  TRB  AST  STL  BLK  TOV  \\\n",
       "12     40.39   2.0   9.0  1.0  4.0  ...  1.0  3.0  4.0  1.0  1.0  0.0  4.0   \n",
       "13     38.13  10.0  19.0  2.0  4.0  ...  1.0  2.0  3.0  4.0  1.0  0.0  2.0   \n",
       "14     36.09   5.0  15.0  0.0  0.0  ...  1.0  5.0  6.0  2.0  2.0  0.0  2.0   \n",
       "15     29.57   4.0   5.0  0.0  0.0  ...  1.0  4.0  5.0  6.0  3.0  0.0  2.0   \n",
       "16     20.50   1.0   2.0  0.0  0.0  ...  4.0  4.0  8.0  0.0  0.0  0.0  2.0   \n",
       "...      ...   ...   ...  ...  ...  ...  ...  ...  ...  ...  ...  ...  ...   \n",
       "27735  14.52   4.0   7.0  1.0  1.0  ...  3.0  4.0  7.0  0.0  0.0  1.0  0.0   \n",
       "27736  12.45   3.0   8.0  2.0  4.0  ...  0.0  3.0  3.0  1.0  0.0  0.0  2.0   \n",
       "27737  10.33   0.0   2.0  0.0  2.0  ...  0.0  1.0  1.0  0.0  0.0  0.0  0.0   \n",
       "27738   2.29   2.0   2.0  1.0  1.0  ...  0.0  0.0  0.0  1.0  1.0  0.0  0.0   \n",
       "27739   1.27   0.0   0.0  0.0  0.0  ...  0.0  0.0  0.0  0.0  0.0  0.0  0.0   \n",
       "\n",
       "        PF   PTS   +/-  \n",
       "12     1.0   8.0  -1.0  \n",
       "13     4.0  27.0  12.0  \n",
       "14     1.0  11.0   5.0  \n",
       "15     5.0  14.0   4.0  \n",
       "16     6.0   2.0  -7.0  \n",
       "...    ...   ...   ...  \n",
       "27735  1.0   9.0  19.0  \n",
       "27736  0.0   8.0 -13.0  \n",
       "27737  1.0   0.0 -20.0  \n",
       "27738  0.0   5.0   7.0  \n",
       "27739  0.0   0.0   4.0  \n",
       "\n",
       "[160311 rows x 22 columns]"
      ]
     },
     "execution_count": 15,
     "metadata": {},
     "output_type": "execute_result"
    }
   ],
   "source": [
    "player_stats[player_stats['Home'] == 1]"
   ]
  },
  {
   "cell_type": "code",
   "execution_count": 16,
   "id": "859b28c0",
   "metadata": {
    "scrolled": true
   },
   "outputs": [
    {
     "data": {
      "text/plain": [
       "array(['BOS', 'CLE', 'CHI', 'MIL', 'LOS', 'POR', 'PHI', 'TOR', 'WAS',\n",
       "       'NEW', 'ORL', 'ATL', 'MIA', 'SAN', 'PHO', 'OKL', 'MIN', 'SAC',\n",
       "       'DET', 'IND', 'HOU', 'MEM', 'UTA', 'DEN', 'GOL', 'CHA', 'DAL',\n",
       "       'BRO'], dtype=object)"
      ]
     },
     "execution_count": 16,
     "metadata": {},
     "output_type": "execute_result"
    }
   ],
   "source": [
    "#Creating game ID column for bridging the team_stats and player_stats datasets.\n",
    "#We want to uniform the ID to just using the home team abbreviation\n",
    "\n",
    "if (player_stats['Home'] == 1).all():\n",
    "    player_stats['homeAbbr'] = player_stats['Team'].str[0:3].str.upper()\n",
    "else:\n",
    "    player_stats['homeAbbr'] = player_stats['Against'].str[0:3].str.upper()\n",
    "\n",
    "player_stats['homeAbbr'].unique()\n",
    "\n",
    "#We can see that using just the first 3 characters most of the abbreviations are the standard for representing the NBA teams, but there are exceptions. \n",
    "#Need to change (LOS, NEW, SAN, OKL, GOL, BRO)"
   ]
  },
  {
   "cell_type": "code",
   "execution_count": 17,
   "id": "66c160dc",
   "metadata": {
    "scrolled": false
   },
   "outputs": [
    {
     "data": {
      "text/plain": [
       "array(['BOS', 'CLE', 'CHI', 'MIL', 'LAL', 'POR', 'PHI', 'TOR', 'WAS',\n",
       "       'NYK', 'ORL', 'ATL', 'MIA', 'SAS', 'PHO', 'OKC', 'MIN', 'SAC',\n",
       "       'DET', 'IND', 'HOU', 'MEM', 'UTA', 'DEN', 'GSW', 'CHA', 'DAL',\n",
       "       'BKN'], dtype=object)"
      ]
     },
     "execution_count": 17,
     "metadata": {},
     "output_type": "execute_result"
    }
   ],
   "source": [
    "player_stats['homeAbbr'] = player_stats['homeAbbr'].replace({'LOS': 'LAL', 'NEW': 'NYK', 'SAN':'SAS', 'OKL': 'OKC', 'GOL':'GSW', 'BRO':'BKN'})\n",
    "player_stats['homeAbbr'].unique()"
   ]
  },
  {
   "cell_type": "code",
   "execution_count": 18,
   "id": "fab71738",
   "metadata": {
    "scrolled": true
   },
   "outputs": [
    {
     "data": {
      "text/html": [
       "<div>\n",
       "<style scoped>\n",
       "    .dataframe tbody tr th:only-of-type {\n",
       "        vertical-align: middle;\n",
       "    }\n",
       "\n",
       "    .dataframe tbody tr th {\n",
       "        vertical-align: top;\n",
       "    }\n",
       "\n",
       "    .dataframe thead th {\n",
       "        text-align: right;\n",
       "    }\n",
       "</style>\n",
       "<table border=\"1\" class=\"dataframe\">\n",
       "  <thead>\n",
       "    <tr style=\"text-align: right;\">\n",
       "      <th></th>\n",
       "      <th>Player</th>\n",
       "      <th>Team</th>\n",
       "      <th>Against</th>\n",
       "      <th>Date</th>\n",
       "      <th>Home</th>\n",
       "      <th>MP</th>\n",
       "      <th>FG</th>\n",
       "      <th>FGA</th>\n",
       "      <th>3P</th>\n",
       "      <th>3PA</th>\n",
       "      <th>...</th>\n",
       "      <th>TRB</th>\n",
       "      <th>AST</th>\n",
       "      <th>STL</th>\n",
       "      <th>BLK</th>\n",
       "      <th>TOV</th>\n",
       "      <th>PF</th>\n",
       "      <th>PTS</th>\n",
       "      <th>+/-</th>\n",
       "      <th>homeAbbr</th>\n",
       "      <th>gameID</th>\n",
       "    </tr>\n",
       "  </thead>\n",
       "  <tbody>\n",
       "    <tr>\n",
       "      <th>0</th>\n",
       "      <td>LeBron James</td>\n",
       "      <td>Cleveland Cavaliers</td>\n",
       "      <td>Boston Celtics</td>\n",
       "      <td>2008-10-28</td>\n",
       "      <td>0</td>\n",
       "      <td>36.00</td>\n",
       "      <td>9.0</td>\n",
       "      <td>21.0</td>\n",
       "      <td>0.0</td>\n",
       "      <td>4.0</td>\n",
       "      <td>...</td>\n",
       "      <td>7.0</td>\n",
       "      <td>6.0</td>\n",
       "      <td>2.0</td>\n",
       "      <td>1.0</td>\n",
       "      <td>3.0</td>\n",
       "      <td>4.0</td>\n",
       "      <td>22.0</td>\n",
       "      <td>-3.0</td>\n",
       "      <td>BOS</td>\n",
       "      <td>20081028BOS</td>\n",
       "    </tr>\n",
       "    <tr>\n",
       "      <th>1</th>\n",
       "      <td>Delonte West</td>\n",
       "      <td>Cleveland Cavaliers</td>\n",
       "      <td>Boston Celtics</td>\n",
       "      <td>2008-10-28</td>\n",
       "      <td>0</td>\n",
       "      <td>35.29</td>\n",
       "      <td>2.0</td>\n",
       "      <td>4.0</td>\n",
       "      <td>0.0</td>\n",
       "      <td>1.0</td>\n",
       "      <td>...</td>\n",
       "      <td>2.0</td>\n",
       "      <td>2.0</td>\n",
       "      <td>0.0</td>\n",
       "      <td>0.0</td>\n",
       "      <td>1.0</td>\n",
       "      <td>0.0</td>\n",
       "      <td>6.0</td>\n",
       "      <td>-10.0</td>\n",
       "      <td>BOS</td>\n",
       "      <td>20081028BOS</td>\n",
       "    </tr>\n",
       "    <tr>\n",
       "      <th>2</th>\n",
       "      <td>Mo Williams</td>\n",
       "      <td>Cleveland Cavaliers</td>\n",
       "      <td>Boston Celtics</td>\n",
       "      <td>2008-10-28</td>\n",
       "      <td>0</td>\n",
       "      <td>31.18</td>\n",
       "      <td>4.0</td>\n",
       "      <td>10.0</td>\n",
       "      <td>3.0</td>\n",
       "      <td>5.0</td>\n",
       "      <td>...</td>\n",
       "      <td>3.0</td>\n",
       "      <td>2.0</td>\n",
       "      <td>1.0</td>\n",
       "      <td>0.0</td>\n",
       "      <td>4.0</td>\n",
       "      <td>5.0</td>\n",
       "      <td>12.0</td>\n",
       "      <td>3.0</td>\n",
       "      <td>BOS</td>\n",
       "      <td>20081028BOS</td>\n",
       "    </tr>\n",
       "    <tr>\n",
       "      <th>3</th>\n",
       "      <td>Zydrunas Ilgauskas</td>\n",
       "      <td>Cleveland Cavaliers</td>\n",
       "      <td>Boston Celtics</td>\n",
       "      <td>2008-10-28</td>\n",
       "      <td>0</td>\n",
       "      <td>30.24</td>\n",
       "      <td>3.0</td>\n",
       "      <td>5.0</td>\n",
       "      <td>0.0</td>\n",
       "      <td>0.0</td>\n",
       "      <td>...</td>\n",
       "      <td>8.0</td>\n",
       "      <td>1.0</td>\n",
       "      <td>0.0</td>\n",
       "      <td>0.0</td>\n",
       "      <td>4.0</td>\n",
       "      <td>3.0</td>\n",
       "      <td>15.0</td>\n",
       "      <td>7.0</td>\n",
       "      <td>BOS</td>\n",
       "      <td>20081028BOS</td>\n",
       "    </tr>\n",
       "    <tr>\n",
       "      <th>4</th>\n",
       "      <td>Ben Wallace</td>\n",
       "      <td>Cleveland Cavaliers</td>\n",
       "      <td>Boston Celtics</td>\n",
       "      <td>2008-10-28</td>\n",
       "      <td>0</td>\n",
       "      <td>19.03</td>\n",
       "      <td>1.0</td>\n",
       "      <td>1.0</td>\n",
       "      <td>0.0</td>\n",
       "      <td>0.0</td>\n",
       "      <td>...</td>\n",
       "      <td>4.0</td>\n",
       "      <td>0.0</td>\n",
       "      <td>0.0</td>\n",
       "      <td>1.0</td>\n",
       "      <td>1.0</td>\n",
       "      <td>2.0</td>\n",
       "      <td>2.0</td>\n",
       "      <td>-1.0</td>\n",
       "      <td>BOS</td>\n",
       "      <td>20081028BOS</td>\n",
       "    </tr>\n",
       "  </tbody>\n",
       "</table>\n",
       "<p>5 rows × 24 columns</p>\n",
       "</div>"
      ],
      "text/plain": [
       "               Player                 Team         Against       Date  Home  \\\n",
       "0        LeBron James  Cleveland Cavaliers  Boston Celtics 2008-10-28     0   \n",
       "1        Delonte West  Cleveland Cavaliers  Boston Celtics 2008-10-28     0   \n",
       "2         Mo Williams  Cleveland Cavaliers  Boston Celtics 2008-10-28     0   \n",
       "3  Zydrunas Ilgauskas  Cleveland Cavaliers  Boston Celtics 2008-10-28     0   \n",
       "4         Ben Wallace  Cleveland Cavaliers  Boston Celtics 2008-10-28     0   \n",
       "\n",
       "      MP   FG   FGA   3P  3PA  ...  TRB  AST  STL  BLK  TOV   PF   PTS   +/-  \\\n",
       "0  36.00  9.0  21.0  0.0  4.0  ...  7.0  6.0  2.0  1.0  3.0  4.0  22.0  -3.0   \n",
       "1  35.29  2.0   4.0  0.0  1.0  ...  2.0  2.0  0.0  0.0  1.0  0.0   6.0 -10.0   \n",
       "2  31.18  4.0  10.0  3.0  5.0  ...  3.0  2.0  1.0  0.0  4.0  5.0  12.0   3.0   \n",
       "3  30.24  3.0   5.0  0.0  0.0  ...  8.0  1.0  0.0  0.0  4.0  3.0  15.0   7.0   \n",
       "4  19.03  1.0   1.0  0.0  0.0  ...  4.0  0.0  0.0  1.0  1.0  2.0   2.0  -1.0   \n",
       "\n",
       "   homeAbbr       gameID  \n",
       "0       BOS  20081028BOS  \n",
       "1       BOS  20081028BOS  \n",
       "2       BOS  20081028BOS  \n",
       "3       BOS  20081028BOS  \n",
       "4       BOS  20081028BOS  \n",
       "\n",
       "[5 rows x 24 columns]"
      ]
     },
     "execution_count": 18,
     "metadata": {},
     "output_type": "execute_result"
    }
   ],
   "source": [
    "player_stats['gameID'] =  player_stats['Date'].dt.strftime('%Y%m%d') + player_stats['homeAbbr']\n",
    "player_stats.head()"
   ]
  },
  {
   "cell_type": "code",
   "execution_count": 19,
   "id": "af9ddbd4",
   "metadata": {
    "scrolled": true
   },
   "outputs": [],
   "source": [
    "#Checking if games included playoff games. In the 2008 season, the playoffs started April 20th\n",
    "#df1[df1['col'].str.contains(r'foo(?!$)')]\n",
    "player_stats[player_stats['gameID'].str.contains(r'200905(?!$)')]\n",
    "\n",
    "#Below data looks like the player stats include playoff games. \n",
    "#We are only concerned with regular season, and will need to remove these games based on dates\n",
    "\n",
    "start_date = '2009-04-18'\n",
    "end_date = '2009-06-19'\n",
    "after = player_stats['Date'] >= start_date\n",
    "before = player_stats['Date'] <= end_date\n",
    "playoff0809 = after & before\n",
    "\n",
    "start_date2 = '2010-04-17'\n",
    "end_date2 = '2010-06-17'\n",
    "after2 = player_stats['Date'] >= start_date\n",
    "before2 = player_stats['Date'] <= end_date\n",
    "playoff0910 = after2 & before2\n",
    "\n",
    "start_date3 = '2011-04-16'\n",
    "end_date3 = '2011-06-12'\n",
    "after3 = player_stats['Date'] >= start_date\n",
    "before3 = player_stats['Date'] <= end_date\n",
    "playoff1011 = after3 & before3\n",
    "\n",
    "start_date4 = '2012-04-28'\n",
    "end_date4 = '2012-06-21'\n",
    "after4 = player_stats['Date'] >= start_date\n",
    "before4 = player_stats['Date'] <= end_date\n",
    "playoff1112 = after4 & before4\n",
    "\n",
    "start_date5 = '2013-04-20'\n",
    "end_date5 = '2013-06-20'\n",
    "after5 = player_stats['Date'] >= start_date\n",
    "before5 = player_stats['Date'] <= end_date\n",
    "playoff1213 = after5 & before5\n",
    "\n",
    "start_date6 = '2014-04-19'\n",
    "end_date6 = '2014-06-14'\n",
    "after6 = player_stats['Date'] >= start_date\n",
    "before6 = player_stats['Date'] <= end_date\n",
    "playoff1314 = after6 & before6\n",
    "\n",
    "start_date7 = '2015-04-18'\n",
    "end_date7 = '2015-06-16'\n",
    "after7 = player_stats['Date'] >= start_date\n",
    "before7 = player_stats['Date'] <= end_date\n",
    "playoff1415 = after7 & before7\n",
    "\n",
    "start_date8 = '2016-04-16'\n",
    "end_date8 = '2016-06-19'\n",
    "after8 = player_stats['Date'] >= start_date\n",
    "before8 = player_stats['Date'] <= end_date\n",
    "playoff1516 = after8 & before8\n",
    "\n",
    "start_date9 = '2017-04-15'\n",
    "end_date9 = '2017-06-12'\n",
    "after9 = player_stats['Date'] >= start_date\n",
    "before9 = player_stats['Date'] <= end_date\n",
    "playoff1617 = after9 & before9\n",
    "\n",
    "start_date10 = '2018-04-14'\n",
    "end_date10 = '2018-06-8'\n",
    "after10 = player_stats['Date'] >= start_date\n",
    "before10 = player_stats['Date'] <= end_date\n",
    "playoff1718 = after10 & before10\n",
    "\n",
    "start_date11 = '2019-04-13'\n",
    "end_date11 = '2019-06-13'\n",
    "after11 = player_stats['Date'] >= start_date\n",
    "before11 = player_stats['Date'] <= end_date\n",
    "playoff1819 = after11 & before11\n",
    "\n",
    "start_date12 = '2020-08-17'\n",
    "end_date12 = '2020-10-11'\n",
    "after12 = player_stats['Date'] >= start_date\n",
    "before12 = player_stats['Date'] <= end_date\n",
    "playoff1920 = after12 & before12\n",
    "\n",
    "playoffdates = [playoff0809, playoff0910, playoff1011, playoff1112, playoff1213, playoff1314, playoff1415, playoff1516, playoff1617, playoff1718, playoff1819, playoff1920]\n",
    "playoffgames = pd.concat(playoffdates)\n"
   ]
  },
  {
   "cell_type": "code",
   "execution_count": null,
   "id": "828c2a56",
   "metadata": {
    "scrolled": true
   },
   "outputs": [
    {
     "name": "stderr",
     "output_type": "stream",
     "text": [
      "<ipython-input-38-8066c5abf08a>:1: UserWarning: Boolean Series key will be reindexed to match DataFrame index.\n",
      "  player_stats[playoffgames].head()\n"
     ]
    }
   ],
   "source": [
    "player_stats[playoffgames].head()"
   ]
  },
  {
   "cell_type": "code",
   "execution_count": 20,
   "id": "c77bc2f5",
   "metadata": {
    "scrolled": true
   },
   "outputs": [
    {
     "data": {
      "text/html": [
       "<div>\n",
       "<style scoped>\n",
       "    .dataframe tbody tr th:only-of-type {\n",
       "        vertical-align: middle;\n",
       "    }\n",
       "\n",
       "    .dataframe tbody tr th {\n",
       "        vertical-align: top;\n",
       "    }\n",
       "\n",
       "    .dataframe thead th {\n",
       "        text-align: right;\n",
       "    }\n",
       "</style>\n",
       "<table border=\"1\" class=\"dataframe\">\n",
       "  <thead>\n",
       "    <tr style=\"text-align: right;\">\n",
       "      <th></th>\n",
       "      <th>Player</th>\n",
       "      <th>Team</th>\n",
       "      <th>Against</th>\n",
       "      <th>Date</th>\n",
       "      <th>Home</th>\n",
       "      <th>MP</th>\n",
       "      <th>FG</th>\n",
       "      <th>FGA</th>\n",
       "      <th>3P</th>\n",
       "      <th>3PA</th>\n",
       "      <th>...</th>\n",
       "      <th>DRB</th>\n",
       "      <th>TRB</th>\n",
       "      <th>AST</th>\n",
       "      <th>STL</th>\n",
       "      <th>BLK</th>\n",
       "      <th>TOV</th>\n",
       "      <th>PF</th>\n",
       "      <th>PTS</th>\n",
       "      <th>+/-</th>\n",
       "      <th>gameID</th>\n",
       "    </tr>\n",
       "  </thead>\n",
       "  <tbody>\n",
       "    <tr>\n",
       "      <th>0</th>\n",
       "      <td>LeBron James</td>\n",
       "      <td>Cleveland Cavaliers</td>\n",
       "      <td>Boston Celtics</td>\n",
       "      <td>2008-10-28</td>\n",
       "      <td>0</td>\n",
       "      <td>36.00</td>\n",
       "      <td>9.0</td>\n",
       "      <td>21.0</td>\n",
       "      <td>0.0</td>\n",
       "      <td>4.0</td>\n",
       "      <td>...</td>\n",
       "      <td>6.0</td>\n",
       "      <td>7.0</td>\n",
       "      <td>6.0</td>\n",
       "      <td>2.0</td>\n",
       "      <td>1.0</td>\n",
       "      <td>3.0</td>\n",
       "      <td>4.0</td>\n",
       "      <td>22.0</td>\n",
       "      <td>-3.0</td>\n",
       "      <td>20081028BOS</td>\n",
       "    </tr>\n",
       "    <tr>\n",
       "      <th>1</th>\n",
       "      <td>Delonte West</td>\n",
       "      <td>Cleveland Cavaliers</td>\n",
       "      <td>Boston Celtics</td>\n",
       "      <td>2008-10-28</td>\n",
       "      <td>0</td>\n",
       "      <td>35.29</td>\n",
       "      <td>2.0</td>\n",
       "      <td>4.0</td>\n",
       "      <td>0.0</td>\n",
       "      <td>1.0</td>\n",
       "      <td>...</td>\n",
       "      <td>2.0</td>\n",
       "      <td>2.0</td>\n",
       "      <td>2.0</td>\n",
       "      <td>0.0</td>\n",
       "      <td>0.0</td>\n",
       "      <td>1.0</td>\n",
       "      <td>0.0</td>\n",
       "      <td>6.0</td>\n",
       "      <td>-10.0</td>\n",
       "      <td>20081028BOS</td>\n",
       "    </tr>\n",
       "    <tr>\n",
       "      <th>2</th>\n",
       "      <td>Mo Williams</td>\n",
       "      <td>Cleveland Cavaliers</td>\n",
       "      <td>Boston Celtics</td>\n",
       "      <td>2008-10-28</td>\n",
       "      <td>0</td>\n",
       "      <td>31.18</td>\n",
       "      <td>4.0</td>\n",
       "      <td>10.0</td>\n",
       "      <td>3.0</td>\n",
       "      <td>5.0</td>\n",
       "      <td>...</td>\n",
       "      <td>3.0</td>\n",
       "      <td>3.0</td>\n",
       "      <td>2.0</td>\n",
       "      <td>1.0</td>\n",
       "      <td>0.0</td>\n",
       "      <td>4.0</td>\n",
       "      <td>5.0</td>\n",
       "      <td>12.0</td>\n",
       "      <td>3.0</td>\n",
       "      <td>20081028BOS</td>\n",
       "    </tr>\n",
       "    <tr>\n",
       "      <th>3</th>\n",
       "      <td>Zydrunas Ilgauskas</td>\n",
       "      <td>Cleveland Cavaliers</td>\n",
       "      <td>Boston Celtics</td>\n",
       "      <td>2008-10-28</td>\n",
       "      <td>0</td>\n",
       "      <td>30.24</td>\n",
       "      <td>3.0</td>\n",
       "      <td>5.0</td>\n",
       "      <td>0.0</td>\n",
       "      <td>0.0</td>\n",
       "      <td>...</td>\n",
       "      <td>5.0</td>\n",
       "      <td>8.0</td>\n",
       "      <td>1.0</td>\n",
       "      <td>0.0</td>\n",
       "      <td>0.0</td>\n",
       "      <td>4.0</td>\n",
       "      <td>3.0</td>\n",
       "      <td>15.0</td>\n",
       "      <td>7.0</td>\n",
       "      <td>20081028BOS</td>\n",
       "    </tr>\n",
       "    <tr>\n",
       "      <th>4</th>\n",
       "      <td>Ben Wallace</td>\n",
       "      <td>Cleveland Cavaliers</td>\n",
       "      <td>Boston Celtics</td>\n",
       "      <td>2008-10-28</td>\n",
       "      <td>0</td>\n",
       "      <td>19.03</td>\n",
       "      <td>1.0</td>\n",
       "      <td>1.0</td>\n",
       "      <td>0.0</td>\n",
       "      <td>0.0</td>\n",
       "      <td>...</td>\n",
       "      <td>4.0</td>\n",
       "      <td>4.0</td>\n",
       "      <td>0.0</td>\n",
       "      <td>0.0</td>\n",
       "      <td>1.0</td>\n",
       "      <td>1.0</td>\n",
       "      <td>2.0</td>\n",
       "      <td>2.0</td>\n",
       "      <td>-1.0</td>\n",
       "      <td>20081028BOS</td>\n",
       "    </tr>\n",
       "    <tr>\n",
       "      <th>...</th>\n",
       "      <td>...</td>\n",
       "      <td>...</td>\n",
       "      <td>...</td>\n",
       "      <td>...</td>\n",
       "      <td>...</td>\n",
       "      <td>...</td>\n",
       "      <td>...</td>\n",
       "      <td>...</td>\n",
       "      <td>...</td>\n",
       "      <td>...</td>\n",
       "      <td>...</td>\n",
       "      <td>...</td>\n",
       "      <td>...</td>\n",
       "      <td>...</td>\n",
       "      <td>...</td>\n",
       "      <td>...</td>\n",
       "      <td>...</td>\n",
       "      <td>...</td>\n",
       "      <td>...</td>\n",
       "      <td>...</td>\n",
       "      <td>...</td>\n",
       "    </tr>\n",
       "    <tr>\n",
       "      <th>27735</th>\n",
       "      <td>Kelly Olynyk</td>\n",
       "      <td>Miami Heat</td>\n",
       "      <td>Los Angeles Lakers</td>\n",
       "      <td>2020-10-11</td>\n",
       "      <td>1</td>\n",
       "      <td>14.52</td>\n",
       "      <td>4.0</td>\n",
       "      <td>7.0</td>\n",
       "      <td>1.0</td>\n",
       "      <td>1.0</td>\n",
       "      <td>...</td>\n",
       "      <td>4.0</td>\n",
       "      <td>7.0</td>\n",
       "      <td>0.0</td>\n",
       "      <td>0.0</td>\n",
       "      <td>1.0</td>\n",
       "      <td>0.0</td>\n",
       "      <td>1.0</td>\n",
       "      <td>9.0</td>\n",
       "      <td>19.0</td>\n",
       "      <td>20201011LAL</td>\n",
       "    </tr>\n",
       "    <tr>\n",
       "      <th>27736</th>\n",
       "      <td>Kendrick Nunn</td>\n",
       "      <td>Miami Heat</td>\n",
       "      <td>Los Angeles Lakers</td>\n",
       "      <td>2020-10-11</td>\n",
       "      <td>1</td>\n",
       "      <td>12.45</td>\n",
       "      <td>3.0</td>\n",
       "      <td>8.0</td>\n",
       "      <td>2.0</td>\n",
       "      <td>4.0</td>\n",
       "      <td>...</td>\n",
       "      <td>3.0</td>\n",
       "      <td>3.0</td>\n",
       "      <td>1.0</td>\n",
       "      <td>0.0</td>\n",
       "      <td>0.0</td>\n",
       "      <td>2.0</td>\n",
       "      <td>0.0</td>\n",
       "      <td>8.0</td>\n",
       "      <td>-13.0</td>\n",
       "      <td>20201011LAL</td>\n",
       "    </tr>\n",
       "    <tr>\n",
       "      <th>27737</th>\n",
       "      <td>Andre Iguodala</td>\n",
       "      <td>Miami Heat</td>\n",
       "      <td>Los Angeles Lakers</td>\n",
       "      <td>2020-10-11</td>\n",
       "      <td>1</td>\n",
       "      <td>10.33</td>\n",
       "      <td>0.0</td>\n",
       "      <td>2.0</td>\n",
       "      <td>0.0</td>\n",
       "      <td>2.0</td>\n",
       "      <td>...</td>\n",
       "      <td>1.0</td>\n",
       "      <td>1.0</td>\n",
       "      <td>0.0</td>\n",
       "      <td>0.0</td>\n",
       "      <td>0.0</td>\n",
       "      <td>0.0</td>\n",
       "      <td>1.0</td>\n",
       "      <td>0.0</td>\n",
       "      <td>-20.0</td>\n",
       "      <td>20201011LAL</td>\n",
       "    </tr>\n",
       "    <tr>\n",
       "      <th>27738</th>\n",
       "      <td>Solomon Hill</td>\n",
       "      <td>Miami Heat</td>\n",
       "      <td>Los Angeles Lakers</td>\n",
       "      <td>2020-10-11</td>\n",
       "      <td>1</td>\n",
       "      <td>2.29</td>\n",
       "      <td>2.0</td>\n",
       "      <td>2.0</td>\n",
       "      <td>1.0</td>\n",
       "      <td>1.0</td>\n",
       "      <td>...</td>\n",
       "      <td>0.0</td>\n",
       "      <td>0.0</td>\n",
       "      <td>1.0</td>\n",
       "      <td>1.0</td>\n",
       "      <td>0.0</td>\n",
       "      <td>0.0</td>\n",
       "      <td>0.0</td>\n",
       "      <td>5.0</td>\n",
       "      <td>7.0</td>\n",
       "      <td>20201011LAL</td>\n",
       "    </tr>\n",
       "    <tr>\n",
       "      <th>27739</th>\n",
       "      <td>Derrick Jones</td>\n",
       "      <td>Miami Heat</td>\n",
       "      <td>Los Angeles Lakers</td>\n",
       "      <td>2020-10-11</td>\n",
       "      <td>1</td>\n",
       "      <td>1.27</td>\n",
       "      <td>0.0</td>\n",
       "      <td>0.0</td>\n",
       "      <td>0.0</td>\n",
       "      <td>0.0</td>\n",
       "      <td>...</td>\n",
       "      <td>0.0</td>\n",
       "      <td>0.0</td>\n",
       "      <td>0.0</td>\n",
       "      <td>0.0</td>\n",
       "      <td>0.0</td>\n",
       "      <td>0.0</td>\n",
       "      <td>0.0</td>\n",
       "      <td>0.0</td>\n",
       "      <td>4.0</td>\n",
       "      <td>20201011LAL</td>\n",
       "    </tr>\n",
       "  </tbody>\n",
       "</table>\n",
       "<p>311326 rows × 23 columns</p>\n",
       "</div>"
      ],
      "text/plain": [
       "                   Player                 Team             Against       Date  \\\n",
       "0            LeBron James  Cleveland Cavaliers      Boston Celtics 2008-10-28   \n",
       "1            Delonte West  Cleveland Cavaliers      Boston Celtics 2008-10-28   \n",
       "2             Mo Williams  Cleveland Cavaliers      Boston Celtics 2008-10-28   \n",
       "3      Zydrunas Ilgauskas  Cleveland Cavaliers      Boston Celtics 2008-10-28   \n",
       "4             Ben Wallace  Cleveland Cavaliers      Boston Celtics 2008-10-28   \n",
       "...                   ...                  ...                 ...        ...   \n",
       "27735        Kelly Olynyk           Miami Heat  Los Angeles Lakers 2020-10-11   \n",
       "27736       Kendrick Nunn           Miami Heat  Los Angeles Lakers 2020-10-11   \n",
       "27737      Andre Iguodala           Miami Heat  Los Angeles Lakers 2020-10-11   \n",
       "27738        Solomon Hill           Miami Heat  Los Angeles Lakers 2020-10-11   \n",
       "27739       Derrick Jones           Miami Heat  Los Angeles Lakers 2020-10-11   \n",
       "\n",
       "       Home     MP   FG   FGA   3P  3PA  ...  DRB  TRB  AST  STL  BLK  TOV  \\\n",
       "0         0  36.00  9.0  21.0  0.0  4.0  ...  6.0  7.0  6.0  2.0  1.0  3.0   \n",
       "1         0  35.29  2.0   4.0  0.0  1.0  ...  2.0  2.0  2.0  0.0  0.0  1.0   \n",
       "2         0  31.18  4.0  10.0  3.0  5.0  ...  3.0  3.0  2.0  1.0  0.0  4.0   \n",
       "3         0  30.24  3.0   5.0  0.0  0.0  ...  5.0  8.0  1.0  0.0  0.0  4.0   \n",
       "4         0  19.03  1.0   1.0  0.0  0.0  ...  4.0  4.0  0.0  0.0  1.0  1.0   \n",
       "...     ...    ...  ...   ...  ...  ...  ...  ...  ...  ...  ...  ...  ...   \n",
       "27735     1  14.52  4.0   7.0  1.0  1.0  ...  4.0  7.0  0.0  0.0  1.0  0.0   \n",
       "27736     1  12.45  3.0   8.0  2.0  4.0  ...  3.0  3.0  1.0  0.0  0.0  2.0   \n",
       "27737     1  10.33  0.0   2.0  0.0  2.0  ...  1.0  1.0  0.0  0.0  0.0  0.0   \n",
       "27738     1   2.29  2.0   2.0  1.0  1.0  ...  0.0  0.0  1.0  1.0  0.0  0.0   \n",
       "27739     1   1.27  0.0   0.0  0.0  0.0  ...  0.0  0.0  0.0  0.0  0.0  0.0   \n",
       "\n",
       "        PF   PTS   +/-       gameID  \n",
       "0      4.0  22.0  -3.0  20081028BOS  \n",
       "1      0.0   6.0 -10.0  20081028BOS  \n",
       "2      5.0  12.0   3.0  20081028BOS  \n",
       "3      3.0  15.0   7.0  20081028BOS  \n",
       "4      2.0   2.0  -1.0  20081028BOS  \n",
       "...    ...   ...   ...          ...  \n",
       "27735  1.0   9.0  19.0  20201011LAL  \n",
       "27736  0.0   8.0 -13.0  20201011LAL  \n",
       "27737  1.0   0.0 -20.0  20201011LAL  \n",
       "27738  0.0   5.0   7.0  20201011LAL  \n",
       "27739  0.0   0.0   4.0  20201011LAL  \n",
       "\n",
       "[311326 rows x 23 columns]"
      ]
     },
     "execution_count": 20,
     "metadata": {},
     "output_type": "execute_result"
    }
   ],
   "source": [
    "player_stats.drop(columns = ['homeAbbr'])"
   ]
  },
  {
   "cell_type": "code",
   "execution_count": 21,
   "id": "e899a116",
   "metadata": {},
   "outputs": [],
   "source": [
    "clean_player_stats = player_stats"
   ]
  },
  {
   "cell_type": "code",
   "execution_count": 22,
   "id": "aab98151",
   "metadata": {
    "scrolled": false
   },
   "outputs": [
    {
     "data": {
      "text/plain": [
       "(311326, 24)"
      ]
     },
     "execution_count": 22,
     "metadata": {},
     "output_type": "execute_result"
    }
   ],
   "source": [
    "clean_player_stats.shape"
   ]
  },
  {
   "cell_type": "markdown",
   "id": "82b9a9d9",
   "metadata": {},
   "source": [
    "# 1.3 Cleaning team_stats"
   ]
  },
  {
   "cell_type": "code",
   "execution_count": 23,
   "id": "52fbf9e5",
   "metadata": {
    "scrolled": true
   },
   "outputs": [
    {
     "data": {
      "text/plain": [
       "['gmDate',\n",
       " 'seasonType',\n",
       " 'season',\n",
       " 'teamWins',\n",
       " 'teamLosses',\n",
       " 'teamAbbr',\n",
       " 'teamLoc',\n",
       " 'teamRslt',\n",
       " 'teamDayOff',\n",
       " 'teamPTS',\n",
       " 'teamAST',\n",
       " 'teamTO',\n",
       " 'teamMin',\n",
       " 'teamSTL',\n",
       " 'teamBLK',\n",
       " 'teamPF',\n",
       " 'teamFGA',\n",
       " 'teamFGM',\n",
       " 'teamFG%',\n",
       " 'team2PA',\n",
       " 'team2PM',\n",
       " 'team2P%',\n",
       " 'team3PA',\n",
       " 'team3PM',\n",
       " 'team3P%',\n",
       " 'teamFTA',\n",
       " 'teamFTM',\n",
       " 'teamFT%',\n",
       " 'teamORB',\n",
       " 'teamDRB',\n",
       " 'teamTRB',\n",
       " 'teamPTS1',\n",
       " 'teamPTS2',\n",
       " 'teamPTS3',\n",
       " 'teamPTS4',\n",
       " 'teamPTS5',\n",
       " 'teamPTS6',\n",
       " 'teamPTS7',\n",
       " 'teamPTS8',\n",
       " 'teamPTS9',\n",
       " 'teamPTS10',\n",
       " 'teamTREB%',\n",
       " 'teamASST%',\n",
       " 'teamTS%',\n",
       " 'teamEFG%',\n",
       " 'teamOREB%',\n",
       " 'teamDREB%',\n",
       " 'teamTO%',\n",
       " 'teamSTL%',\n",
       " 'teamBLK%',\n",
       " 'teamBLKR',\n",
       " 'teamPPS',\n",
       " 'teamFIC',\n",
       " 'teamFIC40',\n",
       " 'teamOrtg',\n",
       " 'teamDrtg',\n",
       " 'teamEDiff',\n",
       " 'teamPlay%',\n",
       " 'teamAR',\n",
       " 'teamPoss',\n",
       " 'teamAST/TO',\n",
       " 'teamPace',\n",
       " 'teamSTL/TO',\n",
       " 'opptWins',\n",
       " 'opptLosses',\n",
       " 'opptAbbr',\n",
       " 'opptLoc',\n",
       " 'opptRslt',\n",
       " 'opptDayOff',\n",
       " 'opptPTS',\n",
       " 'opptAST',\n",
       " 'opptTO',\n",
       " 'opptMin',\n",
       " 'opptSTL',\n",
       " 'opptBLK',\n",
       " 'opptPF',\n",
       " 'opptFGA',\n",
       " 'opptFGM',\n",
       " 'opptFG%',\n",
       " 'oppt2PA',\n",
       " 'oppt2PM',\n",
       " 'oppt2P%',\n",
       " 'oppt3PA',\n",
       " 'oppt3PM',\n",
       " 'oppt3P%',\n",
       " 'opptFTA',\n",
       " 'opptFTM',\n",
       " 'opptFT%',\n",
       " 'opptORB',\n",
       " 'opptDRB',\n",
       " 'opptTRB',\n",
       " 'opptPTS1',\n",
       " 'opptPTS2',\n",
       " 'opptPTS3',\n",
       " 'opptPTS4',\n",
       " 'opptPTS5',\n",
       " 'opptPTS6',\n",
       " 'opptPTS7',\n",
       " 'opptPTS8',\n",
       " 'opptPTS9',\n",
       " 'opptPTS10',\n",
       " 'opptTREB%',\n",
       " 'opptASST%',\n",
       " 'opptTS%',\n",
       " 'opptEFG%',\n",
       " 'opptOREB%',\n",
       " 'opptDREB%',\n",
       " 'opptTO%',\n",
       " 'opptSTL%',\n",
       " 'opptBLK%',\n",
       " 'opptBLKR',\n",
       " 'opptPPS',\n",
       " 'opptFIC',\n",
       " 'opptFIC40',\n",
       " 'opptOrtg',\n",
       " 'opptDrtg',\n",
       " 'opptEDiff',\n",
       " 'opptPlay%',\n",
       " 'opptAR',\n",
       " 'opptAST/TO',\n",
       " 'opptSTL/TO',\n",
       " 'opptPoss',\n",
       " 'opptPace',\n",
       " 'matchWinner']"
      ]
     },
     "execution_count": 23,
     "metadata": {},
     "output_type": "execute_result"
    }
   ],
   "source": [
    "team_stats.columns.tolist()"
   ]
  },
  {
   "cell_type": "code",
   "execution_count": 24,
   "id": "38a955ab",
   "metadata": {},
   "outputs": [],
   "source": [
    "#Our analysis will focus on regular season for the recreating portion of our anaylysis. \n",
    "team_stats['seasonType'].unique()\n",
    "\n",
    "#We will separate the data into regular season and playoffs.\n",
    "\n",
    "team_stats = team_stats[team_stats['seasonType']=='Regular']"
   ]
  },
  {
   "cell_type": "code",
   "execution_count": 25,
   "id": "5c01587a",
   "metadata": {
    "scrolled": true
   },
   "outputs": [
    {
     "data": {
      "text/plain": [
       "array(['Regular'], dtype=object)"
      ]
     },
     "execution_count": 25,
     "metadata": {},
     "output_type": "execute_result"
    }
   ],
   "source": [
    "team_stats['seasonType'].unique()"
   ]
  },
  {
   "cell_type": "code",
   "execution_count": 26,
   "id": "d983607f",
   "metadata": {
    "scrolled": true
   },
   "outputs": [
    {
     "data": {
      "text/html": [
       "<div>\n",
       "<style scoped>\n",
       "    .dataframe tbody tr th:only-of-type {\n",
       "        vertical-align: middle;\n",
       "    }\n",
       "\n",
       "    .dataframe tbody tr th {\n",
       "        vertical-align: top;\n",
       "    }\n",
       "\n",
       "    .dataframe thead th {\n",
       "        text-align: right;\n",
       "    }\n",
       "</style>\n",
       "<table border=\"1\" class=\"dataframe\">\n",
       "  <thead>\n",
       "    <tr style=\"text-align: right;\">\n",
       "      <th></th>\n",
       "      <th>teamAbbr</th>\n",
       "      <th>teamLoc</th>\n",
       "      <th>opptAbbr</th>\n",
       "      <th>opptLoc</th>\n",
       "    </tr>\n",
       "  </thead>\n",
       "  <tbody>\n",
       "    <tr>\n",
       "      <th>3</th>\n",
       "      <td>TOR</td>\n",
       "      <td>Away</td>\n",
       "      <td>PHI</td>\n",
       "      <td>Home</td>\n",
       "    </tr>\n",
       "    <tr>\n",
       "      <th>4</th>\n",
       "      <td>NJN</td>\n",
       "      <td>Away</td>\n",
       "      <td>WAS</td>\n",
       "      <td>Home</td>\n",
       "    </tr>\n",
       "    <tr>\n",
       "      <th>5</th>\n",
       "      <td>ATL</td>\n",
       "      <td>Away</td>\n",
       "      <td>ORL</td>\n",
       "      <td>Home</td>\n",
       "    </tr>\n",
       "    <tr>\n",
       "      <th>6</th>\n",
       "      <td>MIA</td>\n",
       "      <td>Away</td>\n",
       "      <td>NYK</td>\n",
       "      <td>Home</td>\n",
       "    </tr>\n",
       "    <tr>\n",
       "      <th>7</th>\n",
       "      <td>PHO</td>\n",
       "      <td>Away</td>\n",
       "      <td>SAS</td>\n",
       "      <td>Home</td>\n",
       "    </tr>\n",
       "    <tr>\n",
       "      <th>8</th>\n",
       "      <td>MIL</td>\n",
       "      <td>Away</td>\n",
       "      <td>OKC</td>\n",
       "      <td>Home</td>\n",
       "    </tr>\n",
       "    <tr>\n",
       "      <th>9</th>\n",
       "      <td>SAC</td>\n",
       "      <td>Away</td>\n",
       "      <td>MIN</td>\n",
       "      <td>Home</td>\n",
       "    </tr>\n",
       "    <tr>\n",
       "      <th>10</th>\n",
       "      <td>IND</td>\n",
       "      <td>Away</td>\n",
       "      <td>DET</td>\n",
       "      <td>Home</td>\n",
       "    </tr>\n",
       "    <tr>\n",
       "      <th>11</th>\n",
       "      <td>MEM</td>\n",
       "      <td>Away</td>\n",
       "      <td>HOU</td>\n",
       "      <td>Home</td>\n",
       "    </tr>\n",
       "    <tr>\n",
       "      <th>12</th>\n",
       "      <td>DEN</td>\n",
       "      <td>Away</td>\n",
       "      <td>UTA</td>\n",
       "      <td>Home</td>\n",
       "    </tr>\n",
       "    <tr>\n",
       "      <th>13</th>\n",
       "      <td>LAL</td>\n",
       "      <td>Away</td>\n",
       "      <td>LAC</td>\n",
       "      <td>Home</td>\n",
       "    </tr>\n",
       "    <tr>\n",
       "      <th>14</th>\n",
       "      <td>NOH</td>\n",
       "      <td>Away</td>\n",
       "      <td>GSW</td>\n",
       "      <td>Home</td>\n",
       "    </tr>\n",
       "  </tbody>\n",
       "</table>\n",
       "</div>"
      ],
      "text/plain": [
       "   teamAbbr teamLoc opptAbbr opptLoc\n",
       "3       TOR    Away      PHI    Home\n",
       "4       NJN    Away      WAS    Home\n",
       "5       ATL    Away      ORL    Home\n",
       "6       MIA    Away      NYK    Home\n",
       "7       PHO    Away      SAS    Home\n",
       "8       MIL    Away      OKC    Home\n",
       "9       SAC    Away      MIN    Home\n",
       "10      IND    Away      DET    Home\n",
       "11      MEM    Away      HOU    Home\n",
       "12      DEN    Away      UTA    Home\n",
       "13      LAL    Away      LAC    Home\n",
       "14      NOH    Away      GSW    Home"
      ]
     },
     "execution_count": 26,
     "metadata": {},
     "output_type": "execute_result"
    }
   ],
   "source": [
    "#The games stats are recorded as team vs. opponent with another column indicating whether this is a home game or an away game. \n",
    "#This format leaves me to suspect there is double data of the same game. Let's investigate. \n",
    "\n",
    "team_stats['gmDate'] = pd.to_datetime(team_stats['gmDate'])\n",
    "team_stats[['teamAbbr', 'teamLoc', 'opptAbbr', 'opptLoc']][team_stats['gmDate'] == datetime(2008,10,29)]\n",
    "\n",
    "#Seems our suspicion was wrong and away_games=team as home_games=opp. We will keep this in mind during feature engineering. "
   ]
  },
  {
   "cell_type": "code",
   "execution_count": 27,
   "id": "c8052328",
   "metadata": {
    "scrolled": true
   },
   "outputs": [
    {
     "name": "stdout",
     "output_type": "stream",
     "text": [
      "<class 'pandas.core.frame.DataFrame'>\n",
      "Int64Index: 14349 entries, 0 to 1064\n",
      "Columns: 124 entries, gmDate to matchWinner\n",
      "dtypes: datetime64[ns](1), float64(110), int64(4), object(9)\n",
      "memory usage: 13.7+ MB\n"
     ]
    }
   ],
   "source": [
    "team_stats['gmDate'] = pd.to_datetime(team_stats['gmDate'])\n",
    "team_stats.info()"
   ]
  },
  {
   "cell_type": "code",
   "execution_count": 28,
   "id": "a052345d",
   "metadata": {
    "scrolled": true
   },
   "outputs": [
    {
     "data": {
      "text/plain": [
       "0    20081028\n",
       "1    20081028\n",
       "2    20081028\n",
       "3    20081029\n",
       "4    20081029\n",
       "Name: gmDate, dtype: object"
      ]
     },
     "execution_count": 28,
     "metadata": {},
     "output_type": "execute_result"
    }
   ],
   "source": [
    "dateString =  team_stats['gmDate'].dt.strftime('%Y%m%d')\n",
    "dateString.head()"
   ]
  },
  {
   "cell_type": "code",
   "execution_count": 29,
   "id": "c8ee9fc1",
   "metadata": {},
   "outputs": [
    {
     "data": {
      "text/plain": [
       "0    20081028BOS\n",
       "1    20081028CHI\n",
       "2    20081028LAL\n",
       "3    20081029PHI\n",
       "4    20081029WAS\n",
       "Name: GameID, dtype: object"
      ]
     },
     "execution_count": 29,
     "metadata": {},
     "output_type": "execute_result"
    }
   ],
   "source": [
    "team_stats['GameID'] = dateString + team_stats['opptAbbr']\n",
    "team_stats['GameID'].head()"
   ]
  },
  {
   "cell_type": "code",
   "execution_count": 30,
   "id": "12b76e46",
   "metadata": {
    "scrolled": true
   },
   "outputs": [
    {
     "data": {
      "text/html": [
       "<div>\n",
       "<style scoped>\n",
       "    .dataframe tbody tr th:only-of-type {\n",
       "        vertical-align: middle;\n",
       "    }\n",
       "\n",
       "    .dataframe tbody tr th {\n",
       "        vertical-align: top;\n",
       "    }\n",
       "\n",
       "    .dataframe thead th {\n",
       "        text-align: right;\n",
       "    }\n",
       "</style>\n",
       "<table border=\"1\" class=\"dataframe\">\n",
       "  <thead>\n",
       "    <tr style=\"text-align: right;\">\n",
       "      <th></th>\n",
       "      <th>GameID</th>\n",
       "      <th>teamAbbr</th>\n",
       "      <th>teamLoc</th>\n",
       "      <th>opptAbbr</th>\n",
       "      <th>opptLoc</th>\n",
       "    </tr>\n",
       "  </thead>\n",
       "  <tbody>\n",
       "    <tr>\n",
       "      <th>17</th>\n",
       "      <td>20151029IND</td>\n",
       "      <td>MEM</td>\n",
       "      <td>Away</td>\n",
       "      <td>IND</td>\n",
       "      <td>Home</td>\n",
       "    </tr>\n",
       "    <tr>\n",
       "      <th>18</th>\n",
       "      <td>20151029NYK</td>\n",
       "      <td>ATL</td>\n",
       "      <td>Away</td>\n",
       "      <td>NYK</td>\n",
       "      <td>Home</td>\n",
       "    </tr>\n",
       "    <tr>\n",
       "      <th>19</th>\n",
       "      <td>20151029LAC</td>\n",
       "      <td>DAL</td>\n",
       "      <td>Away</td>\n",
       "      <td>LAC</td>\n",
       "      <td>Home</td>\n",
       "    </tr>\n",
       "  </tbody>\n",
       "</table>\n",
       "</div>"
      ],
      "text/plain": [
       "         GameID teamAbbr teamLoc opptAbbr opptLoc\n",
       "17  20151029IND      MEM    Away      IND    Home\n",
       "18  20151029NYK      ATL    Away      NYK    Home\n",
       "19  20151029LAC      DAL    Away      LAC    Home"
      ]
     },
     "execution_count": 30,
     "metadata": {},
     "output_type": "execute_result"
    }
   ],
   "source": [
    "team_stats[['GameID','teamAbbr', 'teamLoc', 'opptAbbr', 'opptLoc']][team_stats['gmDate'] == datetime(2015,10,29)]"
   ]
  },
  {
   "cell_type": "code",
   "execution_count": 31,
   "id": "68bf4e64",
   "metadata": {},
   "outputs": [],
   "source": [
    "#Renaming Columns\n",
    "\n",
    "team_stats.rename(columns = {'gmDate' : 'Date', 'teamAbbr' : 'team', 'opptAbbr' : 'opponent' ,'teamFGM': 'teamFGMade', 'team2PM' : 'team2PMade' , 'team3PM' : 'team3PMade', 'teamFTM' : 'teamFTMade',   'opptFGM': 'opptFGMade', 'oppt2PM': 'oppt2PMade', 'oppt3PM' : 'oppt3PMade', 'opptFTM' : 'opptFTMade'}, inplace = True)"
   ]
  },
  {
   "cell_type": "code",
   "execution_count": 32,
   "id": "9acdb56a",
   "metadata": {},
   "outputs": [],
   "source": [
    "#Removing percentage columns and \n",
    "\n",
    "team_stats.drop(columns = ['seasonType', 'teamLoc', 'team2P%', 'team3P%', 'teamFT%', 'teamTREB%', 'teamASST%', 'teamTS%', 'teamEFG%', 'teamOREB%', 'teamDREB%', 'teamTO%', 'teamSTL%', 'teamBLK%', 'teamBLKR', 'teamPPS', 'teamFIC', 'teamFIC40' , 'teamPlay%', 'teamAR', 'teamPoss', 'teamPace', 'teamSTL/TO', 'opptLoc', 'oppt2P%', 'oppt3P%', 'opptFT%', 'opptTREB%', 'opptASST%', 'opptTS%', 'opptEFG%', 'opptOREB%', 'opptDREB%', 'opptTO%', 'opptSTL%', 'opptBLK%', 'opptBLKR', 'opptPPS', 'opptFIC', 'opptFIC40', 'opptPlay%', 'opptAR', 'opptSTL/TO', 'opptPoss', 'opptPace'], inplace = True)"
   ]
  },
  {
   "cell_type": "code",
   "execution_count": 33,
   "id": "07d98c5c",
   "metadata": {},
   "outputs": [],
   "source": [
    "#Creating Missed Columns\n",
    "\n",
    "team_stats['teamFGMissed'] = team_stats['teamFGA'] - team_stats['teamFGMade']\n",
    "team_stats['team2PMissed'] = team_stats['team2PA'] - team_stats['team2PMade'] \n",
    "team_stats['team3PMissed'] = team_stats['team3PA'] - team_stats['team3PMade']\n",
    "team_stats['opptFGMissed'] = team_stats['opptFGA'] - team_stats['opptFGMade']\n",
    "team_stats['oppt2PMissed'] = team_stats['oppt2PA'] - team_stats['oppt2PMade']\n",
    "team_stats['oppt3PMissed'] = team_stats['oppt3PA'] - team_stats['oppt3PMade']"
   ]
  },
  {
   "cell_type": "code",
   "execution_count": 34,
   "id": "53349406",
   "metadata": {
    "scrolled": true
   },
   "outputs": [
    {
     "data": {
      "text/html": [
       "<div>\n",
       "<style scoped>\n",
       "    .dataframe tbody tr th:only-of-type {\n",
       "        vertical-align: middle;\n",
       "    }\n",
       "\n",
       "    .dataframe tbody tr th {\n",
       "        vertical-align: top;\n",
       "    }\n",
       "\n",
       "    .dataframe thead th {\n",
       "        text-align: right;\n",
       "    }\n",
       "</style>\n",
       "<table border=\"1\" class=\"dataframe\">\n",
       "  <thead>\n",
       "    <tr style=\"text-align: right;\">\n",
       "      <th></th>\n",
       "      <th>Date</th>\n",
       "      <th>season</th>\n",
       "      <th>teamWins</th>\n",
       "      <th>teamLosses</th>\n",
       "      <th>team</th>\n",
       "      <th>teamRslt</th>\n",
       "      <th>teamDayOff</th>\n",
       "      <th>teamPTS</th>\n",
       "      <th>teamAST</th>\n",
       "      <th>teamTO</th>\n",
       "      <th>...</th>\n",
       "      <th>opptEDiff</th>\n",
       "      <th>opptAST/TO</th>\n",
       "      <th>matchWinner</th>\n",
       "      <th>GameID</th>\n",
       "      <th>teamFGMissed</th>\n",
       "      <th>team2PMissed</th>\n",
       "      <th>team3PMissed</th>\n",
       "      <th>opptFGMissed</th>\n",
       "      <th>oppt2PMissed</th>\n",
       "      <th>oppt3PMissed</th>\n",
       "    </tr>\n",
       "  </thead>\n",
       "  <tbody>\n",
       "    <tr>\n",
       "      <th>0</th>\n",
       "      <td>2008-10-28</td>\n",
       "      <td>2008-09</td>\n",
       "      <td>0</td>\n",
       "      <td>1</td>\n",
       "      <td>CLE</td>\n",
       "      <td>Loss</td>\n",
       "      <td>0.0</td>\n",
       "      <td>85.0</td>\n",
       "      <td>16.0</td>\n",
       "      <td>21.0</td>\n",
       "      <td>...</td>\n",
       "      <td>5.4</td>\n",
       "      <td>1.00</td>\n",
       "      <td>BOS</td>\n",
       "      <td>20081028BOS</td>\n",
       "      <td>39.0</td>\n",
       "      <td>27.0</td>\n",
       "      <td>12.0</td>\n",
       "      <td>41.0</td>\n",
       "      <td>30.0</td>\n",
       "      <td>11.0</td>\n",
       "    </tr>\n",
       "    <tr>\n",
       "      <th>1</th>\n",
       "      <td>2008-10-28</td>\n",
       "      <td>2008-09</td>\n",
       "      <td>0</td>\n",
       "      <td>1</td>\n",
       "      <td>MIL</td>\n",
       "      <td>Loss</td>\n",
       "      <td>0.0</td>\n",
       "      <td>95.0</td>\n",
       "      <td>21.0</td>\n",
       "      <td>19.0</td>\n",
       "      <td>...</td>\n",
       "      <td>14.5</td>\n",
       "      <td>1.50</td>\n",
       "      <td>CHI</td>\n",
       "      <td>20081028CHI</td>\n",
       "      <td>41.0</td>\n",
       "      <td>33.0</td>\n",
       "      <td>8.0</td>\n",
       "      <td>34.0</td>\n",
       "      <td>27.0</td>\n",
       "      <td>7.0</td>\n",
       "    </tr>\n",
       "    <tr>\n",
       "      <th>2</th>\n",
       "      <td>2008-10-28</td>\n",
       "      <td>2008-09</td>\n",
       "      <td>0</td>\n",
       "      <td>1</td>\n",
       "      <td>POR</td>\n",
       "      <td>Loss</td>\n",
       "      <td>0.0</td>\n",
       "      <td>76.0</td>\n",
       "      <td>19.0</td>\n",
       "      <td>12.0</td>\n",
       "      <td>...</td>\n",
       "      <td>22.4</td>\n",
       "      <td>1.27</td>\n",
       "      <td>LAL</td>\n",
       "      <td>20081028LAL</td>\n",
       "      <td>55.0</td>\n",
       "      <td>41.0</td>\n",
       "      <td>14.0</td>\n",
       "      <td>42.0</td>\n",
       "      <td>39.0</td>\n",
       "      <td>3.0</td>\n",
       "    </tr>\n",
       "    <tr>\n",
       "      <th>3</th>\n",
       "      <td>2008-10-29</td>\n",
       "      <td>2008-09</td>\n",
       "      <td>1</td>\n",
       "      <td>0</td>\n",
       "      <td>TOR</td>\n",
       "      <td>Win</td>\n",
       "      <td>0.0</td>\n",
       "      <td>95.0</td>\n",
       "      <td>24.0</td>\n",
       "      <td>9.0</td>\n",
       "      <td>...</td>\n",
       "      <td>-13.0</td>\n",
       "      <td>0.88</td>\n",
       "      <td>TOR</td>\n",
       "      <td>20081029PHI</td>\n",
       "      <td>45.0</td>\n",
       "      <td>39.0</td>\n",
       "      <td>6.0</td>\n",
       "      <td>55.0</td>\n",
       "      <td>40.0</td>\n",
       "      <td>15.0</td>\n",
       "    </tr>\n",
       "    <tr>\n",
       "      <th>4</th>\n",
       "      <td>2008-10-29</td>\n",
       "      <td>2008-09</td>\n",
       "      <td>1</td>\n",
       "      <td>0</td>\n",
       "      <td>NJN</td>\n",
       "      <td>Win</td>\n",
       "      <td>0.0</td>\n",
       "      <td>95.0</td>\n",
       "      <td>22.0</td>\n",
       "      <td>9.0</td>\n",
       "      <td>...</td>\n",
       "      <td>-11.1</td>\n",
       "      <td>1.20</td>\n",
       "      <td>NJN</td>\n",
       "      <td>20081029WAS</td>\n",
       "      <td>41.0</td>\n",
       "      <td>28.0</td>\n",
       "      <td>13.0</td>\n",
       "      <td>51.0</td>\n",
       "      <td>35.0</td>\n",
       "      <td>16.0</td>\n",
       "    </tr>\n",
       "  </tbody>\n",
       "</table>\n",
       "<p>5 rows × 86 columns</p>\n",
       "</div>"
      ],
      "text/plain": [
       "        Date   season  teamWins  teamLosses team teamRslt  teamDayOff  \\\n",
       "0 2008-10-28  2008-09         0           1  CLE     Loss         0.0   \n",
       "1 2008-10-28  2008-09         0           1  MIL     Loss         0.0   \n",
       "2 2008-10-28  2008-09         0           1  POR     Loss         0.0   \n",
       "3 2008-10-29  2008-09         1           0  TOR      Win         0.0   \n",
       "4 2008-10-29  2008-09         1           0  NJN      Win         0.0   \n",
       "\n",
       "   teamPTS  teamAST  teamTO  ...  opptEDiff  opptAST/TO  matchWinner  \\\n",
       "0     85.0     16.0    21.0  ...        5.4        1.00          BOS   \n",
       "1     95.0     21.0    19.0  ...       14.5        1.50          CHI   \n",
       "2     76.0     19.0    12.0  ...       22.4        1.27          LAL   \n",
       "3     95.0     24.0     9.0  ...      -13.0        0.88          TOR   \n",
       "4     95.0     22.0     9.0  ...      -11.1        1.20          NJN   \n",
       "\n",
       "        GameID  teamFGMissed  team2PMissed  team3PMissed  opptFGMissed  \\\n",
       "0  20081028BOS          39.0          27.0          12.0          41.0   \n",
       "1  20081028CHI          41.0          33.0           8.0          34.0   \n",
       "2  20081028LAL          55.0          41.0          14.0          42.0   \n",
       "3  20081029PHI          45.0          39.0           6.0          55.0   \n",
       "4  20081029WAS          41.0          28.0          13.0          51.0   \n",
       "\n",
       "   oppt2PMissed  oppt3PMissed  \n",
       "0          30.0          11.0  \n",
       "1          27.0           7.0  \n",
       "2          39.0           3.0  \n",
       "3          40.0          15.0  \n",
       "4          35.0          16.0  \n",
       "\n",
       "[5 rows x 86 columns]"
      ]
     },
     "execution_count": 34,
     "metadata": {},
     "output_type": "execute_result"
    }
   ],
   "source": [
    "team_stats.head()"
   ]
  },
  {
   "cell_type": "code",
   "execution_count": 35,
   "id": "26d580d6",
   "metadata": {},
   "outputs": [],
   "source": [
    "clean_team_stats = team_stats"
   ]
  },
  {
   "cell_type": "markdown",
   "id": "ae8fc0f6",
   "metadata": {},
   "source": [
    "# Section 2 Feature Engineering"
   ]
  },
  {
   "cell_type": "markdown",
   "id": "678d3f76",
   "metadata": {},
   "source": [
    "Our main goal is to predict winning and losing of games between teams. The stats teams and players accrue in games are not as helpful, therefore, we will engineer a few features that will provide more insight into win/loss predictions. The prior investigation utilized the following. \n",
    "\n",
    "1. Elo Ratings \n",
    "The Elo system is a calculate stat that keeps track of relative skill and quality of teams within the league. Everyteam starts with the same Elo rating at the beggining of a season, and will either add to or subtract value as they win/lose throughoput the season. \n",
    "\n",
    "2. Recent Team Performances \n",
    "We will keep track of the rolling averages for a teams performance over the last 10 games prior to the game we are predicting. This gives us a glimps of how the team is playing recently leading up to the predicted game. \n",
    "\n",
    "3. Recent Player Performances \n",
    "Keeping track of player performances can also tell us how well that player will play (suspicious of paisson model behaviour for players and their scoring in view of their seasonal stats) \n",
    "\n",
    "4. Player Performance In Season\n",
    "Likewise, how this player has performed up to their current game within the season can also gives us glimpse into how their performances are trending. "
   ]
  },
  {
   "cell_type": "markdown",
   "id": "59bab54f",
   "metadata": {},
   "source": [
    "# 2.2 Elo Ratings"
   ]
  },
  {
   "cell_type": "markdown",
   "id": "6b7fe4b4",
   "metadata": {},
   "source": [
    "Elo rating takes into account variables suc as difficult of schedule, home court advantage, margin of victory, and etc. These variables give more insight than simply utilizing team win record percentages. The formula below was concepted by [Nate Silver](https://fivethirtyeight.com/features/how-we-calculate-nba-elo-ratings/#:~:text=Here's%20the%20formula%3A%20Take%20the,and%20then%20divide%20by%2028.). \n",
    "\n",
    "All teams start off with a 1500 elo rating. After each game, the winner is award addition elo value and the loser has their elo value subtracted. The equation to calculate for Elo is shown below, where $R_{i}$ is the current Elo rating.\n",
    "\n",
    "$$ R_{i + 1} = k * (S_{team} - E_{team} + R_{i}) $$\n",
    "\n",
    "\n",
    "$S_{team} = 1 $ when the team wins, and 0 if the team loses. The $E_{team}$ value is expected win probability of the team which is further defined as \n",
    "\n",
    "$$ E_{team} = \\frac{1}{1+10^{\\frac{opp\\_elo - team\\_elo}{400}}}$$\n",
    "\n",
    "The $k$ in the the Elo equationis a moving constant depending on the margin of victory and difference in Elo ratings. The k constant is calculated as: \n",
    "\n",
    "$$ k = 20 \\frac{(MOV_{winner} + 3)^{0.8}}{7.5 + 0.006(elo\\_difference_{winner})} $$\n",
    "\n",
    "Elo ratings carry over from season to season, as teams who were good previous season, usually do not have significant drop offs from previous seasons. If $R$ is a teams final Elo rating for a season, than below is the Elo rating to being their next season. \n",
    "\n",
    "$$ (R * 0.75) + (0.25 * 0501)$$"
   ]
  },
  {
   "cell_type": "markdown",
   "id": "4f9230b3",
   "metadata": {},
   "source": [
    "## Def Elo Variable Functions"
   ]
  },
  {
   "cell_type": "markdown",
   "id": "ddb99952",
   "metadata": {},
   "source": [
    "Function for win probabilty as per Nate Silver [Win Prob](https://fivethirtyeight.com/features/introducing-nfl-elo-ratings/)\n",
    "\n",
    "$$ Pr(Home) = \\frac{1}{10^{(-EloDiff/400)}+1}$$"
   ]
  },
  {
   "cell_type": "code",
   "execution_count": 36,
   "id": "e28b0990",
   "metadata": {},
   "outputs": [
    {
     "ename": "NameError",
     "evalue": "name 'home_score' is not defined",
     "output_type": "error",
     "traceback": [
      "\u001b[0;31m---------------------------------------\u001b[0m",
      "\u001b[0;31mNameError\u001b[0mTraceback (most recent call last)",
      "\u001b[0;32m<ipython-input-36-df49e984dabd>\u001b[0m in \u001b[0;36m<module>\u001b[0;34m\u001b[0m\n\u001b[1;32m     44\u001b[0m         \u001b[0maway_win\u001b[0m \u001b[0;34m=\u001b[0m \u001b[0;36m1\u001b[0m\u001b[0;34m\u001b[0m\u001b[0;34m\u001b[0m\u001b[0m\n\u001b[1;32m     45\u001b[0m \u001b[0;34m\u001b[0m\u001b[0m\n\u001b[0;32m---> 46\u001b[0;31m \u001b[0mk\u001b[0m \u001b[0;34m=\u001b[0m \u001b[0melo_k\u001b[0m\u001b[0;34m(\u001b[0m\u001b[0mhome_score\u001b[0m \u001b[0;34m-\u001b[0m \u001b[0maway_score\u001b[0m\u001b[0;34m,\u001b[0m \u001b[0mhome_elo\u001b[0m \u001b[0;34m-\u001b[0m \u001b[0maway_elo\u001b[0m\u001b[0;34m)\u001b[0m\u001b[0;34m\u001b[0m\u001b[0;34m\u001b[0m\u001b[0m\n\u001b[0m\u001b[1;32m     47\u001b[0m \u001b[0;34m\u001b[0m\u001b[0m\n\u001b[1;32m     48\u001b[0m \u001b[0mupdated_home_elo\u001b[0m \u001b[0;34m=\u001b[0m \u001b[0mhome_elo\u001b[0m \u001b[0;34m+\u001b[0m \u001b[0mk\u001b[0m \u001b[0;34m*\u001b[0m \u001b[0;34m(\u001b[0m\u001b[0mhome_win\u001b[0m \u001b[0;34m-\u001b[0m \u001b[0mhome_prob\u001b[0m\u001b[0;34m)\u001b[0m\u001b[0;34m\u001b[0m\u001b[0;34m\u001b[0m\u001b[0m\n",
      "\u001b[0;31mNameError\u001b[0m: name 'home_score' is not defined"
     ]
    }
   ],
   "source": [
    "#Define function to calculate Win Probability implied by Elo ratings and home court adjustments\n",
    "def win_probs(home_elo, away_elo, home_court_advantage) :\n",
    "    h = math.pow(10, home_elo/400)\n",
    "    r = math.pow(10, away_elo/400)\n",
    "    a = math.pow(10, home_court_advantage/400)\n",
    "    \n",
    "    denom = r + a*h\n",
    "    home_prob = a*h / denom\n",
    "    away_prob = r / denom\n",
    "    \n",
    "    return home_prob, away_prob\n",
    "\n",
    "#odds the home team will win based on elo ratings and home court advantage\n",
    "\n",
    "def home_odds_on(home_elo, away_elo, home_court_advantage) :\n",
    "    h = math.pow(10, home_elo/400)\n",
    "    r = math.pow(10, away_elo/400)\n",
    "    a = math.pow(10, home_court_advantage/400)\n",
    "    \n",
    "    return a*h/r\n",
    "\n",
    "#this function determines the constant used in the elo rating, based on margin of victory and difference in elo ratings\n",
    "def elo_k(MOV, elo_diff):\n",
    "    k = 20\n",
    "    if MOV>0:\n",
    "        multiplier=(MOV+3)**(0.8)/(7.5+0.006*(elo_diff))\n",
    "    else:\n",
    "        multiplier=(-MOV+3)**(0.8)/(7.5+0.006*(-elo_diff))\n",
    "    return k*multiplier\n",
    "\n",
    "#updates the home and away teams elo ratings after a game \n",
    "\n",
    "def update_elo(home_score, away_score, home_elo, away_elo, home_court_advantage) :\n",
    "    home_prob, away_prob = win_probs(home_elo, away_elo, home_court_advantage) \n",
    "    \n",
    "    if (home_score - away_score > 0) :\n",
    "        \n",
    "        home_win = 1 \n",
    "        away_win = 0 \n",
    "    \n",
    "    else :\n",
    "        \n",
    "        home_win = 0 \n",
    "        away_win = 1 \n",
    "\n",
    "k = elo_k(home_score - away_score, home_elo - away_elo)\n",
    "\n",
    "updated_home_elo = home_elo + k * (home_win - home_prob) \n",
    "updated_away_elo = away_elo + k * (away_win - away_prob)\n",
    "\n",
    "return updated_home_elo, updated_away_elo\n",
    "\n",
    "\n",
    "#takes into account prev season elo\n",
    "def get_prev_elo(team, date, season, team_stats, elo_df) :\n",
    "    prev_game = team_stats[team_stats['Date'] < game_date][(team_stats['H_Team'] == team) | (team_stats['A_Team'] == team)].sort_values(by = 'Date').tail(1).iloc[0] \n",
    "    \n",
    "    if team == prev_game['H_Team'] :\n",
    "        elo_rating = elo_df[elo_df['Game_ID'] == prev_game['Game_ID']]['H_Team_Elo_After'].values[0]\n",
    "        \n",
    "    else :\n",
    "        elo_rating = elo_df[elo_df['Game_ID'] == prev_game['Game_ID']]['A_Team_Elo_After'].values[0]\n",
    "\n",
    "if prev_game['Season'] != season :\n",
    "    return (0.75 * elo_rating) + (0.25 * 1505)\n",
    "else :\n",
    "    return elo_rating\n"
   ]
  },
  {
   "cell_type": "markdown",
   "id": "25748b29",
   "metadata": {},
   "source": [
    "## Calculating Elo Ratings"
   ]
  },
  {
   "cell_type": "code",
   "execution_count": null,
   "id": "857945a9",
   "metadata": {},
   "outputs": [],
   "source": [
    "team_stats.sort_values(by = 'Date', inplace = True)\n",
    "team_stats.reset_index(inplace=True, drop = True)\n",
    "\n",
    "elo_df = pd.DataFrame(columns=['Game_ID', 'H_Team', 'A_Team', 'H_Team_Elo_Before', 'A_Team_Elo_Before', 'H_Team_Elo_After', 'A_Team_Elo_After'])"
   ]
  },
  {
   "cell_type": "markdown",
   "id": "f59ee8c5",
   "metadata": {},
   "source": [
    "# Previously version work to be sorted..."
   ]
  },
  {
   "cell_type": "code",
   "execution_count": null,
   "id": "59e6b918",
   "metadata": {
    "scrolled": false
   },
   "outputs": [],
   "source": [
    "#website - \"https://www.kaggle.com/heeebsinc/nbaseasonstats201820\"\n",
    "#The above datasets are split into season from 2000 to 2020. We are only interested in 2008 - 2020.\n",
    "cs_player= pd.read_csv('/Users/Shawn/Documents/UNH_ML_SLF/MLassignments/UNH-Repo/DS_Guided_Capstone_2_Repo/virenv/player_stats/2008-2009.csv')"
   ]
  },
  {
   "cell_type": "code",
   "execution_count": null,
   "id": "830a2a55",
   "metadata": {},
   "outputs": [],
   "source": [
    "cs_player.info()"
   ]
  },
  {
   "cell_type": "code",
   "execution_count": null,
   "id": "ba02fe3c",
   "metadata": {
    "scrolled": false
   },
   "outputs": [],
   "source": [
    "cs_player.head()"
   ]
  },
  {
   "cell_type": "raw",
   "id": "8330a1ec",
   "metadata": {},
   "source": [
    "Reviewing dataset, we can see that there are certain fields that are either missing, named differently or calculated from other features when comparing the current dataset to the prior investigation dataset. \n",
    "\n",
    "(Features missing or different include GameID, BlkFGA, PFTkn, Season. Features that need to be calculated or identified include SST, PPP, Ast/TO, StlPos, FTm, FGm, 3FGm, 2FGm. Missing or different features; GameID, BlkFGA, PFTkn, Season.)\n",
    "\n",
    "At the moment, we are identifying how to clean the data. Ultimately the intent is the merge all datasets together, and clean the data in the process. A source of code  in the prior investigators section 2: Data Cleaning that is quite useful for stitching\n",
    "\n",
    "###\n",
    "start_year = 2008\n",
    "end_year = 2009\n",
    "\n",
    "team_stats_combined_df = pd.DataFrame()\n",
    "player_stats_combined_df = pd.DataFrame()\n",
    "\n",
    "for i in range(12) :\n",
    "  team_stats_file_path = '/content/drive/MyDrive/NBA_Data/Team_Stats_' + str(start_year) + \" - \" + str(end_year) + '.csv'\n",
    "  player_stats_file_path = '/content/drive/MyDrive/NBA_Data/Player_Stats_' + str(start_year) + \" - \" + str(end_year) + '.csv'\n",
    "\n",
    "  team_stats_combined_df = team_df.append(pd.read_csv(team_stats_file_path, index_col = 0))\n",
    "  player_stats_combined_df = player_df.append(pd.read_csv(player_stats_file_path, index_col = 0))\n",
    "\n",
    "  start_year = start_year + 1\n",
    "  end_year = end_year + 1\n",
    "  \n",
    "###"
   ]
  },
  {
   "cell_type": "code",
   "execution_count": null,
   "id": "a6dadbaa",
   "metadata": {
    "scrolled": true
   },
   "outputs": [],
   "source": [
    "print(cs_player['GameLink'])"
   ]
  },
  {
   "cell_type": "raw",
   "id": "87214de0",
   "metadata": {},
   "source": [
    "'GameLink' turns out to be strings with no interesting information. If the full link was available, possible use to create ID keys based on URL, however, that is not the case, and this column should be removed as it provides nothing of value. "
   ]
  },
  {
   "cell_type": "code",
   "execution_count": null,
   "id": "6b5c72ae",
   "metadata": {},
   "outputs": [],
   "source": [
    "#Code for removing columns for future reference. \n",
    "#cs_player = cs_player.drop(['GameLink'], axis=1)"
   ]
  },
  {
   "cell_type": "raw",
   "id": "0d10e597",
   "metadata": {},
   "source": [
    "'Season' is a column we can easily add. Since the datasets acquired are separated by season, we can append a column for season when we import the dataset if necessary for our modeling at this moment. "
   ]
  },
  {
   "cell_type": "raw",
   "id": "6d1793df",
   "metadata": {},
   "source": [
    "'BlkFGA' is blocked field goals attempts, and PFTkn, personal fouls taken, which are not a widely kept piece of data. This will be re-evaluated to see if is necessary for the model. "
   ]
  },
  {
   "cell_type": "raw",
   "id": "495337e9",
   "metadata": {},
   "source": [
    "Reviewing features that need to be calculated or identified SST, PPP, Ast/TO, StlPos, FTm, FGm, 3FGm, 2FGm. "
   ]
  },
  {
   "cell_type": "raw",
   "id": "7572dd17",
   "metadata": {},
   "source": [
    "'SST' was identified as the Sum Squares Total (SST or TSS) and will need to be reviewed whether or not it is necessary to our model."
   ]
  },
  {
   "cell_type": "raw",
   "id": "b64351ea",
   "metadata": {},
   "source": [
    "'PPP' was identified as points per possession. This feature actually will require further scraping of basketball advance stats. Similarly, 'stlPos' is steals per possession and also requires further scraping. "
   ]
  },
  {
   "cell_type": "raw",
   "id": "952c1400",
   "metadata": {},
   "source": [
    "'Ast/TO' is a calculated feature, assist \"over\" turnovers, and should be calculated per game entry."
   ]
  },
  {
   "cell_type": "raw",
   "id": "d09cb766",
   "metadata": {
    "scrolled": true
   },
   "source": [
    "ps_player[['PlayerName','2FGA','2FGM','2FGm']][:2]"
   ]
  },
  {
   "cell_type": "raw",
   "id": "20ef930c",
   "metadata": {},
   "source": [
    "From above, it's clearn the lower case 'm' represents the missed shots. This will be reviewed for relevancy, however it is not difficult to iterate through the dataset and create this column if necessary. "
   ]
  },
  {
   "cell_type": "raw",
   "id": "b837231e",
   "metadata": {},
   "source": [
    "Reviewing Other categories. "
   ]
  },
  {
   "cell_type": "raw",
   "id": "2049c9d3",
   "metadata": {
    "scrolled": true
   },
   "source": [
    "print(set(cs_player['Home']))"
   ]
  },
  {
   "cell_type": "raw",
   "id": "5993f859",
   "metadata": {},
   "source": [
    "As should be, the 'Home' category is binary. "
   ]
  },
  {
   "cell_type": "raw",
   "id": "9dbd523a",
   "metadata": {},
   "source": [
    "Although the dataset acquire gives us mostly what we need regarding player stats and game details compare to the prior sets, the current player_season_data dataframe only includes years starting 2013 - 2018. We are missing data from 2008 - 2013 and 2018-2020. Which would be necessary if we are to reproduce the prior models. "
   ]
  },
  {
   "cell_type": "code",
   "execution_count": null,
   "id": "8237c923",
   "metadata": {},
   "outputs": [],
   "source": [
    "#Question, when trying to add seasons to the dataset, it seems to immediately jump to 2019 instead of following\n",
    "#the start year as noted below.\n",
    "start_year = 2008\n",
    "end_year = 2009\n",
    "\n",
    "player_stats_combined_df = pd.DataFrame()\n",
    "\n",
    "for i in range(12) :\n",
    "  player_stats_file_path = '/Users/Shawn/Documents/UNH_ML_SLF/MLassignments/UNH-Repo/DS_Guided_Capstone_2_Repo/virenv/player_stats/' + str(start_year) + \"-\" + str(end_year) + '.csv'\n",
    "\n",
    "  player_stats_combined_df = player_stats_combined_df.append(pd.read_csv(player_stats_file_path))\n",
    "\n",
    "  start_year = start_year + 1\n",
    "  end_year = end_year + 1"
   ]
  },
  {
   "cell_type": "code",
   "execution_count": null,
   "id": "20ccce40",
   "metadata": {
    "scrolled": false
   },
   "outputs": [],
   "source": [
    "player_stats_combined_df.head()"
   ]
  },
  {
   "cell_type": "code",
   "execution_count": null,
   "id": "cea9fbbd",
   "metadata": {},
   "outputs": [],
   "source": [
    "#set(player_stats_combined_df['Season'])"
   ]
  },
  {
   "cell_type": "code",
   "execution_count": null,
   "id": "2aa0ce5b",
   "metadata": {
    "scrolled": false
   },
   "outputs": [],
   "source": [
    "player_stats_combined_df.info()"
   ]
  },
  {
   "cell_type": "code",
   "execution_count": null,
   "id": "b0523951",
   "metadata": {
    "scrolled": true
   },
   "outputs": [],
   "source": [
    "player_stats_combined_df.describe()"
   ]
  },
  {
   "cell_type": "code",
   "execution_count": null,
   "id": "7ef88ac1",
   "metadata": {
    "scrolled": true
   },
   "outputs": [],
   "source": [
    "player_stats_combined_df.isnull().sum()"
   ]
  },
  {
   "cell_type": "code",
   "execution_count": null,
   "id": "c013c6b4",
   "metadata": {
    "scrolled": true
   },
   "outputs": [],
   "source": [
    "player_stats_combined_df[player_stats_combined_df['3P%'].isnull()]"
   ]
  },
  {
   "cell_type": "raw",
   "id": "4f18d626",
   "metadata": {},
   "source": [
    "While evaluating the NA values, we see that we do have a good chunk of NaN data. But we shouldn't be quick to delete, as it is quite normal for players to record 0 stats on inefficient games. \n",
    "\n",
    "We should also differentiate between the NaN's of player who played 0 mins and was sitting on the bench versus players who did play minutes and the NaN actually represents 0 statistics. (By this logic, we shouldn't see many NaNs in our team_combine_stats later)"
   ]
  },
  {
   "cell_type": "code",
   "execution_count": null,
   "id": "93743e91",
   "metadata": {
    "scrolled": true
   },
   "outputs": [],
   "source": [
    "threeptking = player_stats_combined_df[['Player','Team', 'Against', 'Date', '3PA', 'PTS']][player_stats_combined_df['3P%']==1]\n",
    "threeptking[threeptking['3PA']>8]"
   ]
  },
  {
   "cell_type": "raw",
   "id": "b649076d",
   "metadata": {},
   "source": [
    "On March 21st, Ben Gordon was on fire from the three point line with a 9/9 performance. I dub he the Three Point King"
   ]
  },
  {
   "cell_type": "code",
   "execution_count": null,
   "id": "d087704c",
   "metadata": {
    "scrolled": true
   },
   "outputs": [],
   "source": [
    "print(player_stats_combined_df[['Player','Date','3PA','Against','3P%']][player_stats_combined_df['3PA']>8])"
   ]
  },
  {
   "cell_type": "raw",
   "id": "59ff4704",
   "metadata": {},
   "source": [
    "With the CSV appended together, we have Player data from 2008 to 2020. We are missing some columns, and have some columns we need to calculate and append. \n",
    "\n",
    "Columns we can calculate and append Ast/To "
   ]
  },
  {
   "cell_type": "code",
   "execution_count": null,
   "id": "8113aa41",
   "metadata": {},
   "outputs": [],
   "source": [
    "player_stats_combined_df['Ast/To'] = player_stats_combined_df['AST']/player_stats_combined_df['TOV']"
   ]
  },
  {
   "cell_type": "code",
   "execution_count": null,
   "id": "679332ed",
   "metadata": {},
   "outputs": [],
   "source": [
    "player_stats_combined_df = player_stats_combined_df.drop(['GameLink'], axis = 1)"
   ]
  },
  {
   "cell_type": "code",
   "execution_count": null,
   "id": "630965f4",
   "metadata": {},
   "outputs": [],
   "source": [
    "player_stats_combined_df['Date'] = pd.to_datetime(player_stats_combined_df['Date'])"
   ]
  },
  {
   "cell_type": "code",
   "execution_count": null,
   "id": "be6b0245",
   "metadata": {
    "scrolled": true
   },
   "outputs": [],
   "source": [
    "player_stats_combined_df['Date']"
   ]
  },
  {
   "cell_type": "raw",
   "id": "061c840c",
   "metadata": {},
   "source": [
    "Team Stats "
   ]
  },
  {
   "cell_type": "code",
   "execution_count": null,
   "id": "5f4e4645",
   "metadata": {},
   "outputs": [],
   "source": [
    "#Dataset acquired from kaggle: \n",
    "#website - \"https://www.kaggle.com/rafaelgreca/nba-games-box-score-since-1949\"\n",
    "\n",
    "cs_team = pd.read_csv('/Users/Shawn/Documents/UNH_ML_SLF/MLassignments/UNH-Repo/DS_Guided_Capstone_2_Repo/virenv/team_stats/2019-2020.csv')"
   ]
  },
  {
   "cell_type": "code",
   "execution_count": null,
   "id": "a58ef8ad",
   "metadata": {
    "scrolled": false
   },
   "outputs": [],
   "source": [
    "cs_team.info()"
   ]
  },
  {
   "cell_type": "code",
   "execution_count": null,
   "id": "f799e0b2",
   "metadata": {
    "scrolled": false
   },
   "outputs": [],
   "source": [
    "print(cs_team.columns.tolist())"
   ]
  },
  {
   "cell_type": "code",
   "execution_count": null,
   "id": "03398a87",
   "metadata": {},
   "outputs": [],
   "source": [
    "cs_team.head()"
   ]
  },
  {
   "cell_type": "raw",
   "id": "e71cd7f6",
   "metadata": {},
   "source": [
    "Data above shows very solid data quality "
   ]
  },
  {
   "cell_type": "code",
   "execution_count": null,
   "id": "15b24272",
   "metadata": {},
   "outputs": [],
   "source": [
    "start_year = 2008\n",
    "end_year = 2009\n",
    "\n",
    "team_stats_combined_df = pd.DataFrame()\n",
    "\n",
    "for i in range(12) :\n",
    "  team_stats_file_path = '/Users/Shawn/Documents/UNH_ML_SLF/MLassignments/UNH-Repo/DS_Guided_Capstone_2_Repo/virenv/team_stats/' + str(start_year) + \"-\" + str(end_year) + '.csv'\n",
    "  \n",
    "  team_stats_combined_df = team_stats_combined_df.append(pd.read_csv(team_stats_file_path, index_col = 0))\n",
    "  \n",
    "  start_year = start_year + 1\n",
    "  end_year = end_year + 1"
   ]
  },
  {
   "cell_type": "code",
   "execution_count": null,
   "id": "890ed4aa",
   "metadata": {
    "scrolled": true
   },
   "outputs": [],
   "source": [
    "team_stats_combined_df.describe()"
   ]
  },
  {
   "cell_type": "code",
   "execution_count": null,
   "id": "e1c56a3a",
   "metadata": {
    "scrolled": true
   },
   "outputs": [],
   "source": [
    "team_stats_combined_df.isnull().sum()!=0"
   ]
  },
  {
   "cell_type": "raw",
   "id": "c8c1b589",
   "metadata": {},
   "source": [
    "The list of columns is too long to see if there are any NaN in any of the columns."
   ]
  },
  {
   "cell_type": "code",
   "execution_count": null,
   "id": "c524d46a",
   "metadata": {},
   "outputs": [],
   "source": [
    "team_stats_combined_df.columns[team_stats_combined_df.isnull().any()].tolist()"
   ]
  },
  {
   "cell_type": "raw",
   "id": "8383b016",
   "metadata": {},
   "source": [
    "Calling a list of columns that potentially has NaN, we see that no columns were listed. \n",
    "\n",
    "As expected, we are NaN free from in this dataset. Teams don't get benched. "
   ]
  },
  {
   "cell_type": "code",
   "execution_count": null,
   "id": "ccfff8d3",
   "metadata": {},
   "outputs": [],
   "source": [
    "#Dataset from prior investigation - NBA Combined Player Stats\n",
    "#website - \"https://towardsdatascience.com/predicting-the-outcome-of-nba-games-with-machine-learning-a810bb768f20\"\n",
    "\n",
    "ps_player = pd.read_csv('NBA_Combined_Player_Stats.csv', index_col= 0)"
   ]
  },
  {
   "cell_type": "code",
   "execution_count": null,
   "id": "13783118",
   "metadata": {},
   "outputs": [],
   "source": [
    "ps_player.head()"
   ]
  },
  {
   "cell_type": "code",
   "execution_count": null,
   "id": "62cd49c7",
   "metadata": {},
   "outputs": [],
   "source": [
    "ps_player.info()"
   ]
  },
  {
   "cell_type": "raw",
   "id": "c9786271",
   "metadata": {},
   "source": [
    "For player stats, there are 34 that cover each players statistical production for each game. In our own data, we hope to acquire at least the same columns."
   ]
  },
  {
   "cell_type": "code",
   "execution_count": null,
   "id": "6e798376",
   "metadata": {},
   "outputs": [],
   "source": [
    "## 2.2 REVIEWING PRIOR INVESTIGATION'S TEAM STATISTICS "
   ]
  },
  {
   "cell_type": "code",
   "execution_count": null,
   "id": "96c9b516",
   "metadata": {},
   "outputs": [],
   "source": [
    "#Dataset from prior investigation - NBA Combined Team Stats \n",
    "#website - \"https://towardsdatascience.com/predicting-the-outcome-of-nba-games-with-machine-learning-a810bb768f20\"\n",
    "\n",
    "ps_team = pd.read_csv('/Users/Shawn/Documents/UNH_ML_SLF/MLassignments/UNH-Repo/DS_Guided_Capstone_2_Repo/virenv/NBA_Combined_Team_Stats.csv', index_col=0)"
   ]
  },
  {
   "cell_type": "code",
   "execution_count": null,
   "id": "ebb91486",
   "metadata": {},
   "outputs": [],
   "source": [
    "ps_team.info()"
   ]
  },
  {
   "cell_type": "code",
   "execution_count": null,
   "id": "aa09b1df",
   "metadata": {
    "scrolled": true
   },
   "outputs": [],
   "source": [
    "ps_team.head()"
   ]
  },
  {
   "cell_type": "code",
   "execution_count": null,
   "id": "1b25d51b",
   "metadata": {},
   "outputs": [],
   "source": [
    "ps_team.columns.to_list()"
   ]
  },
  {
   "cell_type": "raw",
   "id": "78c1a9a2",
   "metadata": {},
   "source": [
    "This may seem extensive, and as we progress towards EDA we will review if all is necessary. "
   ]
  }
 ],
 "metadata": {
  "kernelspec": {
   "display_name": "venv",
   "language": "python",
   "name": "venv"
  },
  "language_info": {
   "codemirror_mode": {
    "name": "ipython",
    "version": 3
   },
   "file_extension": ".py",
   "mimetype": "text/x-python",
   "name": "python",
   "nbconvert_exporter": "python",
   "pygments_lexer": "ipython3",
   "version": "3.8.10"
  }
 },
 "nbformat": 4,
 "nbformat_minor": 5
}
